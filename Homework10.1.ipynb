{
 "cells": [
  {
   "cell_type": "code",
   "execution_count": 1,
   "metadata": {},
   "outputs": [
    {
     "name": "stderr",
     "output_type": "stream",
     "text": [
      "Using TensorFlow backend.\n"
     ]
    }
   ],
   "source": [
    "%matplotlib inline\n",
    "import numpy as np\n",
    "import matplotlib.pyplot as plt\n",
    "from ipywidgets import interact_manual\n",
    "import pandas as pd\n",
    "from keras.utils import np_utils\n",
    "from keras.models import Sequential\n",
    "from keras.optimizers import SGD\n",
    "from keras.optimizers import Adagrad\n",
    "from keras.models import Model\n",
    "from keras.layers import Input\n",
    "from keras.layers import concatenate, add\n",
    "from keras.datasets import imdb\n",
    "from keras.preprocessing import sequence\n",
    "from keras.layers import Dense,Embedding, LSTM, Dropout, Activation"
   ]
  },
  {
   "cell_type": "markdown",
   "metadata": {},
   "source": [
    "# 先將資料弄出來並且處理好"
   ]
  },
  {
   "cell_type": "code",
   "execution_count": 37,
   "metadata": {},
   "outputs": [],
   "source": [
    "(x_train, y_train), (x_test, y_test) = imdb.load_data(num_words=10000)"
   ]
  },
  {
   "cell_type": "code",
   "execution_count": 3,
   "metadata": {},
   "outputs": [
    {
     "name": "stdout",
     "output_type": "stream",
     "text": [
      "訓練資料: 25000\n",
      "測試資料: 25000\n"
     ]
    }
   ],
   "source": [
    "print(\"訓練資料:\", len(x_train))\n",
    "print(\"測試資料:\", len(x_test))"
   ]
  },
  {
   "cell_type": "code",
   "execution_count": 38,
   "metadata": {},
   "outputs": [],
   "source": [
    "x_train = sequence.pad_sequences(x_train, maxlen=150)\n",
    "x_test = sequence.pad_sequences(x_test, maxlen=150)"
   ]
  },
  {
   "cell_type": "code",
   "execution_count": 5,
   "metadata": {},
   "outputs": [
    {
     "data": {
      "text/plain": [
       "(25000, 150)"
      ]
     },
     "execution_count": 5,
     "metadata": {},
     "output_type": "execute_result"
    }
   ],
   "source": [
    "x_train.shape"
   ]
  },
  {
   "cell_type": "code",
   "execution_count": 8,
   "metadata": {},
   "outputs": [],
   "source": [
    "model = Sequential()\n",
    "N=300\n",
    "K=50"
   ]
  },
  {
   "cell_type": "markdown",
   "metadata": {},
   "source": [
    "# 第一次弄，弄出了91%的成績，測試資料83%"
   ]
  },
  {
   "cell_type": "code",
   "execution_count": 9,
   "metadata": {},
   "outputs": [
    {
     "name": "stdout",
     "output_type": "stream",
     "text": [
      "_________________________________________________________________\n",
      "Layer (type)                 Output Shape              Param #   \n",
      "=================================================================\n",
      "embedding_1 (Embedding)      (None, None, 300)         3000000   \n",
      "_________________________________________________________________\n",
      "dropout_1 (Dropout)          (None, None, 300)         0         \n",
      "_________________________________________________________________\n",
      "lstm_1 (LSTM)                (None, 50)                70200     \n",
      "_________________________________________________________________\n",
      "dropout_2 (Dropout)          (None, 50)                0         \n",
      "_________________________________________________________________\n",
      "dense_1 (Dense)              (None, 1)                 51        \n",
      "=================================================================\n",
      "Total params: 3,070,251\n",
      "Trainable params: 3,070,251\n",
      "Non-trainable params: 0\n",
      "_________________________________________________________________\n"
     ]
    }
   ],
   "source": [
    "model.add(Embedding(10000, N))\n",
    "model.add(Dropout(0.4))\n",
    "\n",
    "model.add(LSTM(K))\n",
    "model.add(Dropout(0.2))\n",
    "\n",
    "model.add(Dense(1, activation='hard_sigmoid'))\n",
    "\n",
    "model.summary()"
   ]
  },
  {
   "cell_type": "code",
   "execution_count": 10,
   "metadata": {},
   "outputs": [],
   "source": [
    "model.compile(loss='binary_crossentropy', optimizer='adam', metrics=['accuracy'])"
   ]
  },
  {
   "cell_type": "code",
   "execution_count": 11,
   "metadata": {},
   "outputs": [
    {
     "name": "stdout",
     "output_type": "stream",
     "text": [
      "Epoch 1/5\n",
      "25000/25000 [==============================] - 55s 2ms/step - loss: 0.4875 - acc: 0.7775\n",
      "Epoch 2/5\n",
      "25000/25000 [==============================] - 46s 2ms/step - loss: 0.3465 - acc: 0.8793: 19s - loss: 0.32 - ETA: 17s - loss - ETA: 15s - loss: 0.3332 - ETA: 4s - loss: 0.3409 - acc: 0.883 - ETA: 3s - loss:\n",
      "Epoch 3/5\n",
      "25000/25000 [==============================] - 47s 2ms/step - loss: 0.3794 - acc: 0.8611: 46s - loss: 0.4184 - acc: 0. - ETA: 45s - loss:  - ETA: 43s - loss: 0.4046 - acc: 0.85 - ETA: 27s - loss: 0.3859  - ETA: 6s - loss: 0.3840 - acc: 0.857 - ETA: 6s - loss: 0.3850 - acc: 0. - ETA: 5s - loss: 0.3845 - acc: 0.858 - ETA: 5s - loss: 0.3838 - acc: 0 - ETA: 4s - loss: 0.3816 - a - ETA: 2s - loss: 0.3815 - acc: 0 - ETA: 1s - loss: 0.3817 - acc:  - ETA: 0s - loss: 0.3808 - acc: 0.\n",
      "Epoch 4/5\n",
      "25000/25000 [==============================] - 49s 2ms/step - loss: 0.3082 - acc: 0.8946: 40s - loss - ETA: 35s - loss - ETA: 33s - loss: 0.2578 - a - ETA: 32s - loss: 0.2562 - ETA: 12s - loss: 0. - ETA: 10s - loss: 0 - ETA: 7s - loss: 0.3130 - acc: 0.891 - ETA: 7s - loss: 0.3125 - acc: 0.891 - ETA: 7s - loss: 0.3122 - acc:  - ETA: 6s - loss: 0.3110 - acc: 0.8 - ETA: 5s - loss: 0 - ETA: 1s - loss: 0.3100 - ac\n",
      "Epoch 5/5\n",
      "25000/25000 [==============================] - 50s 2ms/step - loss: 0.2821 - acc: 0.9138: 46s -  - ETA: 41s - loss: 0.2376 - a - ETA: 39s - loss: 0.2417 - a - ETA: 38s - loss: 0.2456 - acc: 0. - ETA: 38s - loss: 0. - ETA: 36s - loss: 0.2496 - ETA: 34s - loss: 0.2583 - acc: 0. - ETA: 34s - loss:  - ETA: 24s - loss: 0.2546 - acc: 0.92 - ETA: 23s - loss: 0.2553 - acc: 0. - ETA: 19s - loss: 0.2547 - acc: 0.92 - ETA: 19s -  - ETA: 16s - loss - ETA: 14s - loss: 0.2661 - acc - ETA: 13s - loss: 0.2669 - acc:  - ETA: 13s - loss: 0.2669 - - ETA: 11s - loss: 0. - ETA: 2s - loss: 0.2805 -\n"
     ]
    },
    {
     "data": {
      "text/plain": [
       "<keras.callbacks.History at 0x29c0ddec780>"
      ]
     },
     "execution_count": 11,
     "metadata": {},
     "output_type": "execute_result"
    }
   ],
   "source": [
    "model.fit(x_train, y_train, batch_size=100, epochs=5)"
   ]
  },
  {
   "cell_type": "code",
   "execution_count": 12,
   "metadata": {},
   "outputs": [
    {
     "name": "stdout",
     "output_type": "stream",
     "text": [
      "25000/25000 [==============================] - 3s 103us/step\n",
      "loss: 0.4380616366863251\n",
      "正確率: 0.8325600028038025\n"
     ]
    }
   ],
   "source": [
    "score = model.evaluate(x_test, y_test, batch_size=1000)\n",
    "print('loss:',score[0] )\n",
    "print('正確率:',score[1])"
   ]
  },
  {
   "cell_type": "markdown",
   "metadata": {},
   "source": [
    "# 稍微調整一下drop out function的參數結果over fitting很嚴重"
   ]
  },
  {
   "cell_type": "code",
   "execution_count": 16,
   "metadata": {},
   "outputs": [],
   "source": [
    "model2 = Sequential()"
   ]
  },
  {
   "cell_type": "code",
   "execution_count": 17,
   "metadata": {},
   "outputs": [
    {
     "name": "stdout",
     "output_type": "stream",
     "text": [
      "_________________________________________________________________\n",
      "Layer (type)                 Output Shape              Param #   \n",
      "=================================================================\n",
      "embedding_2 (Embedding)      (None, None, 300)         3000000   \n",
      "_________________________________________________________________\n",
      "dropout_3 (Dropout)          (None, None, 300)         0         \n",
      "_________________________________________________________________\n",
      "lstm_2 (LSTM)                (None, 50)                70200     \n",
      "_________________________________________________________________\n",
      "dropout_4 (Dropout)          (None, 50)                0         \n",
      "_________________________________________________________________\n",
      "dense_2 (Dense)              (None, 1)                 51        \n",
      "=================================================================\n",
      "Total params: 3,070,251\n",
      "Trainable params: 3,070,251\n",
      "Non-trainable params: 0\n",
      "_________________________________________________________________\n"
     ]
    }
   ],
   "source": [
    "model2.add(Embedding(10000, N))\n",
    "model2.add(Dropout(0.3))\n",
    "\n",
    "model2.add(LSTM(K))\n",
    "model2.add(Dropout(0.4))\n",
    "\n",
    "model2.add(Dense(1, activation='hard_sigmoid'))\n",
    "\n",
    "model2.summary()"
   ]
  },
  {
   "cell_type": "code",
   "execution_count": 18,
   "metadata": {},
   "outputs": [],
   "source": [
    "model2.compile(loss='binary_crossentropy', optimizer='adam', metrics=['accuracy'])"
   ]
  },
  {
   "cell_type": "code",
   "execution_count": 20,
   "metadata": {},
   "outputs": [
    {
     "name": "stdout",
     "output_type": "stream",
     "text": [
      "Epoch 1/5\n",
      "25000/25000 [==============================] - 44s 2ms/step - loss: 0.4863 - acc: 0.7833: 5s - loss: 0.4845 - ac - ETA: 4s - loss: 0.4850 -  - ETA: 2s - loss: 0.4849 -\n",
      "Epoch 2/5\n",
      "25000/25000 [==============================] - 49s 2ms/step - loss: 0.4522 - acc: 0.8164: 37s - lo - ETA: 35s - loss: 0.3445 - - ETA: 34s - loss: 0.3445 - ETA:  - ETA: 30s - loss: 0.3738 - acc: 0.86 - ETA: 30s - loss: 0.37 - ETA: 28s - loss: 0.3902 - acc - ETA: 24s - loss:  - ETA: 22s - loss: 0.4174 - a - ETA: 21s - loss - ETA - ETA: 16s - lo - ETA: 10s - loss:  - ETA: 8s - ETA: 2s - loss: 0.4519 \n",
      "Epoch 3/5\n",
      "25000/25000 [==============================] - 48s 2ms/step - loss: 0.3857 - acc: 0.8626: 42s - loss: 0.4166 - acc - ETA: 41s - loss: 0.40 - ETA: 40s - loss:  - ETA: 38s - loss: 0.3990 - - E - ETA: 34s - loss: 0.38 - ETA - ETA: 18s - loss: 0.3932 - ETA: 13s - lo - ETA: 1 - ETA: 6s - loss: 0.3850 - acc: 0.863 - ETA: 6s - loss: 0.3848 - acc: - ETA: 4s - loss: 0.3864 - acc - ETA: 3s - loss: 0.3\n",
      "Epoch 4/5\n",
      "25000/25000 [==============================] - 50s 2ms/step - loss: 0.3355 - acc: 0.8902: 37s - loss: 0. - ETA: 35s - lo - ETA: 33s -  - ETA: 18s - loss: 0.3418 - acc:  - ETA: 17s - lo - ETA: 15s\n",
      "Epoch 5/5\n",
      "25000/25000 [==============================] - 50s 2ms/step - loss: 0.2897 - acc: 0.9097TA: 5s - loss: 0.2766 -  - ETA: 3s - loss: 0.2808 - - ETA: 0s - loss: 0.2871 - acc: 0.\n"
     ]
    },
    {
     "data": {
      "text/plain": [
       "<keras.callbacks.History at 0x29c24c0eb00>"
      ]
     },
     "execution_count": 20,
     "metadata": {},
     "output_type": "execute_result"
    }
   ],
   "source": [
    "model2.fit(x_train, y_train, batch_size=100, epochs=5)"
   ]
  },
  {
   "cell_type": "code",
   "execution_count": 21,
   "metadata": {},
   "outputs": [
    {
     "name": "stdout",
     "output_type": "stream",
     "text": [
      "25000/25000 [==============================] - 3s 105us/step\n",
      "loss: 0.46731419205665586\n",
      "正確率: 0.7961199975013733\n"
     ]
    }
   ],
   "source": [
    "score = model2.evaluate(x_test, y_test, batch_size=1000)\n",
    "print('loss:',score[0] )\n",
    "print('正確率:',score[1])"
   ]
  },
  {
   "cell_type": "markdown",
   "metadata": {},
   "source": [
    "# 換成relu之後變得不會overfitting了但是accuracy拉不起來"
   ]
  },
  {
   "cell_type": "code",
   "execution_count": 23,
   "metadata": {},
   "outputs": [],
   "source": [
    "model3 = Sequential()"
   ]
  },
  {
   "cell_type": "code",
   "execution_count": 24,
   "metadata": {},
   "outputs": [
    {
     "name": "stdout",
     "output_type": "stream",
     "text": [
      "_________________________________________________________________\n",
      "Layer (type)                 Output Shape              Param #   \n",
      "=================================================================\n",
      "embedding_3 (Embedding)      (None, None, 300)         3000000   \n",
      "_________________________________________________________________\n",
      "dropout_5 (Dropout)          (None, None, 300)         0         \n",
      "_________________________________________________________________\n",
      "lstm_3 (LSTM)                (None, 50)                70200     \n",
      "_________________________________________________________________\n",
      "dropout_6 (Dropout)          (None, 50)                0         \n",
      "_________________________________________________________________\n",
      "dense_3 (Dense)              (None, 1)                 51        \n",
      "=================================================================\n",
      "Total params: 3,070,251\n",
      "Trainable params: 3,070,251\n",
      "Non-trainable params: 0\n",
      "_________________________________________________________________\n"
     ]
    }
   ],
   "source": [
    "model3.add(Embedding(10000, N))\n",
    "model3.add(Dropout(0.5))\n",
    "\n",
    "model3.add(LSTM(K))\n",
    "model3.add(Dropout(0.1))\n",
    "\n",
    "model3.add(Dense(1, activation='relu'))\n",
    "\n",
    "model3.summary()"
   ]
  },
  {
   "cell_type": "code",
   "execution_count": 26,
   "metadata": {},
   "outputs": [],
   "source": [
    "model3.compile(loss='binary_crossentropy', optimizer='adamax', metrics=['accuracy'])"
   ]
  },
  {
   "cell_type": "code",
   "execution_count": 27,
   "metadata": {},
   "outputs": [
    {
     "name": "stdout",
     "output_type": "stream",
     "text": [
      "Epoch 1/5\n",
      "25000/25000 [==============================] - 45s 2ms/step - loss: 0.6416 - acc: 0.6939: 30s - loss: 0.8181 - a - E - ETA - ETA: \n",
      "Epoch 2/5\n",
      "25000/25000 [==============================] - 55s 2ms/step - loss: 0.4379 - acc: 0.7920\n",
      "Epoch 3/5\n",
      "25000/25000 [==============================] - 57s 2ms/step - loss: 0.4129 - acc: 0.8067\n",
      "Epoch 4/5\n",
      "25000/25000 [==============================] - 58s 2ms/step - loss: 0.3526 - acc: 0.8206\n",
      "Epoch 5/5\n",
      "25000/25000 [==============================] - 51s 2ms/step - loss: 0.3163 - acc: 0.8244: 3s - loss: 0.3135 - acc: 0.8 - ETA: 3s - loss: 0.313\n"
     ]
    },
    {
     "data": {
      "text/plain": [
       "<keras.callbacks.History at 0x29c24c0ec50>"
      ]
     },
     "execution_count": 27,
     "metadata": {},
     "output_type": "execute_result"
    }
   ],
   "source": [
    "model3.fit(x_train, y_train, batch_size=100, epochs=5)"
   ]
  },
  {
   "cell_type": "code",
   "execution_count": 28,
   "metadata": {},
   "outputs": [
    {
     "name": "stdout",
     "output_type": "stream",
     "text": [
      "25000/25000 [==============================] - 3s 106us/step\n",
      "loss: 0.4596052122116089\n",
      "正確率: 0.8086800003051757\n"
     ]
    }
   ],
   "source": [
    "score = model3.evaluate(x_test, y_test, batch_size=1000)\n",
    "print('loss:',score[0] )\n",
    "print('正確率:',score[1])"
   ]
  },
  {
   "cell_type": "code",
   "execution_count": null,
   "metadata": {},
   "outputs": [],
   "source": []
  },
  {
   "cell_type": "code",
   "execution_count": 51,
   "metadata": {},
   "outputs": [],
   "source": [
    "(x_train, y_train), (x_test, y_test) = imdb.load_data(num_words=10000)"
   ]
  },
  {
   "cell_type": "code",
   "execution_count": 52,
   "metadata": {},
   "outputs": [],
   "source": [
    "x_train = sequence.pad_sequences(x_train, maxlen=150)\n",
    "x_test = sequence.pad_sequences(x_test, maxlen=150)"
   ]
  },
  {
   "cell_type": "markdown",
   "metadata": {},
   "source": [
    "# selu基本上沒有overfitting但是準確度很殘念得維持在75%"
   ]
  },
  {
   "cell_type": "code",
   "execution_count": 53,
   "metadata": {},
   "outputs": [],
   "source": [
    "model4 = Sequential()"
   ]
  },
  {
   "cell_type": "code",
   "execution_count": 54,
   "metadata": {},
   "outputs": [
    {
     "name": "stdout",
     "output_type": "stream",
     "text": [
      "_________________________________________________________________\n",
      "Layer (type)                 Output Shape              Param #   \n",
      "=================================================================\n",
      "embedding_9 (Embedding)      (None, None, 300)         3000000   \n",
      "_________________________________________________________________\n",
      "dropout_17 (Dropout)         (None, None, 300)         0         \n",
      "_________________________________________________________________\n",
      "lstm_9 (LSTM)                (None, 50)                70200     \n",
      "_________________________________________________________________\n",
      "dropout_18 (Dropout)         (None, 50)                0         \n",
      "_________________________________________________________________\n",
      "dense_9 (Dense)              (None, 1)                 51        \n",
      "=================================================================\n",
      "Total params: 3,070,251\n",
      "Trainable params: 3,070,251\n",
      "Non-trainable params: 0\n",
      "_________________________________________________________________\n"
     ]
    }
   ],
   "source": [
    "model4.add(Embedding(10000, N))\n",
    "model4.add(Dropout(0.35))\n",
    "\n",
    "model4.add(LSTM(K))\n",
    "model4.add(Dropout(0.2))\n",
    "\n",
    "model4.add(Dense(1, activation='selu'))\n",
    "\n",
    "model4.summary()"
   ]
  },
  {
   "cell_type": "code",
   "execution_count": 55,
   "metadata": {},
   "outputs": [],
   "source": [
    "model4.compile(loss='binary_crossentropy', optimizer='adamax', metrics=['accuracy'])"
   ]
  },
  {
   "cell_type": "code",
   "execution_count": 56,
   "metadata": {},
   "outputs": [
    {
     "name": "stdout",
     "output_type": "stream",
     "text": [
      "Epoch 1/5\n",
      "25000/25000 [==============================] - 46s 2ms/step - loss: 0.6527 - acc: 0.6764: 2s - loss: 0.6602 \n",
      "Epoch 2/5\n",
      "25000/25000 [==============================] - 47s 2ms/step - loss: 0.4486 - acc: 0.7581: 37s -  - ETA: 24s -  - ETA: 14s - loss: 0.4382 - acc: 0.76 - ETA: 13s - loss: 0. \n",
      "Epoch 3/5\n",
      "25000/25000 [==============================] - 49s 2ms/step - loss: 0.4223 - acc: 0.7775: 47s - loss: 0.3210 - ETA: 46s  - ETA: 43s - loss: 0.3530 - acc - ETA: 42s - loss: 0. - ETA: 41s - loss: 0.37 - ETA: 40s -  - ETA: 33s -  - ETA: 22s - loss: 0.4431 - ETA: 21s - loss: 0.4410 - acc: 0. - ETA - ETA: 13 - ETA: 10s - loss: 0.4250 - acc:  - ETA: 10s - loss: 0 - ETA: 7s - loss: 0.4270 - acc: 0 - ETA: 6s - loss: 0.4286 - acc - ETA: 4s - loss: 0.4255 - a - ETA: 2s - loss: 0.4249 \n",
      "Epoch 4/5\n",
      "25000/25000 [==============================] - 50s 2ms/step - loss: 0.3771 - acc: 0.7572: 15s - loss - ETA: 13s - ETA: 2s - loss: 0.3719 - acc: 0.7 - ETA: 2s - loss: 0.3736 - \n",
      "Epoch 5/5\n",
      "25000/25000 [==============================] - 49s 2ms/step - loss: 0.3321 - acc: 0.7571\n"
     ]
    },
    {
     "data": {
      "text/plain": [
       "<keras.callbacks.History at 0x29d10734fd0>"
      ]
     },
     "execution_count": 56,
     "metadata": {},
     "output_type": "execute_result"
    }
   ],
   "source": [
    "model4.fit(x_train, y_train, batch_size=100, epochs=5)"
   ]
  },
  {
   "cell_type": "code",
   "execution_count": 57,
   "metadata": {},
   "outputs": [
    {
     "name": "stdout",
     "output_type": "stream",
     "text": [
      "25000/25000 [==============================] - 3s 113us/step\n",
      "loss: 0.48691887497901915\n",
      "正確率: 0.7544400024414063\n"
     ]
    }
   ],
   "source": [
    "score = model4.evaluate(x_test, y_test, batch_size=1000)\n",
    "print('loss:',score[0] )\n",
    "print('正確率:',score[1])"
   ]
  },
  {
   "cell_type": "markdown",
   "metadata": {},
   "source": [
    "# 用relu 重新再train一次結果已經固定在85%了"
   ]
  },
  {
   "cell_type": "code",
   "execution_count": 58,
   "metadata": {},
   "outputs": [
    {
     "name": "stdout",
     "output_type": "stream",
     "text": [
      "Epoch 1/5\n",
      "25000/25000 [==============================] - 47s 2ms/step - loss: 0.3009 - acc: 0.8146: 26s - loss: 0.2776 - - ETA: 25s - loss: 0.2767 - acc: 0.82 - - ETA:  - ETA: 19s  - ETA: 17s - loss: 0.2754 - - E - ETA: 0s - loss: 0.3010 - acc: 0.\n",
      "Epoch 2/5\n",
      "25000/25000 [==============================] - 50s 2ms/step - loss: 0.3121 - acc: 0.8438: 27s \n",
      "Epoch 3/5\n",
      "25000/25000 [==============================] - 50s 2ms/step - loss: 0.3677 - acc: 0.8394\n",
      "Epoch 4/5\n",
      "25000/25000 [==============================] - 51s 2ms/step - loss: 0.3321 - acc: 0.8430: 11s - loss\n",
      "Epoch 5/5\n",
      "25000/25000 [==============================] - 51s 2ms/step - loss: 0.2841 - acc: 0.8621\n"
     ]
    },
    {
     "data": {
      "text/plain": [
       "<keras.callbacks.History at 0x29d10734630>"
      ]
     },
     "execution_count": 58,
     "metadata": {},
     "output_type": "execute_result"
    }
   ],
   "source": [
    "model3.fit(x_train, y_train, batch_size=100, epochs=5)"
   ]
  },
  {
   "cell_type": "markdown",
   "metadata": {},
   "source": [
    "print('loss:',score[0] )\n",
    "print('正確率:',score[1])"
   ]
  },
  {
   "cell_type": "markdown",
   "metadata": {},
   "source": [
    "# 最後只好用第一次最好的結果重新再train一次最高93% testing data 83%"
   ]
  },
  {
   "cell_type": "code",
   "execution_count": 60,
   "metadata": {},
   "outputs": [
    {
     "name": "stdout",
     "output_type": "stream",
     "text": [
      "Epoch 1/5\n",
      "25000/25000 [==============================] - 48s 2ms/step - loss: 0.3060 - acc: 0.8974: 39s -  - ETA: 37s - loss: 0.2486 - acc - ETA: 36s - loss: 0.245 - ETA: 1s - loss: 0.3071 - ac\n",
      "Epoch 2/5\n",
      "25000/25000 [==============================] - 50s 2ms/step - loss: 0.2725 - acc: 0.9166: 4s - loss: \n",
      "Epoch 3/5\n",
      "25000/25000 [==============================] - 51s 2ms/step - loss: 0.3755 - acc: 0.8546\n",
      "Epoch 4/5\n",
      "25000/25000 [==============================] - 51s 2ms/step - loss: 0.2649 - acc: 0.9135: 10s - loss: 0.2492 - a - ETA:  - ETA: 2s - loss: 0.2675 \n",
      "Epoch 5/5\n",
      "25000/25000 [==============================] - 51s 2ms/step - loss: 0.2148 - acc: 0.9368: 9s - loss: 0.2145 - acc:\n"
     ]
    },
    {
     "data": {
      "text/plain": [
       "<keras.callbacks.History at 0x29d16cd6898>"
      ]
     },
     "execution_count": 60,
     "metadata": {},
     "output_type": "execute_result"
    }
   ],
   "source": [
    "model.fit(x_train, y_train, batch_size=100, epochs=5)"
   ]
  },
  {
   "cell_type": "code",
   "execution_count": 61,
   "metadata": {},
   "outputs": [
    {
     "name": "stdout",
     "output_type": "stream",
     "text": [
      "25000/25000 [==============================] - 2s 99us/step\n",
      "loss: 0.7653888559341431\n",
      "正確率: 0.839720003604889\n"
     ]
    }
   ],
   "source": [
    "score = model.evaluate(x_test, y_test, batch_size=1000)\n",
    "print('loss:',score[0] )\n",
    "print('正確率:',score[1])"
   ]
  },
  {
   "cell_type": "code",
   "execution_count": null,
   "metadata": {},
   "outputs": [],
   "source": []
  }
 ],
 "metadata": {
  "kernelspec": {
   "display_name": "Python (tensorflow-gpu4)",
   "language": "python",
   "name": "tensorflow-gpu"
  },
  "language_info": {
   "codemirror_mode": {
    "name": "ipython",
    "version": 3
   },
   "file_extension": ".py",
   "mimetype": "text/x-python",
   "name": "python",
   "nbconvert_exporter": "python",
   "pygments_lexer": "ipython3",
   "version": "3.6.8"
  }
 },
 "nbformat": 4,
 "nbformat_minor": 2
}
