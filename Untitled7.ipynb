{
 "cells": [
  {
   "cell_type": "code",
   "execution_count": 1,
   "metadata": {},
   "outputs": [],
   "source": [
    "from bs4 import BeautifulSoup\n",
    "import requests"
   ]
  },
  {
   "cell_type": "code",
   "execution_count": 3,
   "metadata": {},
   "outputs": [
    {
     "ename": "SSLError",
     "evalue": "HTTPSConnectionPool(host='law.judicial.gov.tw', port=443): Max retries exceeded with url: /controls/GetResultCount.ashx?ty=JUDBOOK&q=61f3f740a1a2ec776ea96c12c146a2d6 (Caused by SSLError(SSLError(\"bad handshake: Error([('SSL routines', 'tls_process_server_certificate', 'certificate verify failed')],)\",),))",
     "output_type": "error",
     "traceback": [
      "\u001b[1;31m---------------------------------------------------------------------------\u001b[0m",
      "\u001b[1;31mError\u001b[0m                                     Traceback (most recent call last)",
      "\u001b[1;32mD:\\python\\envs\\py36\\lib\\site-packages\\urllib3\\contrib\\pyopenssl.py\u001b[0m in \u001b[0;36mwrap_socket\u001b[1;34m(self, sock, server_side, do_handshake_on_connect, suppress_ragged_eofs, server_hostname)\u001b[0m\n\u001b[0;32m    452\u001b[0m             \u001b[1;32mtry\u001b[0m\u001b[1;33m:\u001b[0m\u001b[1;33m\u001b[0m\u001b[1;33m\u001b[0m\u001b[0m\n\u001b[1;32m--> 453\u001b[1;33m                 \u001b[0mcnx\u001b[0m\u001b[1;33m.\u001b[0m\u001b[0mdo_handshake\u001b[0m\u001b[1;33m(\u001b[0m\u001b[1;33m)\u001b[0m\u001b[1;33m\u001b[0m\u001b[1;33m\u001b[0m\u001b[0m\n\u001b[0m\u001b[0;32m    454\u001b[0m             \u001b[1;32mexcept\u001b[0m \u001b[0mOpenSSL\u001b[0m\u001b[1;33m.\u001b[0m\u001b[0mSSL\u001b[0m\u001b[1;33m.\u001b[0m\u001b[0mWantReadError\u001b[0m\u001b[1;33m:\u001b[0m\u001b[1;33m\u001b[0m\u001b[1;33m\u001b[0m\u001b[0m\n",
      "\u001b[1;32mD:\\python\\envs\\py36\\lib\\site-packages\\OpenSSL\\SSL.py\u001b[0m in \u001b[0;36mdo_handshake\u001b[1;34m(self)\u001b[0m\n\u001b[0;32m   1914\u001b[0m         \u001b[0mresult\u001b[0m \u001b[1;33m=\u001b[0m \u001b[0m_lib\u001b[0m\u001b[1;33m.\u001b[0m\u001b[0mSSL_do_handshake\u001b[0m\u001b[1;33m(\u001b[0m\u001b[0mself\u001b[0m\u001b[1;33m.\u001b[0m\u001b[0m_ssl\u001b[0m\u001b[1;33m)\u001b[0m\u001b[1;33m\u001b[0m\u001b[1;33m\u001b[0m\u001b[0m\n\u001b[1;32m-> 1915\u001b[1;33m         \u001b[0mself\u001b[0m\u001b[1;33m.\u001b[0m\u001b[0m_raise_ssl_error\u001b[0m\u001b[1;33m(\u001b[0m\u001b[0mself\u001b[0m\u001b[1;33m.\u001b[0m\u001b[0m_ssl\u001b[0m\u001b[1;33m,\u001b[0m \u001b[0mresult\u001b[0m\u001b[1;33m)\u001b[0m\u001b[1;33m\u001b[0m\u001b[1;33m\u001b[0m\u001b[0m\n\u001b[0m\u001b[0;32m   1916\u001b[0m \u001b[1;33m\u001b[0m\u001b[0m\n",
      "\u001b[1;32mD:\\python\\envs\\py36\\lib\\site-packages\\OpenSSL\\SSL.py\u001b[0m in \u001b[0;36m_raise_ssl_error\u001b[1;34m(self, ssl, result)\u001b[0m\n\u001b[0;32m   1646\u001b[0m         \u001b[1;32melse\u001b[0m\u001b[1;33m:\u001b[0m\u001b[1;33m\u001b[0m\u001b[1;33m\u001b[0m\u001b[0m\n\u001b[1;32m-> 1647\u001b[1;33m             \u001b[0m_raise_current_error\u001b[0m\u001b[1;33m(\u001b[0m\u001b[1;33m)\u001b[0m\u001b[1;33m\u001b[0m\u001b[1;33m\u001b[0m\u001b[0m\n\u001b[0m\u001b[0;32m   1648\u001b[0m \u001b[1;33m\u001b[0m\u001b[0m\n",
      "\u001b[1;32mD:\\python\\envs\\py36\\lib\\site-packages\\OpenSSL\\_util.py\u001b[0m in \u001b[0;36mexception_from_error_queue\u001b[1;34m(exception_type)\u001b[0m\n\u001b[0;32m     53\u001b[0m \u001b[1;33m\u001b[0m\u001b[0m\n\u001b[1;32m---> 54\u001b[1;33m     \u001b[1;32mraise\u001b[0m \u001b[0mexception_type\u001b[0m\u001b[1;33m(\u001b[0m\u001b[0merrors\u001b[0m\u001b[1;33m)\u001b[0m\u001b[1;33m\u001b[0m\u001b[1;33m\u001b[0m\u001b[0m\n\u001b[0m\u001b[0;32m     55\u001b[0m \u001b[1;33m\u001b[0m\u001b[0m\n",
      "\u001b[1;31mError\u001b[0m: [('SSL routines', 'tls_process_server_certificate', 'certificate verify failed')]",
      "\nDuring handling of the above exception, another exception occurred:\n",
      "\u001b[1;31mSSLError\u001b[0m                                  Traceback (most recent call last)",
      "\u001b[1;32mD:\\python\\envs\\py36\\lib\\site-packages\\urllib3\\connectionpool.py\u001b[0m in \u001b[0;36murlopen\u001b[1;34m(self, method, url, body, headers, retries, redirect, assert_same_host, timeout, pool_timeout, release_conn, chunked, body_pos, **response_kw)\u001b[0m\n\u001b[0;32m    599\u001b[0m                                                   \u001b[0mbody\u001b[0m\u001b[1;33m=\u001b[0m\u001b[0mbody\u001b[0m\u001b[1;33m,\u001b[0m \u001b[0mheaders\u001b[0m\u001b[1;33m=\u001b[0m\u001b[0mheaders\u001b[0m\u001b[1;33m,\u001b[0m\u001b[1;33m\u001b[0m\u001b[1;33m\u001b[0m\u001b[0m\n\u001b[1;32m--> 600\u001b[1;33m                                                   chunked=chunked)\n\u001b[0m\u001b[0;32m    601\u001b[0m \u001b[1;33m\u001b[0m\u001b[0m\n",
      "\u001b[1;32mD:\\python\\envs\\py36\\lib\\site-packages\\urllib3\\connectionpool.py\u001b[0m in \u001b[0;36m_make_request\u001b[1;34m(self, conn, method, url, timeout, chunked, **httplib_request_kw)\u001b[0m\n\u001b[0;32m    342\u001b[0m         \u001b[1;32mtry\u001b[0m\u001b[1;33m:\u001b[0m\u001b[1;33m\u001b[0m\u001b[1;33m\u001b[0m\u001b[0m\n\u001b[1;32m--> 343\u001b[1;33m             \u001b[0mself\u001b[0m\u001b[1;33m.\u001b[0m\u001b[0m_validate_conn\u001b[0m\u001b[1;33m(\u001b[0m\u001b[0mconn\u001b[0m\u001b[1;33m)\u001b[0m\u001b[1;33m\u001b[0m\u001b[1;33m\u001b[0m\u001b[0m\n\u001b[0m\u001b[0;32m    344\u001b[0m         \u001b[1;32mexcept\u001b[0m \u001b[1;33m(\u001b[0m\u001b[0mSocketTimeout\u001b[0m\u001b[1;33m,\u001b[0m \u001b[0mBaseSSLError\u001b[0m\u001b[1;33m)\u001b[0m \u001b[1;32mas\u001b[0m \u001b[0me\u001b[0m\u001b[1;33m:\u001b[0m\u001b[1;33m\u001b[0m\u001b[1;33m\u001b[0m\u001b[0m\n",
      "\u001b[1;32mD:\\python\\envs\\py36\\lib\\site-packages\\urllib3\\connectionpool.py\u001b[0m in \u001b[0;36m_validate_conn\u001b[1;34m(self, conn)\u001b[0m\n\u001b[0;32m    838\u001b[0m         \u001b[1;32mif\u001b[0m \u001b[1;32mnot\u001b[0m \u001b[0mgetattr\u001b[0m\u001b[1;33m(\u001b[0m\u001b[0mconn\u001b[0m\u001b[1;33m,\u001b[0m \u001b[1;34m'sock'\u001b[0m\u001b[1;33m,\u001b[0m \u001b[1;32mNone\u001b[0m\u001b[1;33m)\u001b[0m\u001b[1;33m:\u001b[0m  \u001b[1;31m# AppEngine might not have  `.sock`\u001b[0m\u001b[1;33m\u001b[0m\u001b[1;33m\u001b[0m\u001b[0m\n\u001b[1;32m--> 839\u001b[1;33m             \u001b[0mconn\u001b[0m\u001b[1;33m.\u001b[0m\u001b[0mconnect\u001b[0m\u001b[1;33m(\u001b[0m\u001b[1;33m)\u001b[0m\u001b[1;33m\u001b[0m\u001b[1;33m\u001b[0m\u001b[0m\n\u001b[0m\u001b[0;32m    840\u001b[0m \u001b[1;33m\u001b[0m\u001b[0m\n",
      "\u001b[1;32mD:\\python\\envs\\py36\\lib\\site-packages\\urllib3\\connection.py\u001b[0m in \u001b[0;36mconnect\u001b[1;34m(self)\u001b[0m\n\u001b[0;32m    343\u001b[0m             \u001b[0mserver_hostname\u001b[0m\u001b[1;33m=\u001b[0m\u001b[0mserver_hostname\u001b[0m\u001b[1;33m,\u001b[0m\u001b[1;33m\u001b[0m\u001b[1;33m\u001b[0m\u001b[0m\n\u001b[1;32m--> 344\u001b[1;33m             ssl_context=context)\n\u001b[0m\u001b[0;32m    345\u001b[0m \u001b[1;33m\u001b[0m\u001b[0m\n",
      "\u001b[1;32mD:\\python\\envs\\py36\\lib\\site-packages\\urllib3\\util\\ssl_.py\u001b[0m in \u001b[0;36mssl_wrap_socket\u001b[1;34m(sock, keyfile, certfile, cert_reqs, ca_certs, server_hostname, ssl_version, ciphers, ssl_context, ca_cert_dir)\u001b[0m\n\u001b[0;32m    343\u001b[0m         \u001b[1;32mif\u001b[0m \u001b[0mHAS_SNI\u001b[0m \u001b[1;32mand\u001b[0m \u001b[0mserver_hostname\u001b[0m \u001b[1;32mis\u001b[0m \u001b[1;32mnot\u001b[0m \u001b[1;32mNone\u001b[0m\u001b[1;33m:\u001b[0m\u001b[1;33m\u001b[0m\u001b[1;33m\u001b[0m\u001b[0m\n\u001b[1;32m--> 344\u001b[1;33m             \u001b[1;32mreturn\u001b[0m \u001b[0mcontext\u001b[0m\u001b[1;33m.\u001b[0m\u001b[0mwrap_socket\u001b[0m\u001b[1;33m(\u001b[0m\u001b[0msock\u001b[0m\u001b[1;33m,\u001b[0m \u001b[0mserver_hostname\u001b[0m\u001b[1;33m=\u001b[0m\u001b[0mserver_hostname\u001b[0m\u001b[1;33m)\u001b[0m\u001b[1;33m\u001b[0m\u001b[1;33m\u001b[0m\u001b[0m\n\u001b[0m\u001b[0;32m    345\u001b[0m \u001b[1;33m\u001b[0m\u001b[0m\n",
      "\u001b[1;32mD:\\python\\envs\\py36\\lib\\site-packages\\urllib3\\contrib\\pyopenssl.py\u001b[0m in \u001b[0;36mwrap_socket\u001b[1;34m(self, sock, server_side, do_handshake_on_connect, suppress_ragged_eofs, server_hostname)\u001b[0m\n\u001b[0;32m    458\u001b[0m             \u001b[1;32mexcept\u001b[0m \u001b[0mOpenSSL\u001b[0m\u001b[1;33m.\u001b[0m\u001b[0mSSL\u001b[0m\u001b[1;33m.\u001b[0m\u001b[0mError\u001b[0m \u001b[1;32mas\u001b[0m \u001b[0me\u001b[0m\u001b[1;33m:\u001b[0m\u001b[1;33m\u001b[0m\u001b[1;33m\u001b[0m\u001b[0m\n\u001b[1;32m--> 459\u001b[1;33m                 \u001b[1;32mraise\u001b[0m \u001b[0mssl\u001b[0m\u001b[1;33m.\u001b[0m\u001b[0mSSLError\u001b[0m\u001b[1;33m(\u001b[0m\u001b[1;34m'bad handshake: %r'\u001b[0m \u001b[1;33m%\u001b[0m \u001b[0me\u001b[0m\u001b[1;33m)\u001b[0m\u001b[1;33m\u001b[0m\u001b[1;33m\u001b[0m\u001b[0m\n\u001b[0m\u001b[0;32m    460\u001b[0m             \u001b[1;32mbreak\u001b[0m\u001b[1;33m\u001b[0m\u001b[1;33m\u001b[0m\u001b[0m\n",
      "\u001b[1;31mSSLError\u001b[0m: (\"bad handshake: Error([('SSL routines', 'tls_process_server_certificate', 'certificate verify failed')],)\",)",
      "\nDuring handling of the above exception, another exception occurred:\n",
      "\u001b[1;31mMaxRetryError\u001b[0m                             Traceback (most recent call last)",
      "\u001b[1;32mD:\\python\\envs\\py36\\lib\\site-packages\\requests\\adapters.py\u001b[0m in \u001b[0;36msend\u001b[1;34m(self, request, stream, timeout, verify, cert, proxies)\u001b[0m\n\u001b[0;32m    448\u001b[0m                     \u001b[0mretries\u001b[0m\u001b[1;33m=\u001b[0m\u001b[0mself\u001b[0m\u001b[1;33m.\u001b[0m\u001b[0mmax_retries\u001b[0m\u001b[1;33m,\u001b[0m\u001b[1;33m\u001b[0m\u001b[1;33m\u001b[0m\u001b[0m\n\u001b[1;32m--> 449\u001b[1;33m                     \u001b[0mtimeout\u001b[0m\u001b[1;33m=\u001b[0m\u001b[0mtimeout\u001b[0m\u001b[1;33m\u001b[0m\u001b[1;33m\u001b[0m\u001b[0m\n\u001b[0m\u001b[0;32m    450\u001b[0m                 )\n",
      "\u001b[1;32mD:\\python\\envs\\py36\\lib\\site-packages\\urllib3\\connectionpool.py\u001b[0m in \u001b[0;36murlopen\u001b[1;34m(self, method, url, body, headers, retries, redirect, assert_same_host, timeout, pool_timeout, release_conn, chunked, body_pos, **response_kw)\u001b[0m\n\u001b[0;32m    637\u001b[0m             retries = retries.increment(method, url, error=e, _pool=self,\n\u001b[1;32m--> 638\u001b[1;33m                                         _stacktrace=sys.exc_info()[2])\n\u001b[0m\u001b[0;32m    639\u001b[0m             \u001b[0mretries\u001b[0m\u001b[1;33m.\u001b[0m\u001b[0msleep\u001b[0m\u001b[1;33m(\u001b[0m\u001b[1;33m)\u001b[0m\u001b[1;33m\u001b[0m\u001b[1;33m\u001b[0m\u001b[0m\n",
      "\u001b[1;32mD:\\python\\envs\\py36\\lib\\site-packages\\urllib3\\util\\retry.py\u001b[0m in \u001b[0;36mincrement\u001b[1;34m(self, method, url, response, error, _pool, _stacktrace)\u001b[0m\n\u001b[0;32m    397\u001b[0m         \u001b[1;32mif\u001b[0m \u001b[0mnew_retry\u001b[0m\u001b[1;33m.\u001b[0m\u001b[0mis_exhausted\u001b[0m\u001b[1;33m(\u001b[0m\u001b[1;33m)\u001b[0m\u001b[1;33m:\u001b[0m\u001b[1;33m\u001b[0m\u001b[1;33m\u001b[0m\u001b[0m\n\u001b[1;32m--> 398\u001b[1;33m             \u001b[1;32mraise\u001b[0m \u001b[0mMaxRetryError\u001b[0m\u001b[1;33m(\u001b[0m\u001b[0m_pool\u001b[0m\u001b[1;33m,\u001b[0m \u001b[0murl\u001b[0m\u001b[1;33m,\u001b[0m \u001b[0merror\u001b[0m \u001b[1;32mor\u001b[0m \u001b[0mResponseError\u001b[0m\u001b[1;33m(\u001b[0m\u001b[0mcause\u001b[0m\u001b[1;33m)\u001b[0m\u001b[1;33m)\u001b[0m\u001b[1;33m\u001b[0m\u001b[1;33m\u001b[0m\u001b[0m\n\u001b[0m\u001b[0;32m    399\u001b[0m \u001b[1;33m\u001b[0m\u001b[0m\n",
      "\u001b[1;31mMaxRetryError\u001b[0m: HTTPSConnectionPool(host='law.judicial.gov.tw', port=443): Max retries exceeded with url: /controls/GetResultCount.ashx?ty=JUDBOOK&q=61f3f740a1a2ec776ea96c12c146a2d6 (Caused by SSLError(SSLError(\"bad handshake: Error([('SSL routines', 'tls_process_server_certificate', 'certificate verify failed')],)\",),))",
      "\nDuring handling of the above exception, another exception occurred:\n",
      "\u001b[1;31mSSLError\u001b[0m                                  Traceback (most recent call last)",
      "\u001b[1;32m<ipython-input-3-465340a7ba63>\u001b[0m in \u001b[0;36m<module>\u001b[1;34m\u001b[0m\n\u001b[1;32m----> 1\u001b[1;33m \u001b[0ma\u001b[0m\u001b[1;33m=\u001b[0m\u001b[0mrequests\u001b[0m\u001b[1;33m.\u001b[0m\u001b[0mget\u001b[0m\u001b[1;33m(\u001b[0m\u001b[1;34m'https://law.judicial.gov.tw/controls/GetResultCount.ashx?ty=JUDBOOK&q=61f3f740a1a2ec776ea96c12c146a2d6'\u001b[0m\u001b[1;33m)\u001b[0m\u001b[1;33m\u001b[0m\u001b[1;33m\u001b[0m\u001b[0m\n\u001b[0m",
      "\u001b[1;32mD:\\python\\envs\\py36\\lib\\site-packages\\requests\\api.py\u001b[0m in \u001b[0;36mget\u001b[1;34m(url, params, **kwargs)\u001b[0m\n\u001b[0;32m     73\u001b[0m \u001b[1;33m\u001b[0m\u001b[0m\n\u001b[0;32m     74\u001b[0m     \u001b[0mkwargs\u001b[0m\u001b[1;33m.\u001b[0m\u001b[0msetdefault\u001b[0m\u001b[1;33m(\u001b[0m\u001b[1;34m'allow_redirects'\u001b[0m\u001b[1;33m,\u001b[0m \u001b[1;32mTrue\u001b[0m\u001b[1;33m)\u001b[0m\u001b[1;33m\u001b[0m\u001b[1;33m\u001b[0m\u001b[0m\n\u001b[1;32m---> 75\u001b[1;33m     \u001b[1;32mreturn\u001b[0m \u001b[0mrequest\u001b[0m\u001b[1;33m(\u001b[0m\u001b[1;34m'get'\u001b[0m\u001b[1;33m,\u001b[0m \u001b[0murl\u001b[0m\u001b[1;33m,\u001b[0m \u001b[0mparams\u001b[0m\u001b[1;33m=\u001b[0m\u001b[0mparams\u001b[0m\u001b[1;33m,\u001b[0m \u001b[1;33m**\u001b[0m\u001b[0mkwargs\u001b[0m\u001b[1;33m)\u001b[0m\u001b[1;33m\u001b[0m\u001b[1;33m\u001b[0m\u001b[0m\n\u001b[0m\u001b[0;32m     76\u001b[0m \u001b[1;33m\u001b[0m\u001b[0m\n\u001b[0;32m     77\u001b[0m \u001b[1;33m\u001b[0m\u001b[0m\n",
      "\u001b[1;32mD:\\python\\envs\\py36\\lib\\site-packages\\requests\\api.py\u001b[0m in \u001b[0;36mrequest\u001b[1;34m(method, url, **kwargs)\u001b[0m\n\u001b[0;32m     58\u001b[0m     \u001b[1;31m# cases, and look like a memory leak in others.\u001b[0m\u001b[1;33m\u001b[0m\u001b[1;33m\u001b[0m\u001b[1;33m\u001b[0m\u001b[0m\n\u001b[0;32m     59\u001b[0m     \u001b[1;32mwith\u001b[0m \u001b[0msessions\u001b[0m\u001b[1;33m.\u001b[0m\u001b[0mSession\u001b[0m\u001b[1;33m(\u001b[0m\u001b[1;33m)\u001b[0m \u001b[1;32mas\u001b[0m \u001b[0msession\u001b[0m\u001b[1;33m:\u001b[0m\u001b[1;33m\u001b[0m\u001b[1;33m\u001b[0m\u001b[0m\n\u001b[1;32m---> 60\u001b[1;33m         \u001b[1;32mreturn\u001b[0m \u001b[0msession\u001b[0m\u001b[1;33m.\u001b[0m\u001b[0mrequest\u001b[0m\u001b[1;33m(\u001b[0m\u001b[0mmethod\u001b[0m\u001b[1;33m=\u001b[0m\u001b[0mmethod\u001b[0m\u001b[1;33m,\u001b[0m \u001b[0murl\u001b[0m\u001b[1;33m=\u001b[0m\u001b[0murl\u001b[0m\u001b[1;33m,\u001b[0m \u001b[1;33m**\u001b[0m\u001b[0mkwargs\u001b[0m\u001b[1;33m)\u001b[0m\u001b[1;33m\u001b[0m\u001b[1;33m\u001b[0m\u001b[0m\n\u001b[0m\u001b[0;32m     61\u001b[0m \u001b[1;33m\u001b[0m\u001b[0m\n\u001b[0;32m     62\u001b[0m \u001b[1;33m\u001b[0m\u001b[0m\n",
      "\u001b[1;32mD:\\python\\envs\\py36\\lib\\site-packages\\requests\\sessions.py\u001b[0m in \u001b[0;36mrequest\u001b[1;34m(self, method, url, params, data, headers, cookies, files, auth, timeout, allow_redirects, proxies, hooks, stream, verify, cert, json)\u001b[0m\n\u001b[0;32m    531\u001b[0m         }\n\u001b[0;32m    532\u001b[0m         \u001b[0msend_kwargs\u001b[0m\u001b[1;33m.\u001b[0m\u001b[0mupdate\u001b[0m\u001b[1;33m(\u001b[0m\u001b[0msettings\u001b[0m\u001b[1;33m)\u001b[0m\u001b[1;33m\u001b[0m\u001b[1;33m\u001b[0m\u001b[0m\n\u001b[1;32m--> 533\u001b[1;33m         \u001b[0mresp\u001b[0m \u001b[1;33m=\u001b[0m \u001b[0mself\u001b[0m\u001b[1;33m.\u001b[0m\u001b[0msend\u001b[0m\u001b[1;33m(\u001b[0m\u001b[0mprep\u001b[0m\u001b[1;33m,\u001b[0m \u001b[1;33m**\u001b[0m\u001b[0msend_kwargs\u001b[0m\u001b[1;33m)\u001b[0m\u001b[1;33m\u001b[0m\u001b[1;33m\u001b[0m\u001b[0m\n\u001b[0m\u001b[0;32m    534\u001b[0m \u001b[1;33m\u001b[0m\u001b[0m\n\u001b[0;32m    535\u001b[0m         \u001b[1;32mreturn\u001b[0m \u001b[0mresp\u001b[0m\u001b[1;33m\u001b[0m\u001b[1;33m\u001b[0m\u001b[0m\n",
      "\u001b[1;32mD:\\python\\envs\\py36\\lib\\site-packages\\requests\\sessions.py\u001b[0m in \u001b[0;36msend\u001b[1;34m(self, request, **kwargs)\u001b[0m\n\u001b[0;32m    644\u001b[0m \u001b[1;33m\u001b[0m\u001b[0m\n\u001b[0;32m    645\u001b[0m         \u001b[1;31m# Send the request\u001b[0m\u001b[1;33m\u001b[0m\u001b[1;33m\u001b[0m\u001b[1;33m\u001b[0m\u001b[0m\n\u001b[1;32m--> 646\u001b[1;33m         \u001b[0mr\u001b[0m \u001b[1;33m=\u001b[0m \u001b[0madapter\u001b[0m\u001b[1;33m.\u001b[0m\u001b[0msend\u001b[0m\u001b[1;33m(\u001b[0m\u001b[0mrequest\u001b[0m\u001b[1;33m,\u001b[0m \u001b[1;33m**\u001b[0m\u001b[0mkwargs\u001b[0m\u001b[1;33m)\u001b[0m\u001b[1;33m\u001b[0m\u001b[1;33m\u001b[0m\u001b[0m\n\u001b[0m\u001b[0;32m    647\u001b[0m \u001b[1;33m\u001b[0m\u001b[0m\n\u001b[0;32m    648\u001b[0m         \u001b[1;31m# Total elapsed time of the request (approximately)\u001b[0m\u001b[1;33m\u001b[0m\u001b[1;33m\u001b[0m\u001b[1;33m\u001b[0m\u001b[0m\n",
      "\u001b[1;32mD:\\python\\envs\\py36\\lib\\site-packages\\requests\\adapters.py\u001b[0m in \u001b[0;36msend\u001b[1;34m(self, request, stream, timeout, verify, cert, proxies)\u001b[0m\n\u001b[0;32m    512\u001b[0m             \u001b[1;32mif\u001b[0m \u001b[0misinstance\u001b[0m\u001b[1;33m(\u001b[0m\u001b[0me\u001b[0m\u001b[1;33m.\u001b[0m\u001b[0mreason\u001b[0m\u001b[1;33m,\u001b[0m \u001b[0m_SSLError\u001b[0m\u001b[1;33m)\u001b[0m\u001b[1;33m:\u001b[0m\u001b[1;33m\u001b[0m\u001b[1;33m\u001b[0m\u001b[0m\n\u001b[0;32m    513\u001b[0m                 \u001b[1;31m# This branch is for urllib3 v1.22 and later.\u001b[0m\u001b[1;33m\u001b[0m\u001b[1;33m\u001b[0m\u001b[1;33m\u001b[0m\u001b[0m\n\u001b[1;32m--> 514\u001b[1;33m                 \u001b[1;32mraise\u001b[0m \u001b[0mSSLError\u001b[0m\u001b[1;33m(\u001b[0m\u001b[0me\u001b[0m\u001b[1;33m,\u001b[0m \u001b[0mrequest\u001b[0m\u001b[1;33m=\u001b[0m\u001b[0mrequest\u001b[0m\u001b[1;33m)\u001b[0m\u001b[1;33m\u001b[0m\u001b[1;33m\u001b[0m\u001b[0m\n\u001b[0m\u001b[0;32m    515\u001b[0m \u001b[1;33m\u001b[0m\u001b[0m\n\u001b[0;32m    516\u001b[0m             \u001b[1;32mraise\u001b[0m \u001b[0mConnectionError\u001b[0m\u001b[1;33m(\u001b[0m\u001b[0me\u001b[0m\u001b[1;33m,\u001b[0m \u001b[0mrequest\u001b[0m\u001b[1;33m=\u001b[0m\u001b[0mrequest\u001b[0m\u001b[1;33m)\u001b[0m\u001b[1;33m\u001b[0m\u001b[1;33m\u001b[0m\u001b[0m\n",
      "\u001b[1;31mSSLError\u001b[0m: HTTPSConnectionPool(host='law.judicial.gov.tw', port=443): Max retries exceeded with url: /controls/GetResultCount.ashx?ty=JUDBOOK&q=61f3f740a1a2ec776ea96c12c146a2d6 (Caused by SSLError(SSLError(\"bad handshake: Error([('SSL routines', 'tls_process_server_certificate', 'certificate verify failed')],)\",),))"
     ]
    }
   ],
   "source": [
    "a=requests.get('https://law.judicial.gov.tw/controls/GetResultCount.ashx?ty=JUDBOOK&q=61f3f740a1a2ec776ea96c12c146a2d6')"
   ]
  },
  {
   "cell_type": "code",
   "execution_count": null,
   "metadata": {},
   "outputs": [],
   "source": [
    "print(a.text)"
   ]
  },
  {
   "cell_type": "code",
   "execution_count": 19,
   "metadata": {},
   "outputs": [],
   "source": [
    "soup1 = BeautifulSoup(a.text,\"html.parser\") #將網頁資料以html.parser\n",
    "sel1 = soup1.select(\".rtddt  a\") #取HTML標中的 <div class=\"title\"></div> 中的<a>標籤存入sel"
   ]
  },
  {
   "cell_type": "code",
   "execution_count": 20,
   "metadata": {},
   "outputs": [
    {
     "name": "stdout",
     "output_type": "stream",
     "text": [
      "娛樂 【獨家回應】遭新人控收錢不出片！ 《紅人... https://tw.entertainment.appledaily.com/realtime/20190429/1558339/\n",
      "財經 台積電橫盤　台股收盤小跌13點報1095... https://tw.finance.appledaily.com/realtime/20190429/1558190/\n",
      "生活 ​【台北懸日1】懸日今起連8天降臨台北城... https://tw.news.appledaily.com/life/realtime/20190429/1554943/\n",
      "政治 【蘋果Live】4千萬競選經費爭議　韓國... https://tw.news.appledaily.com/politics/realtime/20190429/1558174/\n",
      "社會 怒！小學生投十元可夾情趣品　家長檢舉娃娃... https://tw.news.appledaily.com/local/realtime/20190429/1558296/\n",
      "體育 【更新】王柏融首打席2分打點二壘安　火腿... https://tw.sports.appledaily.com/realtime/20190429/1558301/\n",
      "生活 ​最新偏食調查出爐！　苦瓜、青椒和茄子最... https://tw.news.appledaily.com/life/realtime/20190429/1558313/\n",
      "社會 二度未婚生子怕挨罵　20歲媽神明前溺斃7... https://tw.news.appledaily.com/local/realtime/20190429/1558242/\n",
      "論壇 律師觀點：老婆不回家，老公怎麼辦？  https://tw.news.appledaily.com/forum/realtime/20190429/1558238/\n",
      "國際 六四30周年敏感時刻　習近平明發表五四運... https://tw.news.appledaily.com/international/realtime/20190429/1558298/\n",
      "財經 台灣大攜手思納捷科技　推AI能源管理替企... https://tw.finance.appledaily.com/realtime/20190429/1558344/\n",
      "政治 「佛系選戰就是說好話」　賴清德開直播不擔... https://tw.news.appledaily.com/politics/realtime/20190429/1558314/\n",
      "社會 虐童案每天上演　花蓮家扶組護童聯盟 https://tw.news.appledaily.com/local/realtime/20190429/1558337/\n",
      "財經 金管會擬放行券商查客戶信用　風控趨嚴衝擊... https://tw.finance.appledaily.com/realtime/20190429/1557738/\n",
      "社會 文大學生打工教桌球貼補家用　遭小黃搶快撞... https://tw.news.appledaily.com/local/realtime/20190429/1558150/\n",
      "財經 智崴接獲北京3套飛行劇院訂單　股價最高漲... https://tw.finance.appledaily.com/realtime/20190429/1558341/\n",
      "生活 靜脈曲張易血管栓塞　醫院推母親節免費篩檢 https://tw.news.appledaily.com/life/realtime/20190429/1558340/\n",
      "體育 【中職】聯盟收件後內部評估　儘快開常務理... https://tw.sports.appledaily.com/realtime/20190429/1558342/\n",
      "社會 桃園專勤隊搗淫窟　賣淫女下跪求饒 https://tw.news.appledaily.com/local/realtime/20190429/1558213/\n",
      "社會 【一起讀判決】要求男女分開使用的游泳池　... https://tw.news.appledaily.com/local/realtime/20190429/1558280/\n",
      "娛樂 【隆詩娃好命】吳奇隆金牛兒事業強運　星爸... https://tw.entertainment.appledaily.com/realtime/20190429/1558307/\n",
      "社會 「漢堡哥」到案不願提告　 連千毅仍依強制... https://tw.news.appledaily.com/local/realtime/20190429/1558181/\n",
      "微視蘋 【蘋果人物】傳奇里長伯竟在社區「搞軌」　... https://tw.news.appledaily.com/micromovie/realtime/20190429/1528545/\n",
      "社會 隔空猥褻警員還PO網炫耀　「蘆竹王陽明」... https://tw.news.appledaily.com/local/realtime/20190429/1558253/\n",
      "財經 券商看中繳稅商機　推「股票貸款」不用再賣... https://tw.finance.appledaily.com/realtime/20190429/1558315/\n",
      "娛樂 首次獨扛本屆金曲獎主持　Lulu「28年... https://tw.entertainment.appledaily.com/realtime/20190429/1558285/\n",
      "政治 港人上街反《逃犯條例》　吳釗燮推特：證明... https://tw.news.appledaily.com/politics/realtime/20190429/1558329/\n",
      "副刊 【肥瘦登對】瘦男戀上胖妹不被看好　閃婚5... https://tw.lifestyle.appledaily.com/lifestyle/realtime/20190429/1557892/\n",
      "政治 黃光芹陷低潮　苦苓打氣：堅持下去才能看到... https://tw.news.appledaily.com/politics/realtime/20190429/1558211/\n",
      "社會 存摺遺失辯吸毒頭腦不清　法官採信判無罪　 https://tw.news.appledaily.com/local/realtime/20190429/1558316/\n"
     ]
    }
   ],
   "source": [
    "for i in sel1:\n",
    "    print (i.select('h2')[0].text,i.select('h1')[0].text,i['href'])"
   ]
  },
  {
   "cell_type": "code",
   "execution_count": 21,
   "metadata": {},
   "outputs": [
    {
     "data": {
      "text/plain": [
       "[<a href=\"https://tw.entertainment.appledaily.com/realtime/20190429/1558339/\" target=\"_blank\">\n",
       " <time>13:39</time>\n",
       " <h2>娛樂</h2>\n",
       " <h1><font color=\"#383c40\">【獨家回應】遭新人控收錢不出片！ 《紅人...</font></h1>\n",
       " </a>,\n",
       " <a href=\"https://tw.finance.appledaily.com/realtime/20190429/1558190/\" target=\"_blank\">\n",
       " <time>13:37</time>\n",
       " <h2>財經</h2>\n",
       " <h1><font color=\"#383c40\">台積電橫盤　台股收盤小跌13點報1095...</font></h1>\n",
       " </a>,\n",
       " <a href=\"https://tw.news.appledaily.com/life/realtime/20190429/1554943/\" target=\"_blank\">\n",
       " <time>13:36</time>\n",
       " <h2>生活</h2>\n",
       " <h1><font color=\"#ff0000\">​【台北懸日1】懸日今起連8天降臨台北城...</font></h1>\n",
       " </a>,\n",
       " <a href=\"https://tw.news.appledaily.com/politics/realtime/20190429/1558174/\" target=\"_blank\">\n",
       " <time>13:36</time>\n",
       " <h2>政治</h2>\n",
       " <h1><font color=\"#ff0000\">【蘋果Live】4千萬競選經費爭議　韓國...</font></h1>\n",
       " </a>,\n",
       " <a href=\"https://tw.news.appledaily.com/local/realtime/20190429/1558296/\" target=\"_blank\">\n",
       " <time>13:34</time>\n",
       " <h2>社會</h2>\n",
       " <h1><font color=\"#383c40\">怒！小學生投十元可夾情趣品　家長檢舉娃娃...</font></h1>\n",
       " </a>,\n",
       " <a href=\"https://tw.sports.appledaily.com/realtime/20190429/1558301/\" target=\"_blank\">\n",
       " <time>13:31</time>\n",
       " <h2>體育</h2>\n",
       " <h1><font color=\"#383c40\">【更新】王柏融首打席2分打點二壘安　火腿...</font></h1>\n",
       " </a>,\n",
       " <a href=\"https://tw.news.appledaily.com/life/realtime/20190429/1558313/\" target=\"_blank\">\n",
       " <time>13:30</time>\n",
       " <h2>生活</h2>\n",
       " <h1><font color=\"#383c40\">​最新偏食調查出爐！　苦瓜、青椒和茄子最...</font></h1>\n",
       " </a>,\n",
       " <a href=\"https://tw.news.appledaily.com/local/realtime/20190429/1558242/\" target=\"_blank\">\n",
       " <time>13:29</time>\n",
       " <h2>社會</h2>\n",
       " <h1><font color=\"#ff0000\">二度未婚生子怕挨罵　20歲媽神明前溺斃7...</font></h1>\n",
       " </a>,\n",
       " <a href=\"https://tw.news.appledaily.com/forum/realtime/20190429/1558238/\" target=\"_blank\">\n",
       " <time>13:29</time>\n",
       " <h2>論壇</h2>\n",
       " <h1><font color=\"#383c40\">律師觀點：老婆不回家，老公怎麼辦？ </font></h1>\n",
       " </a>,\n",
       " <a href=\"https://tw.news.appledaily.com/international/realtime/20190429/1558298/\" target=\"_blank\">\n",
       " <time>13:29</time>\n",
       " <h2>國際</h2>\n",
       " <h1><font color=\"#383c40\">六四30周年敏感時刻　習近平明發表五四運...</font></h1>\n",
       " </a>,\n",
       " <a href=\"https://tw.finance.appledaily.com/realtime/20190429/1558344/\" target=\"_blank\">\n",
       " <time>13:29</time>\n",
       " <h2>財經</h2>\n",
       " <h1><font color=\"#383c40\">台灣大攜手思納捷科技　推AI能源管理替企...</font></h1>\n",
       " </a>,\n",
       " <a href=\"https://tw.news.appledaily.com/politics/realtime/20190429/1558314/\" target=\"_blank\">\n",
       " <time>13:25</time>\n",
       " <h2>政治</h2>\n",
       " <h1><font color=\"#ff0000\">「佛系選戰就是說好話」　賴清德開直播不擔...</font></h1>\n",
       " </a>,\n",
       " <a href=\"https://tw.news.appledaily.com/local/realtime/20190429/1558337/\" target=\"_blank\">\n",
       " <time>13:23</time>\n",
       " <h2>社會</h2>\n",
       " <h1><font color=\"#383c40\">虐童案每天上演　花蓮家扶組護童聯盟</font></h1>\n",
       " </a>,\n",
       " <a href=\"https://tw.finance.appledaily.com/realtime/20190429/1557738/\" target=\"_blank\">\n",
       " <time>13:22</time>\n",
       " <h2>財經</h2>\n",
       " <h1><font color=\"#383c40\">金管會擬放行券商查客戶信用　風控趨嚴衝擊...</font></h1>\n",
       " </a>,\n",
       " <a href=\"https://tw.news.appledaily.com/local/realtime/20190429/1558150/\" target=\"_blank\">\n",
       " <time>13:21</time>\n",
       " <h2>社會</h2>\n",
       " <h1><font color=\"#ff0000\">文大學生打工教桌球貼補家用　遭小黃搶快撞...</font></h1>\n",
       " </a>,\n",
       " <a href=\"https://tw.finance.appledaily.com/realtime/20190429/1558341/\" target=\"_blank\">\n",
       " <time>13:19</time>\n",
       " <h2>財經</h2>\n",
       " <h1><font color=\"#383c40\">智崴接獲北京3套飛行劇院訂單　股價最高漲...</font></h1>\n",
       " </a>,\n",
       " <a href=\"https://tw.news.appledaily.com/life/realtime/20190429/1558340/\" target=\"_blank\">\n",
       " <time>13:18</time>\n",
       " <h2>生活</h2>\n",
       " <h1><font color=\"#383c40\">靜脈曲張易血管栓塞　醫院推母親節免費篩檢</font></h1>\n",
       " </a>,\n",
       " <a href=\"https://tw.sports.appledaily.com/realtime/20190429/1558342/\" target=\"_blank\">\n",
       " <time>13:17</time>\n",
       " <h2>體育</h2>\n",
       " <h1><font color=\"#383c40\">【中職】聯盟收件後內部評估　儘快開常務理...</font></h1>\n",
       " </a>,\n",
       " <a href=\"https://tw.news.appledaily.com/local/realtime/20190429/1558213/\" target=\"_blank\">\n",
       " <time>13:16</time>\n",
       " <h2>社會</h2>\n",
       " <h1><font color=\"#383c40\">桃園專勤隊搗淫窟　賣淫女下跪求饒</font></h1>\n",
       " </a>,\n",
       " <a href=\"https://tw.news.appledaily.com/local/realtime/20190429/1558280/\" target=\"_blank\">\n",
       " <time>13:16</time>\n",
       " <h2>社會</h2>\n",
       " <h1><font color=\"#383c40\">【一起讀判決】要求男女分開使用的游泳池　...</font></h1>\n",
       " </a>,\n",
       " <a href=\"https://tw.entertainment.appledaily.com/realtime/20190429/1558307/\" target=\"_blank\">\n",
       " <time>13:16</time>\n",
       " <h2>娛樂</h2>\n",
       " <h1><font color=\"#ff0000\">【隆詩娃好命】吳奇隆金牛兒事業強運　星爸...</font></h1>\n",
       " </a>,\n",
       " <a href=\"https://tw.news.appledaily.com/local/realtime/20190429/1558181/\" target=\"_blank\">\n",
       " <time>13:15</time>\n",
       " <h2>社會</h2>\n",
       " <h1><font color=\"#ff0000\">「漢堡哥」到案不願提告　 連千毅仍依強制...</font></h1>\n",
       " </a>,\n",
       " <a href=\"https://tw.news.appledaily.com/micromovie/realtime/20190429/1528545/\" target=\"_blank\">\n",
       " <time>13:15</time>\n",
       " <h2>微視蘋</h2>\n",
       " <h1><font color=\"#ff0000\">【蘋果人物】傳奇里長伯竟在社區「搞軌」　...</font></h1>\n",
       " </a>,\n",
       " <a href=\"https://tw.news.appledaily.com/local/realtime/20190429/1558253/\" target=\"_blank\">\n",
       " <time>13:14</time>\n",
       " <h2>社會</h2>\n",
       " <h1><font color=\"#ff0000\">隔空猥褻警員還PO網炫耀　「蘆竹王陽明」...</font></h1>\n",
       " </a>,\n",
       " <a href=\"https://tw.finance.appledaily.com/realtime/20190429/1558315/\" target=\"_blank\">\n",
       " <time>13:10</time>\n",
       " <h2>財經</h2>\n",
       " <h1><font color=\"#383c40\">券商看中繳稅商機　推「股票貸款」不用再賣...</font></h1>\n",
       " </a>,\n",
       " <a href=\"https://tw.entertainment.appledaily.com/realtime/20190429/1558285/\" target=\"_blank\">\n",
       " <time>13:10</time>\n",
       " <h2>娛樂</h2>\n",
       " <h1><font color=\"#ff0000\">首次獨扛本屆金曲獎主持　Lulu「28年...</font></h1>\n",
       " </a>,\n",
       " <a href=\"https://tw.news.appledaily.com/politics/realtime/20190429/1558329/\" target=\"_blank\">\n",
       " <time>13:08</time>\n",
       " <h2>政治</h2>\n",
       " <h1><font color=\"#383c40\">港人上街反《逃犯條例》　吳釗燮推特：證明...</font></h1>\n",
       " </a>,\n",
       " <a href=\"https://tw.lifestyle.appledaily.com/lifestyle/realtime/20190429/1557892/\" target=\"_blank\">\n",
       " <time>13:07</time>\n",
       " <h2>副刊</h2>\n",
       " <h1><font color=\"#383c40\">【肥瘦登對】瘦男戀上胖妹不被看好　閃婚5...</font></h1>\n",
       " </a>,\n",
       " <a href=\"https://tw.news.appledaily.com/politics/realtime/20190429/1558211/\" target=\"_blank\">\n",
       " <time>13:06</time>\n",
       " <h2>政治</h2>\n",
       " <h1><font color=\"#ff0000\">黃光芹陷低潮　苦苓打氣：堅持下去才能看到...</font></h1>\n",
       " </a>,\n",
       " <a href=\"https://tw.news.appledaily.com/local/realtime/20190429/1558316/\" target=\"_blank\">\n",
       " <time>13:06</time>\n",
       " <h2>社會</h2>\n",
       " <h1><font color=\"#383c40\">存摺遺失辯吸毒頭腦不清　法官採信判無罪　</font></h1>\n",
       " </a>]"
      ]
     },
     "execution_count": 21,
     "metadata": {},
     "output_type": "execute_result"
    }
   ],
   "source": [
    "sel1"
   ]
  },
  {
   "cell_type": "code",
   "execution_count": 25,
   "metadata": {},
   "outputs": [
    {
     "data": {
      "text/plain": [
       "'娛樂'"
      ]
     },
     "execution_count": 25,
     "metadata": {},
     "output_type": "execute_result"
    }
   ],
   "source": [
    "sel1[0].select('h2')[0].text"
   ]
  },
  {
   "cell_type": "code",
   "execution_count": 32,
   "metadata": {},
   "outputs": [],
   "source": [
    "import pandas \n",
    "dfs=pandas.read_html('https://law.judicial.gov.tw/FJUD/default.aspx')"
   ]
  },
  {
   "cell_type": "code",
   "execution_count": 36,
   "metadata": {},
   "outputs": [
    {
     "data": {
      "text/html": [
       "<div>\n",
       "<style scoped>\n",
       "    .dataframe tbody tr th:only-of-type {\n",
       "        vertical-align: middle;\n",
       "    }\n",
       "\n",
       "    .dataframe tbody tr th {\n",
       "        vertical-align: top;\n",
       "    }\n",
       "\n",
       "    .dataframe thead th {\n",
       "        text-align: right;\n",
       "    }\n",
       "</style>\n",
       "<table border=\"1\" class=\"dataframe\">\n",
       "  <thead>\n",
       "    <tr style=\"text-align: right;\">\n",
       "      <th></th>\n",
       "      <th>0</th>\n",
       "      <th>1</th>\n",
       "    </tr>\n",
       "  </thead>\n",
       "  <tbody>\n",
       "    <tr>\n",
       "      <th>0</th>\n",
       "      <td>檢索字詞</td>\n",
       "      <td>進階查詢 查詢說明  簡易輸入格式範例： 更多說明  輸入【105訴123】：可檢索所有法院...</td>\n",
       "    </tr>\n",
       "  </tbody>\n",
       "</table>\n",
       "</div>"
      ],
      "text/plain": [
       "      0                                                  1\n",
       "0  檢索字詞  進階查詢 查詢說明  簡易輸入格式範例： 更多說明  輸入【105訴123】：可檢索所有法院..."
      ]
     },
     "execution_count": 36,
     "metadata": {},
     "output_type": "execute_result"
    }
   ],
   "source": [
    "dfs[0]"
   ]
  },
  {
   "cell_type": "code",
   "execution_count": null,
   "metadata": {},
   "outputs": [],
   "source": []
  }
 ],
 "metadata": {
  "kernelspec": {
   "display_name": "Python (tensorflow-gpu)",
   "language": "python",
   "name": "tensorflow-gpu"
  },
  "language_info": {
   "codemirror_mode": {
    "name": "ipython",
    "version": 3
   },
   "file_extension": ".py",
   "mimetype": "text/x-python",
   "name": "python",
   "nbconvert_exporter": "python",
   "pygments_lexer": "ipython3",
   "version": "3.6.8"
  }
 },
 "nbformat": 4,
 "nbformat_minor": 2
}
