{
 "cells": [
  {
   "cell_type": "code",
   "execution_count": 1,
   "metadata": {},
   "outputs": [],
   "source": [
    "import requests\n",
    "from bs4 import BeautifulSoup"
   ]
  },
  {
   "cell_type": "code",
   "execution_count": 2,
   "metadata": {},
   "outputs": [],
   "source": [
    "A=[]\n",
    "B=[]\n",
    "for i in range(1,46,1):\n",
    "    A.append(i)\n",
    "for i  in range(len(A)):\n",
    "    B.append('https://tw.appledaily.com/new/realtime/'+str(A[i]))"
   ]
  },
  {
   "cell_type": "code",
   "execution_count": null,
   "metadata": {},
   "outputs": [],
   "source": [
    "C=[]\n",
    "for i in range(len(B)):\n",
    "    r = requests.get(str(B[i]))\n",
    "    soup1 = BeautifulSoup(r.text,\"html.parser\")\n",
    "    sel1 = soup1.select(\".rtddt  a\") \n",
    "    for i in sel1:\n",
    "        C.append(i.select('h2')[0].text+' '+i.select('h1')[0].text+' '+i['href'])"
   ]
  },
  {
   "cell_type": "code",
   "execution_count": null,
   "metadata": {},
   "outputs": [
    {
     "name": "stdout",
     "output_type": "stream",
     "text": [
      "524\r"
     ]
    }
   ],
   "source": [
    "D=[]\n",
    "a=0\n",
    "for i in range(len(B)):\n",
    "    r = requests.get(str(B[i]))\n",
    "    soup1 = BeautifulSoup(r.text,\"html.parser\")\n",
    "    sel1 = soup1.select(\".rtddt  a\") \n",
    "    for i in sel1:\n",
    "        k = requests.get(str(i['href']))\n",
    "        test1 = BeautifulSoup(k.text,\"html.parser\") \n",
    "        seq = test1.select(\".ndArticle_leftColumn  \")\n",
    "        D.append(seq[0].select('h1')[0].text)\n",
    "        a=a+1\n",
    "        print (a,end='\\r'),"
   ]
  },
  {
   "cell_type": "code",
   "execution_count": null,
   "metadata": {},
   "outputs": [],
   "source": []
  }
 ],
 "metadata": {
  "kernelspec": {
   "display_name": "Python (tensorflow-gpu)",
   "language": "python",
   "name": "tensorflow-gpu"
  },
  "language_info": {
   "codemirror_mode": {
    "name": "ipython",
    "version": 3
   },
   "file_extension": ".py",
   "mimetype": "text/x-python",
   "name": "python",
   "nbconvert_exporter": "python",
   "pygments_lexer": "ipython3",
   "version": "3.6.8"
  }
 },
 "nbformat": 4,
 "nbformat_minor": 2
}
