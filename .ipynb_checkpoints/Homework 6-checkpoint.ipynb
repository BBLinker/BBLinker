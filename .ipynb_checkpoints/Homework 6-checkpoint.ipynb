{
 "cells": [
  {
   "cell_type": "markdown",
   "metadata": {},
   "source": [
    "# 為了想要讓數據跑快一點，所以上網查了一些方法讓電腦能夠用GPU跑，發現跟之前CPU比起來跑得比較快，且準確率比較高"
   ]
  },
  {
   "cell_type": "code",
   "execution_count": 1,
   "metadata": {},
   "outputs": [],
   "source": [
    "%matplotlib inline\n",
    "\n",
    "import numpy as np\n",
    "import matplotlib.pyplot as plt\n",
    "import pandas\n",
    "import tensorflow as tf"
   ]
  },
  {
   "cell_type": "code",
   "execution_count": 2,
   "metadata": {},
   "outputs": [
    {
     "name": "stderr",
     "output_type": "stream",
     "text": [
      "Using TensorFlow backend.\n"
     ]
    }
   ],
   "source": [
    "from keras.datasets import mnist"
   ]
  },
  {
   "cell_type": "code",
   "execution_count": 3,
   "metadata": {},
   "outputs": [],
   "source": [
    "(x_train, y_train), (x_test, y_test) = mnist.load_data()"
   ]
  },
  {
   "cell_type": "code",
   "execution_count": 4,
   "metadata": {},
   "outputs": [
    {
     "data": {
      "text/plain": [
       "60000"
      ]
     },
     "execution_count": 4,
     "metadata": {},
     "output_type": "execute_result"
    }
   ],
   "source": [
    "len(x_train)"
   ]
  },
  {
   "cell_type": "code",
   "execution_count": 5,
   "metadata": {},
   "outputs": [
    {
     "data": {
      "text/plain": [
       "10000"
      ]
     },
     "execution_count": 5,
     "metadata": {},
     "output_type": "execute_result"
    }
   ],
   "source": [
    "len(x_test)"
   ]
  },
  {
   "cell_type": "code",
   "execution_count": 6,
   "metadata": {},
   "outputs": [],
   "source": [
    "mnist_train=x_train.reshape(60000,784)\n",
    "mnist_test=x_test.reshape(10000,784)"
   ]
  },
  {
   "cell_type": "code",
   "execution_count": 7,
   "metadata": {},
   "outputs": [],
   "source": [
    "from keras.utils import np_utils"
   ]
  },
  {
   "cell_type": "code",
   "execution_count": 8,
   "metadata": {},
   "outputs": [],
   "source": [
    "y_train=np_utils.to_categorical(y_train,10)\n",
    "y_test=np_utils.to_categorical(y_test,10)"
   ]
  },
  {
   "cell_type": "code",
   "execution_count": 9,
   "metadata": {},
   "outputs": [],
   "source": [
    "from keras.models import Sequential\n",
    "from keras.layers import Dense,Activation\n",
    "from keras.optimizers import Adadelta\n",
    "from keras.optimizers import SGD"
   ]
  },
  {
   "cell_type": "markdown",
   "metadata": {},
   "source": [
    "# 開始先使用兩層來學習先比較第一層還有第二層哪個影響比較大"
   ]
  },
  {
   "cell_type": "code",
   "execution_count": 10,
   "metadata": {},
   "outputs": [
    {
     "name": "stdout",
     "output_type": "stream",
     "text": [
      "WARNING:tensorflow:From D:\\python\\envs\\py36\\lib\\site-packages\\tensorflow\\python\\framework\\op_def_library.py:263: colocate_with (from tensorflow.python.framework.ops) is deprecated and will be removed in a future version.\n",
      "Instructions for updating:\n",
      "Colocations handled automatically by placer.\n",
      "_________________________________________________________________\n",
      "Layer (type)                 Output Shape              Param #   \n",
      "=================================================================\n",
      "dense_1 (Dense)              (None, 15)                11775     \n",
      "_________________________________________________________________\n",
      "activation_1 (Activation)    (None, 15)                0         \n",
      "_________________________________________________________________\n",
      "dense_2 (Dense)              (None, 30)                480       \n",
      "_________________________________________________________________\n",
      "activation_2 (Activation)    (None, 30)                0         \n",
      "_________________________________________________________________\n",
      "dense_3 (Dense)              (None, 10)                310       \n",
      "_________________________________________________________________\n",
      "activation_3 (Activation)    (None, 10)                0         \n",
      "=================================================================\n",
      "Total params: 12,565\n",
      "Trainable params: 12,565\n",
      "Non-trainable params: 0\n",
      "_________________________________________________________________\n"
     ]
    }
   ],
   "source": [
    "model = Sequential()\n",
    "model.add(Dense(15,input_dim=784))\n",
    "model.add(Activation('sigmoid'))\n",
    "model.add(Dense(30))\n",
    "model.add(Activation('sigmoid'))\n",
    "model.add(Dense(10))\n",
    "model.add(Activation('softmax'))\n",
    "model.compile(loss='mse',optimizer=SGD(lr=0.087),metrics=['accuracy'])\n",
    "model.summary()"
   ]
  },
  {
   "cell_type": "code",
   "execution_count": 11,
   "metadata": {},
   "outputs": [
    {
     "name": "stdout",
     "output_type": "stream",
     "text": [
      "WARNING:tensorflow:From D:\\python\\envs\\py36\\lib\\site-packages\\tensorflow\\python\\ops\\math_ops.py:3066: to_int32 (from tensorflow.python.ops.math_ops) is deprecated and will be removed in a future version.\n",
      "Instructions for updating:\n",
      "Use tf.cast instead.\n",
      "Epoch 1/20\n",
      "60000/60000 [==============================] - 3s 47us/step - loss: 0.0897 - acc: 0.1505\n",
      "Epoch 2/20\n",
      "60000/60000 [==============================] - 1s 22us/step - loss: 0.0873 - acc: 0.2774\n",
      "Epoch 3/20\n",
      "60000/60000 [==============================] - 1s 22us/step - loss: 0.0858 - acc: 0.3283\n",
      "Epoch 4/20\n",
      "60000/60000 [==============================] - 1s 22us/step - loss: 0.0843 - acc: 0.3561\n",
      "Epoch 5/20\n",
      "60000/60000 [==============================] - 1s 23us/step - loss: 0.0826 - acc: 0.3822\n",
      "Epoch 6/20\n",
      "60000/60000 [==============================] - 1s 21us/step - loss: 0.0808 - acc: 0.3993\n",
      "Epoch 7/20\n",
      "60000/60000 [==============================] - 1s 23us/step - loss: 0.0787 - acc: 0.4157\n",
      "Epoch 8/20\n",
      "60000/60000 [==============================] - 1s 23us/step - loss: 0.0765 - acc: 0.4334\n",
      "Epoch 9/20\n",
      "60000/60000 [==============================] - 1s 22us/step - loss: 0.0742 - acc: 0.4765\n",
      "Epoch 10/20\n",
      "60000/60000 [==============================] - 1s 23us/step - loss: 0.0718 - acc: 0.5065\n",
      "Epoch 11/20\n",
      "60000/60000 [==============================] - 1s 22us/step - loss: 0.0695 - acc: 0.5352\n",
      "Epoch 12/20\n",
      "60000/60000 [==============================] - 1s 22us/step - loss: 0.0672 - acc: 0.5508\n",
      "Epoch 13/20\n",
      "60000/60000 [==============================] - 1s 22us/step - loss: 0.0650 - acc: 0.5591\n",
      "Epoch 14/20\n",
      "60000/60000 [==============================] - 1s 22us/step - loss: 0.0628 - acc: 0.5693\n",
      "Epoch 15/20\n",
      "60000/60000 [==============================] - 1s 23us/step - loss: 0.0607 - acc: 0.5775\n",
      "Epoch 16/20\n",
      "60000/60000 [==============================] - 1s 24us/step - loss: 0.0586 - acc: 0.5810\n",
      "Epoch 17/20\n",
      "60000/60000 [==============================] - 1s 24us/step - loss: 0.0566 - acc: 0.5819\n",
      "Epoch 18/20\n",
      "60000/60000 [==============================] - 1s 24us/step - loss: 0.0546 - acc: 0.5848\n",
      "Epoch 19/20\n",
      "60000/60000 [==============================] - 1s 24us/step - loss: 0.0528 - acc: 0.5980\n",
      "Epoch 20/20\n",
      "60000/60000 [==============================] - 1s 24us/step - loss: 0.0511 - acc: 0.6154\n"
     ]
    },
    {
     "data": {
      "text/plain": [
       "<keras.callbacks.History at 0x247c9f932e8>"
      ]
     },
     "execution_count": 11,
     "metadata": {},
     "output_type": "execute_result"
    }
   ],
   "source": [
    "model.fit(mnist_train,y_train,batch_size=100,epochs=20)"
   ]
  },
  {
   "cell_type": "code",
   "execution_count": 12,
   "metadata": {},
   "outputs": [
    {
     "name": "stdout",
     "output_type": "stream",
     "text": [
      "_________________________________________________________________\n",
      "Layer (type)                 Output Shape              Param #   \n",
      "=================================================================\n",
      "dense_4 (Dense)              (None, 20)                15700     \n",
      "_________________________________________________________________\n",
      "activation_4 (Activation)    (None, 20)                0         \n",
      "_________________________________________________________________\n",
      "dense_5 (Dense)              (None, 10)                210       \n",
      "_________________________________________________________________\n",
      "activation_5 (Activation)    (None, 10)                0         \n",
      "_________________________________________________________________\n",
      "dense_6 (Dense)              (None, 10)                110       \n",
      "_________________________________________________________________\n",
      "activation_6 (Activation)    (None, 10)                0         \n",
      "=================================================================\n",
      "Total params: 16,020\n",
      "Trainable params: 16,020\n",
      "Non-trainable params: 0\n",
      "_________________________________________________________________\n"
     ]
    }
   ],
   "source": [
    "model_2 = Sequential()\n",
    "model_2.add(Dense(20,input_dim=784))\n",
    "model_2.add(Activation('sigmoid'))\n",
    "model_2.add(Dense(10))\n",
    "model_2.add(Activation('sigmoid'))\n",
    "model_2.add(Dense(10))\n",
    "model_2.add(Activation('softmax'))\n",
    "model_2.compile(loss='mse',optimizer=SGD(lr=0.087),metrics=['accuracy'])\n",
    "model_2.summary()"
   ]
  },
  {
   "cell_type": "code",
   "execution_count": 13,
   "metadata": {},
   "outputs": [
    {
     "name": "stdout",
     "output_type": "stream",
     "text": [
      "Epoch 1/20\n",
      "60000/60000 [==============================] - 2s 29us/step - loss: 0.0898 - acc: 0.1928\n",
      "Epoch 2/20\n",
      "60000/60000 [==============================] - 1s 25us/step - loss: 0.0878 - acc: 0.2515\n",
      "Epoch 3/20\n",
      "60000/60000 [==============================] - 1s 24us/step - loss: 0.0864 - acc: 0.2722\n",
      "Epoch 4/20\n",
      "60000/60000 [==============================] - 1s 24us/step - loss: 0.0849 - acc: 0.2953\n",
      "Epoch 5/20\n",
      "60000/60000 [==============================] - 1s 24us/step - loss: 0.0832 - acc: 0.3054\n",
      "Epoch 6/20\n",
      "60000/60000 [==============================] - 1s 24us/step - loss: 0.0817 - acc: 0.3130\n",
      "Epoch 7/20\n",
      "60000/60000 [==============================] - 1s 24us/step - loss: 0.0803 - acc: 0.3269\n",
      "Epoch 8/20\n",
      "60000/60000 [==============================] - 1s 24us/step - loss: 0.0789 - acc: 0.3476\n",
      "Epoch 9/20\n",
      "60000/60000 [==============================] - 1s 24us/step - loss: 0.0776 - acc: 0.3654\n",
      "Epoch 10/20\n",
      "60000/60000 [==============================] - 1s 24us/step - loss: 0.0764 - acc: 0.3896\n",
      "Epoch 11/20\n",
      "60000/60000 [==============================] - 2s 26us/step - loss: 0.0752 - acc: 0.4175\n",
      "Epoch 12/20\n",
      "60000/60000 [==============================] - 1s 24us/step - loss: 0.0739 - acc: 0.4652\n",
      "Epoch 13/20\n",
      "60000/60000 [==============================] - 1s 24us/step - loss: 0.0727 - acc: 0.4987\n",
      "Epoch 14/20\n",
      "60000/60000 [==============================] - 1s 25us/step - loss: 0.0714 - acc: 0.5270\n",
      "Epoch 15/20\n",
      "60000/60000 [==============================] - 1s 24us/step - loss: 0.0700 - acc: 0.5437\n",
      "Epoch 16/20\n",
      "60000/60000 [==============================] - 1s 24us/step - loss: 0.0686 - acc: 0.5593\n",
      "Epoch 17/20\n",
      "60000/60000 [==============================] - 1s 24us/step - loss: 0.0673 - acc: 0.5699\n",
      "Epoch 18/20\n",
      "60000/60000 [==============================] - 1s 24us/step - loss: 0.0660 - acc: 0.5853\n",
      "Epoch 19/20\n",
      "60000/60000 [==============================] - 1s 24us/step - loss: 0.0647 - acc: 0.6046\n",
      "Epoch 20/20\n",
      "60000/60000 [==============================] - 1s 24us/step - loss: 0.0634 - acc: 0.6192\n"
     ]
    },
    {
     "data": {
      "text/plain": [
       "<keras.callbacks.History at 0x247f4032dd8>"
      ]
     },
     "execution_count": 13,
     "metadata": {},
     "output_type": "execute_result"
    }
   ],
   "source": [
    "model_2.fit(mnist_train,y_train,batch_size=100,epochs=20)"
   ]
  },
  {
   "cell_type": "markdown",
   "metadata": {},
   "source": [
    "# 結果好像差不多因此在其中一個的基礎下多加一層，結果變得更爛"
   ]
  },
  {
   "cell_type": "code",
   "execution_count": 14,
   "metadata": {},
   "outputs": [
    {
     "name": "stdout",
     "output_type": "stream",
     "text": [
      "_________________________________________________________________\n",
      "Layer (type)                 Output Shape              Param #   \n",
      "=================================================================\n",
      "dense_7 (Dense)              (None, 20)                15700     \n",
      "_________________________________________________________________\n",
      "activation_7 (Activation)    (None, 20)                0         \n",
      "_________________________________________________________________\n",
      "dense_8 (Dense)              (None, 10)                210       \n",
      "_________________________________________________________________\n",
      "activation_8 (Activation)    (None, 10)                0         \n",
      "_________________________________________________________________\n",
      "dense_9 (Dense)              (None, 5)                 55        \n",
      "_________________________________________________________________\n",
      "activation_9 (Activation)    (None, 5)                 0         \n",
      "_________________________________________________________________\n",
      "dense_10 (Dense)             (None, 10)                60        \n",
      "_________________________________________________________________\n",
      "activation_10 (Activation)   (None, 10)                0         \n",
      "=================================================================\n",
      "Total params: 16,025\n",
      "Trainable params: 16,025\n",
      "Non-trainable params: 0\n",
      "_________________________________________________________________\n"
     ]
    }
   ],
   "source": [
    "model_3 = Sequential()\n",
    "model_3.add(Dense(20,input_dim=784))\n",
    "model_3.add(Activation('sigmoid'))\n",
    "model_3.add(Dense(10))\n",
    "model_3.add(Activation('sigmoid'))\n",
    "model_3.add(Dense(5))\n",
    "model_3.add(Activation('sigmoid'))\n",
    "model_3.add(Dense(10))\n",
    "model_3.add(Activation('softmax'))\n",
    "model_3.compile(loss='mse',optimizer=SGD(lr=0.087),metrics=['accuracy'])\n",
    "model_3.summary()"
   ]
  },
  {
   "cell_type": "code",
   "execution_count": 15,
   "metadata": {},
   "outputs": [
    {
     "name": "stdout",
     "output_type": "stream",
     "text": [
      "Epoch 1/20\n",
      "60000/60000 [==============================] - 2s 29us/step - loss: 0.0904 - acc: 0.0883\n",
      "Epoch 2/20\n",
      "60000/60000 [==============================] - 2s 28us/step - loss: 0.0902 - acc: 0.1070\n",
      "Epoch 3/20\n",
      "60000/60000 [==============================] - 2s 27us/step - loss: 0.0900 - acc: 0.1153\n",
      "Epoch 4/20\n",
      "60000/60000 [==============================] - 2s 26us/step - loss: 0.0898 - acc: 0.1126\n",
      "Epoch 5/20\n",
      "60000/60000 [==============================] - 2s 25us/step - loss: 0.0897 - acc: 0.1124\n",
      "Epoch 6/20\n",
      "60000/60000 [==============================] - 2s 26us/step - loss: 0.0896 - acc: 0.1124\n",
      "Epoch 7/20\n",
      "60000/60000 [==============================] - 2s 26us/step - loss: 0.0895 - acc: 0.1124\n",
      "Epoch 8/20\n",
      "60000/60000 [==============================] - 2s 26us/step - loss: 0.0895 - acc: 0.1130\n",
      "Epoch 9/20\n",
      "60000/60000 [==============================] - 2s 26us/step - loss: 0.0894 - acc: 0.1165\n",
      "Epoch 10/20\n",
      "60000/60000 [==============================] - 2s 26us/step - loss: 0.0893 - acc: 0.1304\n",
      "Epoch 11/20\n",
      "60000/60000 [==============================] - 2s 26us/step - loss: 0.0893 - acc: 0.1549\n",
      "Epoch 12/20\n",
      "60000/60000 [==============================] - 2s 26us/step - loss: 0.0892 - acc: 0.1677\n",
      "Epoch 13/20\n",
      "60000/60000 [==============================] - 2s 26us/step - loss: 0.0891 - acc: 0.1812\n",
      "Epoch 14/20\n",
      "60000/60000 [==============================] - 2s 26us/step - loss: 0.0890 - acc: 0.2108\n",
      "Epoch 15/20\n",
      "60000/60000 [==============================] - 2s 26us/step - loss: 0.0890 - acc: 0.2309\n",
      "Epoch 16/20\n",
      "60000/60000 [==============================] - 2s 26us/step - loss: 0.0889 - acc: 0.2510\n",
      "Epoch 17/20\n",
      "60000/60000 [==============================] - 2s 26us/step - loss: 0.0888 - acc: 0.2648\n",
      "Epoch 18/20\n",
      "60000/60000 [==============================] - 2s 26us/step - loss: 0.0887 - acc: 0.2738\n",
      "Epoch 19/20\n",
      "60000/60000 [==============================] - 2s 26us/step - loss: 0.0886 - acc: 0.2822\n",
      "Epoch 20/20\n",
      "60000/60000 [==============================] - 2s 26us/step - loss: 0.0884 - acc: 0.2878\n"
     ]
    },
    {
     "data": {
      "text/plain": [
       "<keras.callbacks.History at 0x2488191c860>"
      ]
     },
     "execution_count": 15,
     "metadata": {},
     "output_type": "execute_result"
    }
   ],
   "source": [
    "model_3.fit(mnist_train,y_train,batch_size=100,epochs=20)"
   ]
  },
  {
   "cell_type": "code",
   "execution_count": 16,
   "metadata": {},
   "outputs": [
    {
     "name": "stdout",
     "output_type": "stream",
     "text": [
      "_________________________________________________________________\n",
      "Layer (type)                 Output Shape              Param #   \n",
      "=================================================================\n",
      "dense_11 (Dense)             (None, 20)                15700     \n",
      "_________________________________________________________________\n",
      "activation_11 (Activation)   (None, 20)                0         \n",
      "_________________________________________________________________\n",
      "dense_12 (Dense)             (None, 10)                210       \n",
      "_________________________________________________________________\n",
      "activation_12 (Activation)   (None, 10)                0         \n",
      "_________________________________________________________________\n",
      "dense_13 (Dense)             (None, 10)                110       \n",
      "_________________________________________________________________\n",
      "activation_13 (Activation)   (None, 10)                0         \n",
      "_________________________________________________________________\n",
      "dense_14 (Dense)             (None, 10)                110       \n",
      "_________________________________________________________________\n",
      "activation_14 (Activation)   (None, 10)                0         \n",
      "=================================================================\n",
      "Total params: 16,130\n",
      "Trainable params: 16,130\n",
      "Non-trainable params: 0\n",
      "_________________________________________________________________\n"
     ]
    }
   ],
   "source": [
    "model_4 = Sequential()\n",
    "model_4.add(Dense(20,input_dim=784))\n",
    "model_4.add(Activation('sigmoid'))\n",
    "model_4.add(Dense(10))\n",
    "model_4.add(Activation('sigmoid'))\n",
    "model_4.add(Dense(10))\n",
    "model_4.add(Activation('sigmoid'))\n",
    "model_4.add(Dense(10))\n",
    "model_4.add(Activation('softmax'))\n",
    "model_4.compile(loss='mse',optimizer=SGD(lr=0.087),metrics=['accuracy'])\n",
    "model_4.summary()"
   ]
  },
  {
   "cell_type": "code",
   "execution_count": 17,
   "metadata": {},
   "outputs": [
    {
     "name": "stdout",
     "output_type": "stream",
     "text": [
      "Epoch 1/20\n",
      "60000/60000 [==============================] - 2s 28us/step - loss: 0.0922 - acc: 0.0987\n",
      "Epoch 2/20\n",
      "60000/60000 [==============================] - 2s 27us/step - loss: 0.0910 - acc: 0.0987\n",
      "Epoch 3/20\n",
      "60000/60000 [==============================] - 2s 27us/step - loss: 0.0905 - acc: 0.1015\n",
      "Epoch 4/20\n",
      "60000/60000 [==============================] - 2s 26us/step - loss: 0.0902 - acc: 0.1280\n",
      "Epoch 5/20\n",
      "60000/60000 [==============================] - 2s 26us/step - loss: 0.0899 - acc: 0.1465\n",
      "Epoch 6/20\n",
      "60000/60000 [==============================] - 2s 26us/step - loss: 0.0897 - acc: 0.2012\n",
      "Epoch 7/20\n",
      "60000/60000 [==============================] - 2s 26us/step - loss: 0.0895 - acc: 0.2415\n",
      "Epoch 8/20\n",
      "60000/60000 [==============================] - 2s 26us/step - loss: 0.0894 - acc: 0.2389\n",
      "Epoch 9/20\n",
      "60000/60000 [==============================] - 2s 26us/step - loss: 0.0893 - acc: 0.2298\n",
      "Epoch 10/20\n",
      "60000/60000 [==============================] - 2s 26us/step - loss: 0.0892 - acc: 0.2150\n",
      "Epoch 11/20\n",
      "60000/60000 [==============================] - 2s 26us/step - loss: 0.0891 - acc: 0.2127\n",
      "Epoch 12/20\n",
      "60000/60000 [==============================] - 2s 26us/step - loss: 0.0890 - acc: 0.2204\n",
      "Epoch 13/20\n",
      "60000/60000 [==============================] - 2s 27us/step - loss: 0.0889 - acc: 0.2308\n",
      "Epoch 14/20\n",
      "60000/60000 [==============================] - 2s 26us/step - loss: 0.0888 - acc: 0.2407\n",
      "Epoch 15/20\n",
      "60000/60000 [==============================] - 2s 26us/step - loss: 0.0886 - acc: 0.2546\n",
      "Epoch 16/20\n",
      "60000/60000 [==============================] - 2s 27us/step - loss: 0.0885 - acc: 0.2602\n",
      "Epoch 17/20\n",
      "60000/60000 [==============================] - 2s 26us/step - loss: 0.0884 - acc: 0.2656\n",
      "Epoch 18/20\n",
      "60000/60000 [==============================] - 2s 27us/step - loss: 0.0883 - acc: 0.2761\n",
      "Epoch 19/20\n",
      "60000/60000 [==============================] - 2s 26us/step - loss: 0.0881 - acc: 0.2796\n",
      "Epoch 20/20\n",
      "60000/60000 [==============================] - 2s 26us/step - loss: 0.0879 - acc: 0.2850\n"
     ]
    },
    {
     "data": {
      "text/plain": [
       "<keras.callbacks.History at 0x24883a39c18>"
      ]
     },
     "execution_count": 17,
     "metadata": {},
     "output_type": "execute_result"
    }
   ],
   "source": [
    "model_4.fit(mnist_train,y_train,batch_size=100,epochs=20)"
   ]
  },
  {
   "cell_type": "code",
   "execution_count": 18,
   "metadata": {},
   "outputs": [
    {
     "name": "stdout",
     "output_type": "stream",
     "text": [
      "_________________________________________________________________\n",
      "Layer (type)                 Output Shape              Param #   \n",
      "=================================================================\n",
      "dense_15 (Dense)             (None, 20)                15700     \n",
      "_________________________________________________________________\n",
      "activation_15 (Activation)   (None, 20)                0         \n",
      "_________________________________________________________________\n",
      "dense_16 (Dense)             (None, 100)               2100      \n",
      "_________________________________________________________________\n",
      "activation_16 (Activation)   (None, 100)               0         \n",
      "_________________________________________________________________\n",
      "dense_17 (Dense)             (None, 20)                2020      \n",
      "_________________________________________________________________\n",
      "activation_17 (Activation)   (None, 20)                0         \n",
      "_________________________________________________________________\n",
      "dense_18 (Dense)             (None, 10)                210       \n",
      "_________________________________________________________________\n",
      "activation_18 (Activation)   (None, 10)                0         \n",
      "=================================================================\n",
      "Total params: 20,030\n",
      "Trainable params: 20,030\n",
      "Non-trainable params: 0\n",
      "_________________________________________________________________\n"
     ]
    }
   ],
   "source": [
    "model_5 = Sequential()\n",
    "model_5.add(Dense(20,input_dim=784))\n",
    "model_5.add(Activation('sigmoid'))\n",
    "model_5.add(Dense(100))\n",
    "model_5.add(Activation('sigmoid'))\n",
    "model_5.add(Dense(20))\n",
    "model_5.add(Activation('sigmoid'))\n",
    "model_5.add(Dense(10))\n",
    "model_5.add(Activation('softmax'))\n",
    "model_5.compile(loss='mse',optimizer=SGD(lr=0.087),metrics=['accuracy'])\n",
    "model_5.summary()"
   ]
  },
  {
   "cell_type": "code",
   "execution_count": 19,
   "metadata": {},
   "outputs": [
    {
     "name": "stdout",
     "output_type": "stream",
     "text": [
      "Epoch 1/20\n",
      "60000/60000 [==============================] - 2s 28us/step - loss: 0.0907 - acc: 0.1124\n",
      "Epoch 2/20\n",
      "60000/60000 [==============================] - 2s 25us/step - loss: 0.0900 - acc: 0.1124\n",
      "Epoch 3/20\n",
      "60000/60000 [==============================] - 1s 25us/step - loss: 0.0898 - acc: 0.1137\n",
      "Epoch 4/20\n",
      "60000/60000 [==============================] - 1s 25us/step - loss: 0.0896 - acc: 0.1148\n",
      "Epoch 5/20\n",
      "60000/60000 [==============================] - 1s 25us/step - loss: 0.0896 - acc: 0.1174\n",
      "Epoch 6/20\n",
      "60000/60000 [==============================] - 2s 26us/step - loss: 0.0895 - acc: 0.1189\n",
      "Epoch 7/20\n",
      "60000/60000 [==============================] - 2s 26us/step - loss: 0.0894 - acc: 0.1286\n",
      "Epoch 8/20\n",
      "60000/60000 [==============================] - 2s 25us/step - loss: 0.0893 - acc: 0.1424\n",
      "Epoch 9/20\n",
      "60000/60000 [==============================] - 2s 25us/step - loss: 0.0892 - acc: 0.1553\n",
      "Epoch 10/20\n",
      "60000/60000 [==============================] - 2s 26us/step - loss: 0.0891 - acc: 0.1617\n",
      "Epoch 11/20\n",
      "60000/60000 [==============================] - 2s 26us/step - loss: 0.0890 - acc: 0.1754\n",
      "Epoch 12/20\n",
      "60000/60000 [==============================] - 2s 26us/step - loss: 0.0888 - acc: 0.1736\n",
      "Epoch 13/20\n",
      "60000/60000 [==============================] - 2s 26us/step - loss: 0.0887 - acc: 0.1962\n",
      "Epoch 14/20\n",
      "60000/60000 [==============================] - 2s 26us/step - loss: 0.0885 - acc: 0.1943\n",
      "Epoch 15/20\n",
      "60000/60000 [==============================] - 2s 26us/step - loss: 0.0884 - acc: 0.2049\n",
      "Epoch 16/20\n",
      "60000/60000 [==============================] - 2s 26us/step - loss: 0.0882 - acc: 0.2174\n",
      "Epoch 17/20\n",
      "60000/60000 [==============================] - 2s 26us/step - loss: 0.0880 - acc: 0.2287\n",
      "Epoch 18/20\n",
      "60000/60000 [==============================] - ETA: 0s - loss: 0.0877 - acc: 0.231 - 2s 26us/step - loss: 0.0877 - acc: 0.2322\n",
      "Epoch 19/20\n",
      "60000/60000 [==============================] - 2s 26us/step - loss: 0.0875 - acc: 0.2383\n",
      "Epoch 20/20\n",
      "60000/60000 [==============================] - 2s 26us/step - loss: 0.0872 - acc: 0.2522\n"
     ]
    },
    {
     "data": {
      "text/plain": [
       "<keras.callbacks.History at 0x248871c7080>"
      ]
     },
     "execution_count": 19,
     "metadata": {},
     "output_type": "execute_result"
    }
   ],
   "source": [
    "model_5.fit(mnist_train,y_train,batch_size=100,epochs=20)"
   ]
  },
  {
   "cell_type": "code",
   "execution_count": 20,
   "metadata": {},
   "outputs": [
    {
     "name": "stdout",
     "output_type": "stream",
     "text": [
      "_________________________________________________________________\n",
      "Layer (type)                 Output Shape              Param #   \n",
      "=================================================================\n",
      "dense_19 (Dense)             (None, 4)                 3140      \n",
      "_________________________________________________________________\n",
      "activation_19 (Activation)   (None, 4)                 0         \n",
      "_________________________________________________________________\n",
      "dense_20 (Dense)             (None, 2)                 10        \n",
      "_________________________________________________________________\n",
      "activation_20 (Activation)   (None, 2)                 0         \n",
      "_________________________________________________________________\n",
      "dense_21 (Dense)             (None, 2)                 6         \n",
      "_________________________________________________________________\n",
      "activation_21 (Activation)   (None, 2)                 0         \n",
      "_________________________________________________________________\n",
      "dense_22 (Dense)             (None, 10)                30        \n",
      "_________________________________________________________________\n",
      "activation_22 (Activation)   (None, 10)                0         \n",
      "=================================================================\n",
      "Total params: 3,186\n",
      "Trainable params: 3,186\n",
      "Non-trainable params: 0\n",
      "_________________________________________________________________\n"
     ]
    }
   ],
   "source": [
    "model_6 = Sequential()\n",
    "model_6.add(Dense(4,input_dim=784))\n",
    "model_6.add(Activation('sigmoid'))\n",
    "model_6.add(Dense(2))\n",
    "model_6.add(Activation('sigmoid'))\n",
    "model_6.add(Dense(2))\n",
    "model_6.add(Activation('sigmoid'))\n",
    "model_6.add(Dense(10))\n",
    "model_6.add(Activation('softmax'))\n",
    "model_6.compile(loss='mse',optimizer=SGD(lr=0.087),metrics=['accuracy'])\n",
    "model_6.summary()"
   ]
  },
  {
   "cell_type": "code",
   "execution_count": 21,
   "metadata": {},
   "outputs": [
    {
     "name": "stdout",
     "output_type": "stream",
     "text": [
      "Epoch 1/20\n",
      "60000/60000 [==============================] - 2s 29us/step - loss: 0.0905 - acc: 0.1022\n",
      "Epoch 2/20\n",
      "60000/60000 [==============================] - 2s 26us/step - loss: 0.0903 - acc: 0.1022\n",
      "Epoch 3/20\n",
      "60000/60000 [==============================] - 2s 27us/step - loss: 0.0902 - acc: 0.1022\n",
      "Epoch 4/20\n",
      "60000/60000 [==============================] - 2s 26us/step - loss: 0.0901 - acc: 0.1022\n",
      "Epoch 5/20\n",
      "60000/60000 [==============================] - 2s 26us/step - loss: 0.0900 - acc: 0.1022\n",
      "Epoch 6/20\n",
      "60000/60000 [==============================] - 2s 26us/step - loss: 0.0900 - acc: 0.1022\n",
      "Epoch 7/20\n",
      "60000/60000 [==============================] - 2s 26us/step - loss: 0.0899 - acc: 0.1169\n",
      "Epoch 8/20\n",
      "60000/60000 [==============================] - 2s 26us/step - loss: 0.0899 - acc: 0.1601\n",
      "Epoch 9/20\n",
      "60000/60000 [==============================] - 2s 25us/step - loss: 0.0899 - acc: 0.1740\n",
      "Epoch 10/20\n",
      "60000/60000 [==============================] - 2s 26us/step - loss: 0.0899 - acc: 0.1943\n",
      "Epoch 11/20\n",
      "60000/60000 [==============================] - 2s 26us/step - loss: 0.0898 - acc: 0.1956\n",
      "Epoch 12/20\n",
      "60000/60000 [==============================] - 2s 26us/step - loss: 0.0898 - acc: 0.1956\n",
      "Epoch 13/20\n",
      "60000/60000 [==============================] - 2s 25us/step - loss: 0.0898 - acc: 0.1970\n",
      "Epoch 14/20\n",
      "60000/60000 [==============================] - 2s 26us/step - loss: 0.0898 - acc: 0.1986\n",
      "Epoch 15/20\n",
      "60000/60000 [==============================] - 2s 26us/step - loss: 0.0898 - acc: 0.1908\n",
      "Epoch 16/20\n",
      "60000/60000 [==============================] - 2s 25us/step - loss: 0.0897 - acc: 0.1887\n",
      "Epoch 17/20\n",
      "60000/60000 [==============================] - 2s 26us/step - loss: 0.0897 - acc: 0.1769\n",
      "Epoch 18/20\n",
      "60000/60000 [==============================] - 2s 26us/step - loss: 0.0897 - acc: 0.1743\n",
      "Epoch 19/20\n",
      "60000/60000 [==============================] - 2s 26us/step - loss: 0.0897 - acc: 0.1776\n",
      "Epoch 20/20\n",
      "60000/60000 [==============================] - 2s 26us/step - loss: 0.0896 - acc: 0.1794\n"
     ]
    },
    {
     "data": {
      "text/plain": [
       "<keras.callbacks.History at 0x2488871ca58>"
      ]
     },
     "execution_count": 21,
     "metadata": {},
     "output_type": "execute_result"
    }
   ],
   "source": [
    "model_6.fit(mnist_train,y_train,batch_size=100,epochs=20)"
   ]
  },
  {
   "cell_type": "code",
   "execution_count": 22,
   "metadata": {},
   "outputs": [
    {
     "name": "stdout",
     "output_type": "stream",
     "text": [
      "_________________________________________________________________\n",
      "Layer (type)                 Output Shape              Param #   \n",
      "=================================================================\n",
      "dense_23 (Dense)             (None, 4)                 3140      \n",
      "_________________________________________________________________\n",
      "activation_23 (Activation)   (None, 4)                 0         \n",
      "_________________________________________________________________\n",
      "dense_24 (Dense)             (None, 200)               1000      \n",
      "_________________________________________________________________\n",
      "activation_24 (Activation)   (None, 200)               0         \n",
      "_________________________________________________________________\n",
      "dense_25 (Dense)             (None, 50)                10050     \n",
      "_________________________________________________________________\n",
      "activation_25 (Activation)   (None, 50)                0         \n",
      "_________________________________________________________________\n",
      "dense_26 (Dense)             (None, 10)                510       \n",
      "_________________________________________________________________\n",
      "activation_26 (Activation)   (None, 10)                0         \n",
      "=================================================================\n",
      "Total params: 14,700\n",
      "Trainable params: 14,700\n",
      "Non-trainable params: 0\n",
      "_________________________________________________________________\n"
     ]
    }
   ],
   "source": [
    "model_7 = Sequential()\n",
    "model_7.add(Dense(4,input_dim=784))\n",
    "model_7.add(Activation('sigmoid'))\n",
    "model_7.add(Dense(200))\n",
    "model_7.add(Activation('sigmoid'))\n",
    "model_7.add(Dense(50))\n",
    "model_7.add(Activation('sigmoid'))\n",
    "model_7.add(Dense(10))\n",
    "model_7.add(Activation('softmax'))\n",
    "model_7.compile(loss='mse',optimizer=SGD(lr=0.087),metrics=['accuracy'])\n",
    "model_7.summary()"
   ]
  },
  {
   "cell_type": "code",
   "execution_count": 23,
   "metadata": {},
   "outputs": [
    {
     "name": "stdout",
     "output_type": "stream",
     "text": [
      "Epoch 1/20\n",
      "60000/60000 [==============================] - 2s 29us/step - loss: 0.0910 - acc: 0.1040\n",
      "Epoch 2/20\n",
      "60000/60000 [==============================] - 2s 26us/step - loss: 0.0901 - acc: 0.1124\n",
      "Epoch 3/20\n",
      "60000/60000 [==============================] - 2s 26us/step - loss: 0.0900 - acc: 0.1124\n",
      "Epoch 4/20\n",
      "60000/60000 [==============================] - 2s 28us/step - loss: 0.0900 - acc: 0.1124\n",
      "Epoch 5/20\n",
      "60000/60000 [==============================] - 2s 28us/step - loss: 0.0900 - acc: 0.1124\n",
      "Epoch 6/20\n",
      "60000/60000 [==============================] - 2s 27us/step - loss: 0.0900 - acc: 0.1124\n",
      "Epoch 7/20\n",
      "60000/60000 [==============================] - 2s 27us/step - loss: 0.0900 - acc: 0.1124\n",
      "Epoch 8/20\n",
      "60000/60000 [==============================] - 2s 27us/step - loss: 0.0899 - acc: 0.1124\n",
      "Epoch 9/20\n",
      "60000/60000 [==============================] - 2s 27us/step - loss: 0.0899 - acc: 0.1124\n",
      "Epoch 10/20\n",
      "60000/60000 [==============================] - 2s 27us/step - loss: 0.0899 - acc: 0.1124\n",
      "Epoch 11/20\n",
      "60000/60000 [==============================] - 2s 26us/step - loss: 0.0899 - acc: 0.1124\n",
      "Epoch 12/20\n",
      "60000/60000 [==============================] - 2s 26us/step - loss: 0.0899 - acc: 0.1124\n",
      "Epoch 13/20\n",
      "60000/60000 [==============================] - 2s 27us/step - loss: 0.0899 - acc: 0.1124\n",
      "Epoch 14/20\n",
      "60000/60000 [==============================] - 2s 27us/step - loss: 0.0899 - acc: 0.1124\n",
      "Epoch 15/20\n",
      "60000/60000 [==============================] - 2s 27us/step - loss: 0.0899 - acc: 0.1124\n",
      "Epoch 16/20\n",
      "60000/60000 [==============================] - 2s 29us/step - loss: 0.0898 - acc: 0.1124\n",
      "Epoch 17/20\n",
      "60000/60000 [==============================] - 2s 27us/step - loss: 0.0898 - acc: 0.1124\n",
      "Epoch 18/20\n",
      "60000/60000 [==============================] - 2s 27us/step - loss: 0.0898 - acc: 0.1124\n",
      "Epoch 19/20\n",
      "60000/60000 [==============================] - 2s 27us/step - loss: 0.0898 - acc: 0.1124\n",
      "Epoch 20/20\n",
      "60000/60000 [==============================] - 2s 27us/step - loss: 0.0898 - acc: 0.1124\n"
     ]
    },
    {
     "data": {
      "text/plain": [
       "<keras.callbacks.History at 0x247f4032e80>"
      ]
     },
     "execution_count": 23,
     "metadata": {},
     "output_type": "execute_result"
    }
   ],
   "source": [
    "model_7.fit(mnist_train,y_train,batch_size=100,epochs=20)"
   ]
  },
  {
   "cell_type": "markdown",
   "metadata": {},
   "source": [
    "# 在各種嘗試下都沒起色，因此決定放棄sigmoid並且換個loss function試試看"
   ]
  },
  {
   "cell_type": "code",
   "execution_count": 24,
   "metadata": {},
   "outputs": [
    {
     "name": "stdout",
     "output_type": "stream",
     "text": [
      "_________________________________________________________________\n",
      "Layer (type)                 Output Shape              Param #   \n",
      "=================================================================\n",
      "dense_27 (Dense)             (None, 4)                 3140      \n",
      "_________________________________________________________________\n",
      "activation_27 (Activation)   (None, 4)                 0         \n",
      "_________________________________________________________________\n",
      "dense_28 (Dense)             (None, 200)               1000      \n",
      "_________________________________________________________________\n",
      "activation_28 (Activation)   (None, 200)               0         \n",
      "_________________________________________________________________\n",
      "dense_29 (Dense)             (None, 50)                10050     \n",
      "_________________________________________________________________\n",
      "activation_29 (Activation)   (None, 50)                0         \n",
      "_________________________________________________________________\n",
      "dense_30 (Dense)             (None, 10)                510       \n",
      "_________________________________________________________________\n",
      "activation_30 (Activation)   (None, 10)                0         \n",
      "=================================================================\n",
      "Total params: 14,700\n",
      "Trainable params: 14,700\n",
      "Non-trainable params: 0\n",
      "_________________________________________________________________\n"
     ]
    }
   ],
   "source": [
    "model_8 = Sequential()\n",
    "model_8.add(Dense(4,input_dim=784))\n",
    "model_8.add(Activation('relu'))\n",
    "model_8.add(Dense(200))\n",
    "model_8.add(Activation('relu'))\n",
    "model_8.add(Dense(50))\n",
    "model_8.add(Activation('relu'))\n",
    "model_8.add(Dense(10))\n",
    "model_8.add(Activation('softmax'))\n",
    "model_8.compile(loss='hinge',optimizer=SGD(lr=0.087),metrics=['accuracy'])\n",
    "model_8.summary()"
   ]
  },
  {
   "cell_type": "markdown",
   "metadata": {},
   "source": [
    "# 好像好了不少，但是還是不超過六成"
   ]
  },
  {
   "cell_type": "code",
   "execution_count": 25,
   "metadata": {},
   "outputs": [
    {
     "name": "stdout",
     "output_type": "stream",
     "text": [
      "Epoch 1/20\n",
      "60000/60000 [==============================] - 2s 31us/step - loss: 0.9585 - acc: 0.4158\n",
      "Epoch 2/20\n",
      "60000/60000 [==============================] - 2s 27us/step - loss: 0.9514 - acc: 0.4859\n",
      "Epoch 3/20\n",
      "60000/60000 [==============================] - 2s 27us/step - loss: 0.9507 - acc: 0.4927\n",
      "Epoch 4/20\n",
      "60000/60000 [==============================] - 2s 27us/step - loss: 0.9460 - acc: 0.5399\n",
      "Epoch 5/20\n",
      "60000/60000 [==============================] - 2s 27us/step - loss: 0.9438 - acc: 0.5626\n",
      "Epoch 6/20\n",
      "60000/60000 [==============================] - 2s 27us/step - loss: 0.9431 - acc: 0.5692\n",
      "Epoch 7/20\n",
      "60000/60000 [==============================] - 2s 26us/step - loss: 0.9429 - acc: 0.5710\n",
      "Epoch 8/20\n",
      "60000/60000 [==============================] - 2s 27us/step - loss: 0.9427 - acc: 0.5725\n",
      "Epoch 9/20\n",
      "60000/60000 [==============================] - 2s 27us/step - loss: 0.9426 - acc: 0.5738\n",
      "Epoch 10/20\n",
      "60000/60000 [==============================] - 2s 27us/step - loss: 0.9426 - acc: 0.5740\n",
      "Epoch 11/20\n",
      "60000/60000 [==============================] - 2s 26us/step - loss: 0.9425 - acc: 0.5755\n",
      "Epoch 12/20\n",
      "60000/60000 [==============================] - 2s 27us/step - loss: 0.9423 - acc: 0.5772\n",
      "Epoch 13/20\n",
      "60000/60000 [==============================] - 2s 27us/step - loss: 0.9423 - acc: 0.5771\n",
      "Epoch 14/20\n",
      "60000/60000 [==============================] - 2s 27us/step - loss: 0.9424 - acc: 0.5765\n",
      "Epoch 15/20\n",
      "60000/60000 [==============================] - 2s 27us/step - loss: 0.9422 - acc: 0.5784\n",
      "Epoch 16/20\n",
      "60000/60000 [==============================] - 2s 27us/step - loss: 0.9422 - acc: 0.5777\n",
      "Epoch 17/20\n",
      "60000/60000 [==============================] - 2s 27us/step - loss: 0.9421 - acc: 0.5791\n",
      "Epoch 18/20\n",
      "60000/60000 [==============================] - 2s 26us/step - loss: 0.9422 - acc: 0.5779\n",
      "Epoch 19/20\n",
      "60000/60000 [==============================] - 2s 26us/step - loss: 0.9421 - acc: 0.5790\n",
      "Epoch 20/20\n",
      "60000/60000 [==============================] - 2s 27us/step - loss: 0.9423 - acc: 0.5767\n"
     ]
    },
    {
     "data": {
      "text/plain": [
       "<keras.callbacks.History at 0x24888aae438>"
      ]
     },
     "execution_count": 25,
     "metadata": {},
     "output_type": "execute_result"
    }
   ],
   "source": [
    "model_8.fit(mnist_train,y_train,batch_size=100,epochs=20)"
   ]
  },
  {
   "cell_type": "code",
   "execution_count": 26,
   "metadata": {},
   "outputs": [
    {
     "name": "stdout",
     "output_type": "stream",
     "text": [
      "_________________________________________________________________\n",
      "Layer (type)                 Output Shape              Param #   \n",
      "=================================================================\n",
      "dense_31 (Dense)             (None, 20)                15700     \n",
      "_________________________________________________________________\n",
      "activation_31 (Activation)   (None, 20)                0         \n",
      "_________________________________________________________________\n",
      "dense_32 (Dense)             (None, 200)               4200      \n",
      "_________________________________________________________________\n",
      "activation_32 (Activation)   (None, 200)               0         \n",
      "_________________________________________________________________\n",
      "dense_33 (Dense)             (None, 50)                10050     \n",
      "_________________________________________________________________\n",
      "activation_33 (Activation)   (None, 50)                0         \n",
      "_________________________________________________________________\n",
      "dense_34 (Dense)             (None, 10)                510       \n",
      "_________________________________________________________________\n",
      "activation_34 (Activation)   (None, 10)                0         \n",
      "=================================================================\n",
      "Total params: 30,460\n",
      "Trainable params: 30,460\n",
      "Non-trainable params: 0\n",
      "_________________________________________________________________\n"
     ]
    }
   ],
   "source": [
    "model_9 = Sequential()\n",
    "model_9.add(Dense(20,input_dim=784))\n",
    "model_9.add(Activation('relu'))\n",
    "model_9.add(Dense(200))\n",
    "model_9.add(Activation('relu'))\n",
    "model_9.add(Dense(50))\n",
    "model_9.add(Activation('relu'))\n",
    "model_9.add(Dense(10))\n",
    "model_9.add(Activation('softmax'))\n",
    "model_9.compile(loss='hinge',optimizer=SGD(lr=0.087),metrics=['accuracy'])\n",
    "model_9.summary()"
   ]
  },
  {
   "cell_type": "code",
   "execution_count": 27,
   "metadata": {},
   "outputs": [
    {
     "name": "stdout",
     "output_type": "stream",
     "text": [
      "Epoch 1/20\n",
      "60000/60000 [==============================] - 2s 31us/step - loss: 0.9873 - acc: 0.1265\n",
      "Epoch 2/20\n",
      "60000/60000 [==============================] - 2s 27us/step - loss: 0.9749 - acc: 0.2513\n",
      "Epoch 3/20\n",
      "60000/60000 [==============================] - 2s 28us/step - loss: 0.9721 - acc: 0.2792\n",
      "Epoch 4/20\n",
      "60000/60000 [==============================] - 2s 29us/step - loss: 0.9690 - acc: 0.3103\n",
      "Epoch 5/20\n",
      "60000/60000 [==============================] - 2s 26us/step - loss: 0.9645 - acc: 0.3554\n",
      "Epoch 6/20\n",
      "60000/60000 [==============================] - 2s 26us/step - loss: 0.9640 - acc: 0.3601\n",
      "Epoch 7/20\n",
      "60000/60000 [==============================] - 2s 28us/step - loss: 0.9637 - acc: 0.3626\n",
      "Epoch 8/20\n",
      "60000/60000 [==============================] - 2s 27us/step - loss: 0.9635 - acc: 0.3648\n",
      "Epoch 9/20\n",
      "60000/60000 [==============================] - 2s 27us/step - loss: 0.9634 - acc: 0.3658\n",
      "Epoch 10/20\n",
      "60000/60000 [==============================] - 2s 28us/step - loss: 0.9633 - acc: 0.3669\n",
      "Epoch 11/20\n",
      "60000/60000 [==============================] - 2s 27us/step - loss: 0.9631 - acc: 0.3687\n",
      "Epoch 12/20\n",
      "60000/60000 [==============================] - 2s 30us/step - loss: 0.9631 - acc: 0.3690\n",
      "Epoch 13/20\n",
      "60000/60000 [==============================] - 2s 28us/step - loss: 0.9630 - acc: 0.3700\n",
      "Epoch 14/20\n",
      "60000/60000 [==============================] - 2s 29us/step - loss: 0.9629 - acc: 0.3713\n",
      "Epoch 15/20\n",
      "60000/60000 [==============================] - 2s 28us/step - loss: 0.9629 - acc: 0.3711\n",
      "Epoch 16/20\n",
      "60000/60000 [==============================] - 2s 28us/step - loss: 0.9628 - acc: 0.3719\n",
      "Epoch 17/20\n",
      "60000/60000 [==============================] - 2s 28us/step - loss: 0.9627 - acc: 0.3726\n",
      "Epoch 18/20\n",
      "60000/60000 [==============================] - 2s 28us/step - loss: 0.9628 - acc: 0.3724\n",
      "Epoch 19/20\n",
      "60000/60000 [==============================] - 2s 28us/step - loss: 0.9627 - acc: 0.3727\n",
      "Epoch 20/20\n",
      "60000/60000 [==============================] - 2s 28us/step - loss: 0.9627 - acc: 0.3734\n"
     ]
    },
    {
     "data": {
      "text/plain": [
       "<keras.callbacks.History at 0x248874dea20>"
      ]
     },
     "execution_count": 27,
     "metadata": {},
     "output_type": "execute_result"
    }
   ],
   "source": [
    "model_9.fit(mnist_train,y_train,batch_size=100,epochs=20)"
   ]
  },
  {
   "cell_type": "code",
   "execution_count": 28,
   "metadata": {},
   "outputs": [
    {
     "name": "stdout",
     "output_type": "stream",
     "text": [
      "_________________________________________________________________\n",
      "Layer (type)                 Output Shape              Param #   \n",
      "=================================================================\n",
      "dense_35 (Dense)             (None, 15)                11775     \n",
      "_________________________________________________________________\n",
      "activation_35 (Activation)   (None, 15)                0         \n",
      "_________________________________________________________________\n",
      "dense_36 (Dense)             (None, 30)                480       \n",
      "_________________________________________________________________\n",
      "activation_36 (Activation)   (None, 30)                0         \n",
      "_________________________________________________________________\n",
      "dense_37 (Dense)             (None, 10)                310       \n",
      "_________________________________________________________________\n",
      "activation_37 (Activation)   (None, 10)                0         \n",
      "=================================================================\n",
      "Total params: 12,565\n",
      "Trainable params: 12,565\n",
      "Non-trainable params: 0\n",
      "_________________________________________________________________\n"
     ]
    }
   ],
   "source": [
    "model_10 = Sequential()\n",
    "model_10.add(Dense(15,input_dim=784))\n",
    "model_10.add(Activation('relu'))\n",
    "model_10.add(Dense(30))\n",
    "model_10.add(Activation('relu'))\n",
    "model_10.add(Dense(10))\n",
    "model_10.add(Activation('softmax'))\n",
    "model_10.compile(loss='hinge',optimizer=SGD(lr=0.087),metrics=['accuracy'])\n",
    "model_10.summary()"
   ]
  },
  {
   "cell_type": "code",
   "execution_count": 29,
   "metadata": {},
   "outputs": [
    {
     "name": "stdout",
     "output_type": "stream",
     "text": [
      "Epoch 1/20\n",
      "60000/60000 [==============================] - 2s 35us/step - loss: 0.9759 - acc: 0.2408\n",
      "Epoch 2/20\n",
      "60000/60000 [==============================] - 2s 26us/step - loss: 0.9702 - acc: 0.2974\n",
      "Epoch 3/20\n",
      "60000/60000 [==============================] - 2s 26us/step - loss: 0.9492 - acc: 0.5081\n",
      "Epoch 4/20\n",
      "60000/60000 [==============================] - 2s 26us/step - loss: 0.9452 - acc: 0.5475\n",
      "Epoch 5/20\n",
      "60000/60000 [==============================] - 2s 27us/step - loss: 0.9445 - acc: 0.5552\n",
      "Epoch 6/20\n",
      "60000/60000 [==============================] - 2s 26us/step - loss: 0.9442 - acc: 0.5582\n",
      "Epoch 7/20\n",
      "60000/60000 [==============================] - 2s 25us/step - loss: 0.9439 - acc: 0.5611\n",
      "Epoch 8/20\n",
      "60000/60000 [==============================] - 2s 26us/step - loss: 0.9437 - acc: 0.5632\n",
      "Epoch 9/20\n",
      "60000/60000 [==============================] - 2s 26us/step - loss: 0.9416 - acc: 0.5836\n",
      "Epoch 10/20\n",
      "60000/60000 [==============================] - 2s 27us/step - loss: 0.9387 - acc: 0.6127\n",
      "Epoch 11/20\n",
      "60000/60000 [==============================] - 2s 27us/step - loss: 0.9374 - acc: 0.6260\n",
      "Epoch 12/20\n",
      "60000/60000 [==============================] - 2s 26us/step - loss: 0.9368 - acc: 0.6322\n",
      "Epoch 13/20\n",
      "60000/60000 [==============================] - 2s 26us/step - loss: 0.9366 - acc: 0.6338\n",
      "Epoch 14/20\n",
      "60000/60000 [==============================] - 2s 27us/step - loss: 0.9363 - acc: 0.6373\n",
      "Epoch 15/20\n",
      "60000/60000 [==============================] - 2s 26us/step - loss: 0.9361 - acc: 0.6391\n",
      "Epoch 16/20\n",
      "60000/60000 [==============================] - 2s 26us/step - loss: 0.9360 - acc: 0.6397\n",
      "Epoch 17/20\n",
      "60000/60000 [==============================] - 2s 26us/step - loss: 0.9358 - acc: 0.6418\n",
      "Epoch 18/20\n",
      "60000/60000 [==============================] - 2s 27us/step - loss: 0.9356 - acc: 0.6441\n",
      "Epoch 19/20\n",
      "60000/60000 [==============================] - 2s 27us/step - loss: 0.9355 - acc: 0.6446\n",
      "Epoch 20/20\n",
      "60000/60000 [==============================] - 2s 25us/step - loss: 0.9353 - acc: 0.6474\n"
     ]
    },
    {
     "data": {
      "text/plain": [
       "<keras.callbacks.History at 0x2488a0495c0>"
      ]
     },
     "execution_count": 29,
     "metadata": {},
     "output_type": "execute_result"
    }
   ],
   "source": [
    "model_10.fit(mnist_train,y_train,batch_size=100,epochs=20)"
   ]
  },
  {
   "cell_type": "markdown",
   "metadata": {},
   "source": [
    "# 使用mean_squared_logarithmic_error第一次突破九成"
   ]
  },
  {
   "cell_type": "code",
   "execution_count": 30,
   "metadata": {},
   "outputs": [
    {
     "name": "stdout",
     "output_type": "stream",
     "text": [
      "_________________________________________________________________\n",
      "Layer (type)                 Output Shape              Param #   \n",
      "=================================================================\n",
      "dense_38 (Dense)             (None, 15)                11775     \n",
      "_________________________________________________________________\n",
      "activation_38 (Activation)   (None, 15)                0         \n",
      "_________________________________________________________________\n",
      "dense_39 (Dense)             (None, 30)                480       \n",
      "_________________________________________________________________\n",
      "activation_39 (Activation)   (None, 30)                0         \n",
      "_________________________________________________________________\n",
      "dense_40 (Dense)             (None, 10)                310       \n",
      "_________________________________________________________________\n",
      "activation_40 (Activation)   (None, 10)                0         \n",
      "=================================================================\n",
      "Total params: 12,565\n",
      "Trainable params: 12,565\n",
      "Non-trainable params: 0\n",
      "_________________________________________________________________\n"
     ]
    }
   ],
   "source": [
    "model_11 = Sequential()\n",
    "model_11.add(Dense(15,input_dim=784))\n",
    "model_11.add(Activation('relu'))\n",
    "model_11.add(Dense(30))\n",
    "model_11.add(Activation('relu'))\n",
    "model_11.add(Dense(10))\n",
    "model_11.add(Activation('softmax'))\n",
    "model_11.compile(loss='mean_squared_logarithmic_error',optimizer=SGD(lr=0.087),metrics=['accuracy'])\n",
    "model_11.summary()"
   ]
  },
  {
   "cell_type": "code",
   "execution_count": 31,
   "metadata": {},
   "outputs": [
    {
     "name": "stdout",
     "output_type": "stream",
     "text": [
      "Epoch 1/20\n",
      "60000/60000 [==============================] - 2s 32us/step - loss: 0.0479 - acc: 0.4763\n",
      "Epoch 2/20\n",
      "60000/60000 [==============================] - 2s 27us/step - loss: 0.0237 - acc: 0.7339\n",
      "Epoch 3/20\n",
      "60000/60000 [==============================] - 2s 29us/step - loss: 0.0196 - acc: 0.7671\n",
      "Epoch 4/20\n",
      "60000/60000 [==============================] - 2s 27us/step - loss: 0.0180 - acc: 0.7855\n",
      "Epoch 5/20\n",
      "60000/60000 [==============================] - 2s 28us/step - loss: 0.0171 - acc: 0.7914\n",
      "Epoch 6/20\n",
      "60000/60000 [==============================] - 2s 27us/step - loss: 0.0163 - acc: 0.8003\n",
      "Epoch 7/20\n",
      "60000/60000 [==============================] - 2s 29us/step - loss: 0.0157 - acc: 0.8044\n",
      "Epoch 8/20\n",
      "60000/60000 [==============================] - 2s 29us/step - loss: 0.0153 - acc: 0.8083\n",
      "Epoch 9/20\n",
      "60000/60000 [==============================] - 2s 26us/step - loss: 0.0148 - acc: 0.8112\n",
      "Epoch 10/20\n",
      "60000/60000 [==============================] - 2s 28us/step - loss: 0.0145 - acc: 0.8137\n",
      "Epoch 11/20\n",
      "60000/60000 [==============================] - 2s 29us/step - loss: 0.0141 - acc: 0.8155\n",
      "Epoch 12/20\n",
      "60000/60000 [==============================] - 2s 27us/step - loss: 0.0138 - acc: 0.8180\n",
      "Epoch 13/20\n",
      "60000/60000 [==============================] - 2s 28us/step - loss: 0.0135 - acc: 0.8197\n",
      "Epoch 14/20\n",
      "60000/60000 [==============================] - 2s 27us/step - loss: 0.0132 - acc: 0.8211\n",
      "Epoch 15/20\n",
      "60000/60000 [==============================] - 2s 29us/step - loss: 0.0129 - acc: 0.8241\n",
      "Epoch 16/20\n",
      "60000/60000 [==============================] - 2s 29us/step - loss: 0.0126 - acc: 0.8257\n",
      "Epoch 17/20\n",
      "60000/60000 [==============================] - 2s 27us/step - loss: 0.0123 - acc: 0.8286\n",
      "Epoch 18/20\n",
      "60000/60000 [==============================] - 2s 27us/step - loss: 0.0115 - acc: 0.8557\n",
      "Epoch 19/20\n",
      "60000/60000 [==============================] - 2s 27us/step - loss: 0.0098 - acc: 0.9031\n",
      "Epoch 20/20\n",
      "60000/60000 [==============================] - 2s 27us/step - loss: 0.0090 - acc: 0.9100\n"
     ]
    },
    {
     "data": {
      "text/plain": [
       "<keras.callbacks.History at 0x2488b3aba20>"
      ]
     },
     "execution_count": 31,
     "metadata": {},
     "output_type": "execute_result"
    }
   ],
   "source": [
    "model_11.fit(mnist_train,y_train,batch_size=100,epochs=20)"
   ]
  },
  {
   "cell_type": "markdown",
   "metadata": {},
   "source": [
    "# 覺得神經元應該由大排到小所以嘗試看看"
   ]
  },
  {
   "cell_type": "markdown",
   "metadata": {},
   "source": [
    "model_12 = Sequential()\n",
    "model_12.add(Dense(30,input_dim=784))\n",
    "model_12.add(Activation('relu'))\n",
    "model_12.add(Dense(20))\n",
    "model_12.add(Activation('relu'))\n",
    "model_12.add(Dense(10))\n",
    "model_12.add(Activation('softmax'))\n",
    "model_12.compile(loss='mean_squared_logarithmic_error',optimizer=SGD(lr=0.087),metrics=['accuracy'])\n",
    "model_12.summary()"
   ]
  },
  {
   "cell_type": "code",
   "execution_count": 33,
   "metadata": {},
   "outputs": [
    {
     "name": "stdout",
     "output_type": "stream",
     "text": [
      "Epoch 1/20\n",
      "60000/60000 [==============================] - 2s 34us/step - loss: 0.0517 - acc: 0.4562\n",
      "Epoch 2/20\n",
      "60000/60000 [==============================] - 2s 27us/step - loss: 0.0255 - acc: 0.7311\n",
      "Epoch 3/20\n",
      "60000/60000 [==============================] - 2s 28us/step - loss: 0.0209 - acc: 0.7801\n",
      "Epoch 4/20\n",
      "60000/60000 [==============================] - 2s 28us/step - loss: 0.0198 - acc: 0.7923\n",
      "Epoch 5/20\n",
      "60000/60000 [==============================] - 2s 27us/step - loss: 0.0189 - acc: 0.8019\n",
      "Epoch 6/20\n",
      "60000/60000 [==============================] - 2s 26us/step - loss: 0.0180 - acc: 0.8106\n",
      "Epoch 7/20\n",
      "60000/60000 [==============================] - 2s 28us/step - loss: 0.0174 - acc: 0.8173\n",
      "Epoch 8/20\n",
      "60000/60000 [==============================] - 2s 29us/step - loss: 0.0171 - acc: 0.8208\n",
      "Epoch 9/20\n",
      "60000/60000 [==============================] - 2s 29us/step - loss: 0.0166 - acc: 0.8257\n",
      "Epoch 10/20\n",
      "60000/60000 [==============================] - 2s 29us/step - loss: 0.0164 - acc: 0.8279\n",
      "Epoch 11/20\n",
      "60000/60000 [==============================] - 2s 28us/step - loss: 0.0161 - acc: 0.8318\n",
      "Epoch 12/20\n",
      "60000/60000 [==============================] - 2s 29us/step - loss: 0.0160 - acc: 0.8321\n",
      "Epoch 13/20\n",
      "60000/60000 [==============================] - 2s 28us/step - loss: 0.0159 - acc: 0.8334\n",
      "Epoch 14/20\n",
      "60000/60000 [==============================] - 2s 29us/step - loss: 0.0159 - acc: 0.8334\n",
      "Epoch 15/20\n",
      "60000/60000 [==============================] - 2s 28us/step - loss: 0.0155 - acc: 0.8374\n",
      "Epoch 16/20\n",
      "60000/60000 [==============================] - 2s 29us/step - loss: 0.0154 - acc: 0.8384\n",
      "Epoch 17/20\n",
      "60000/60000 [==============================] - 2s 26us/step - loss: 0.0152 - acc: 0.8404\n",
      "Epoch 18/20\n",
      "60000/60000 [==============================] - 2s 26us/step - loss: 0.0152 - acc: 0.8412\n",
      "Epoch 19/20\n",
      "60000/60000 [==============================] - 2s 26us/step - loss: 0.0151 - acc: 0.8416\n",
      "Epoch 20/20\n",
      "60000/60000 [==============================] - 2s 28us/step - loss: 0.0153 - acc: 0.8396\n"
     ]
    },
    {
     "data": {
      "text/plain": [
       "<keras.callbacks.History at 0x2488c931978>"
      ]
     },
     "execution_count": 33,
     "metadata": {},
     "output_type": "execute_result"
    }
   ],
   "source": [
    "model_12.fit(mnist_train,y_train,batch_size=100,epochs=20)"
   ]
  },
  {
   "cell_type": "code",
   "execution_count": 34,
   "metadata": {},
   "outputs": [
    {
     "name": "stdout",
     "output_type": "stream",
     "text": [
      "_________________________________________________________________\n",
      "Layer (type)                 Output Shape              Param #   \n",
      "=================================================================\n",
      "dense_44 (Dense)             (None, 30)                23550     \n",
      "_________________________________________________________________\n",
      "activation_44 (Activation)   (None, 30)                0         \n",
      "_________________________________________________________________\n",
      "dense_45 (Dense)             (None, 200)               6200      \n",
      "_________________________________________________________________\n",
      "activation_45 (Activation)   (None, 200)               0         \n",
      "_________________________________________________________________\n",
      "dense_46 (Dense)             (None, 10)                2010      \n",
      "_________________________________________________________________\n",
      "activation_46 (Activation)   (None, 10)                0         \n",
      "=================================================================\n",
      "Total params: 31,760\n",
      "Trainable params: 31,760\n",
      "Non-trainable params: 0\n",
      "_________________________________________________________________\n"
     ]
    }
   ],
   "source": [
    "model_13 = Sequential()\n",
    "model_13.add(Dense(30,input_dim=784))\n",
    "model_13.add(Activation('relu'))\n",
    "model_13.add(Dense(200))\n",
    "model_13.add(Activation('relu'))\n",
    "model_13.add(Dense(10))\n",
    "model_13.add(Activation('softmax'))\n",
    "model_13.compile(loss='mean_squared_logarithmic_error',optimizer=SGD(lr=0.087),metrics=['accuracy'])\n",
    "model_13.summary()"
   ]
  },
  {
   "cell_type": "code",
   "execution_count": 35,
   "metadata": {},
   "outputs": [
    {
     "name": "stdout",
     "output_type": "stream",
     "text": [
      "Epoch 1/20\n",
      "60000/60000 [==============================] - 2s 33us/step - loss: 0.0679 - acc: 0.2845\n",
      "Epoch 2/20\n",
      "60000/60000 [==============================] - 2s 28us/step - loss: 0.0484 - acc: 0.4904\n",
      "Epoch 3/20\n",
      "60000/60000 [==============================] - 2s 28us/step - loss: 0.0430 - acc: 0.5480\n",
      "Epoch 4/20\n",
      "60000/60000 [==============================] - 2s 29us/step - loss: 0.0373 - acc: 0.6071\n",
      "Epoch 5/20\n",
      "60000/60000 [==============================] - 2s 28us/step - loss: 0.0329 - acc: 0.6532\n",
      "Epoch 6/20\n",
      "60000/60000 [==============================] - 2s 28us/step - loss: 0.0288 - acc: 0.6959\n",
      "Epoch 7/20\n",
      "60000/60000 [==============================] - 2s 28us/step - loss: 0.0279 - acc: 0.7056\n",
      "Epoch 8/20\n",
      "60000/60000 [==============================] - 2s 28us/step - loss: 0.0273 - acc: 0.7123\n",
      "Epoch 9/20\n",
      "60000/60000 [==============================] - 2s 27us/step - loss: 0.0270 - acc: 0.7154\n",
      "Epoch 10/20\n",
      "60000/60000 [==============================] - 2s 28us/step - loss: 0.0266 - acc: 0.7199\n",
      "Epoch 11/20\n",
      "60000/60000 [==============================] - 2s 28us/step - loss: 0.0264 - acc: 0.7220\n",
      "Epoch 12/20\n",
      "60000/60000 [==============================] - 2s 27us/step - loss: 0.0259 - acc: 0.7258\n",
      "Epoch 13/20\n",
      "60000/60000 [==============================] - 2s 28us/step - loss: 0.0259 - acc: 0.7262\n",
      "Epoch 14/20\n",
      "60000/60000 [==============================] - 2s 27us/step - loss: 0.0253 - acc: 0.7311\n",
      "Epoch 15/20\n",
      "60000/60000 [==============================] - 2s 28us/step - loss: 0.0255 - acc: 0.7290\n",
      "Epoch 16/20\n",
      "60000/60000 [==============================] - 2s 27us/step - loss: 0.0250 - acc: 0.7313\n",
      "Epoch 17/20\n",
      "60000/60000 [==============================] - 2s 28us/step - loss: 0.0247 - acc: 0.7332\n",
      "Epoch 18/20\n",
      "60000/60000 [==============================] - 2s 28us/step - loss: 0.0241 - acc: 0.7352\n",
      "Epoch 19/20\n",
      "60000/60000 [==============================] - 2s 28us/step - loss: 0.0236 - acc: 0.7374\n",
      "Epoch 20/20\n",
      "60000/60000 [==============================] - 2s 28us/step - loss: 0.0233 - acc: 0.7380\n"
     ]
    },
    {
     "data": {
      "text/plain": [
       "<keras.callbacks.History at 0x2488c9b7630>"
      ]
     },
     "execution_count": 35,
     "metadata": {},
     "output_type": "execute_result"
    }
   ],
   "source": [
    "model_13.fit(mnist_train,y_train,batch_size=100,epochs=20)"
   ]
  },
  {
   "cell_type": "markdown",
   "metadata": {},
   "source": [
    "# 發現由大排到小效果都不錯英此開始增加層數"
   ]
  },
  {
   "cell_type": "code",
   "execution_count": 36,
   "metadata": {},
   "outputs": [
    {
     "name": "stdout",
     "output_type": "stream",
     "text": [
      "_________________________________________________________________\n",
      "Layer (type)                 Output Shape              Param #   \n",
      "=================================================================\n",
      "dense_47 (Dense)             (None, 50)                39250     \n",
      "_________________________________________________________________\n",
      "activation_47 (Activation)   (None, 50)                0         \n",
      "_________________________________________________________________\n",
      "dense_48 (Dense)             (None, 40)                2040      \n",
      "_________________________________________________________________\n",
      "activation_48 (Activation)   (None, 40)                0         \n",
      "_________________________________________________________________\n",
      "dense_49 (Dense)             (None, 30)                1230      \n",
      "_________________________________________________________________\n",
      "activation_49 (Activation)   (None, 30)                0         \n",
      "_________________________________________________________________\n",
      "dense_50 (Dense)             (None, 20)                620       \n",
      "_________________________________________________________________\n",
      "activation_50 (Activation)   (None, 20)                0         \n",
      "_________________________________________________________________\n",
      "dense_51 (Dense)             (None, 10)                210       \n",
      "_________________________________________________________________\n",
      "activation_51 (Activation)   (None, 10)                0         \n",
      "=================================================================\n",
      "Total params: 43,350\n",
      "Trainable params: 43,350\n",
      "Non-trainable params: 0\n",
      "_________________________________________________________________\n"
     ]
    }
   ],
   "source": [
    "model_14 = Sequential()\n",
    "model_14.add(Dense(50,input_dim=784))\n",
    "model_14.add(Activation('relu'))\n",
    "model_14.add(Dense(40))\n",
    "model_14.add(Activation('relu'))\n",
    "model_14.add(Dense(30))\n",
    "model_14.add(Activation('relu'))\n",
    "model_14.add(Dense(20))\n",
    "model_14.add(Activation('relu'))\n",
    "model_14.add(Dense(10))\n",
    "model_14.add(Activation('softmax'))\n",
    "model_14.compile(loss='mean_squared_logarithmic_error',optimizer=SGD(lr=0.087),metrics=['accuracy'])\n",
    "model_14.summary()"
   ]
  },
  {
   "cell_type": "code",
   "execution_count": 37,
   "metadata": {},
   "outputs": [
    {
     "name": "stdout",
     "output_type": "stream",
     "text": [
      "Epoch 1/20\n",
      "60000/60000 [==============================] - 2s 39us/step - loss: 0.0464 - acc: 0.5030\n",
      "Epoch 2/20\n",
      "60000/60000 [==============================] - 2s 31us/step - loss: 0.0352 - acc: 0.6251\n",
      "Epoch 3/20\n",
      "60000/60000 [==============================] - 2s 31us/step - loss: 0.0307 - acc: 0.6732\n",
      "Epoch 4/20\n",
      "60000/60000 [==============================] - 2s 31us/step - loss: 0.0254 - acc: 0.7292\n",
      "Epoch 5/20\n",
      "60000/60000 [==============================] - 2s 32us/step - loss: 0.0242 - acc: 0.7426\n",
      "Epoch 6/20\n",
      "60000/60000 [==============================] - 2s 31us/step - loss: 0.0237 - acc: 0.7481\n",
      "Epoch 7/20\n",
      "60000/60000 [==============================] - 2s 31us/step - loss: 0.0232 - acc: 0.7539\n",
      "Epoch 8/20\n",
      "60000/60000 [==============================] - 2s 32us/step - loss: 0.0227 - acc: 0.7581\n",
      "Epoch 9/20\n",
      "60000/60000 [==============================] - 2s 31us/step - loss: 0.0183 - acc: 0.8011\n",
      "Epoch 10/20\n",
      "60000/60000 [==============================] - 2s 31us/step - loss: 0.0092 - acc: 0.8972\n",
      "Epoch 11/20\n",
      "60000/60000 [==============================] - 2s 32us/step - loss: 0.0075 - acc: 0.9172\n",
      "Epoch 12/20\n",
      "60000/60000 [==============================] - 2s 31us/step - loss: 0.0069 - acc: 0.9241\n",
      "Epoch 13/20\n",
      "60000/60000 [==============================] - 2s 31us/step - loss: 0.0064 - acc: 0.9292\n",
      "Epoch 14/20\n",
      "60000/60000 [==============================] - 2s 32us/step - loss: 0.0062 - acc: 0.9313\n",
      "Epoch 15/20\n",
      "60000/60000 [==============================] - 2s 31us/step - loss: 0.0059 - acc: 0.9349\n",
      "Epoch 16/20\n",
      "60000/60000 [==============================] - 2s 32us/step - loss: 0.0056 - acc: 0.9390\n",
      "Epoch 17/20\n",
      "60000/60000 [==============================] - 2s 32us/step - loss: 0.0054 - acc: 0.9408\n",
      "Epoch 18/20\n",
      "60000/60000 [==============================] - 2s 31us/step - loss: 0.0050 - acc: 0.9446\n",
      "Epoch 19/20\n",
      "60000/60000 [==============================] - 2s 32us/step - loss: 0.0049 - acc: 0.9459\n",
      "Epoch 20/20\n",
      "60000/60000 [==============================] - 2s 32us/step - loss: 0.0048 - acc: 0.9468\n"
     ]
    },
    {
     "data": {
      "text/plain": [
       "<keras.callbacks.History at 0x2488cc54b70>"
      ]
     },
     "execution_count": 37,
     "metadata": {},
     "output_type": "execute_result"
    }
   ],
   "source": [
    "model_14.fit(mnist_train,y_train,batch_size=100,epochs=20)"
   ]
  },
  {
   "cell_type": "markdown",
   "metadata": {},
   "source": [
    "# 這方法大概最好就9成5了"
   ]
  },
  {
   "cell_type": "markdown",
   "metadata": {},
   "source": [
    "model_15 = Sequential()\n",
    "model_15.add(Dense(60,input_dim=784))\n",
    "model_15.add(Activation('relu'))\n",
    "model_15.add(Dense(50))\n",
    "model_15.add(Activation('relu'))\n",
    "model_15.add(Dense(40))\n",
    "model_15.add(Activation('relu'))\n",
    "model_15.add(Dense(30))\n",
    "model_15.add(Activation('relu'))\n",
    "model_15.add(Dense(10))\n",
    "model_15.add(Activation('softmax'))\n",
    "model_15.compile(loss='mean_squared_logarithmic_error',optimizer=SGD(lr=0.087),metrics=['accuracy'])\n",
    "model_15.summary()"
   ]
  },
  {
   "cell_type": "code",
   "execution_count": 43,
   "metadata": {},
   "outputs": [
    {
     "name": "stdout",
     "output_type": "stream",
     "text": [
      "Epoch 1/20\n",
      "60000/60000 [==============================] - 2s 38us/step - loss: 0.0480 - acc: 0.4853\n",
      "Epoch 2/20\n",
      "60000/60000 [==============================] - 2s 28us/step - loss: 0.0345 - acc: 0.6312\n",
      "Epoch 3/20\n",
      "60000/60000 [==============================] - 2s 29us/step - loss: 0.0329 - acc: 0.6482\n",
      "Epoch 4/20\n",
      "60000/60000 [==============================] - 2s 28us/step - loss: 0.0318 - acc: 0.6559\n",
      "Epoch 5/20\n",
      "60000/60000 [==============================] - 2s 28us/step - loss: 0.0307 - acc: 0.6593\n",
      "Epoch 6/20\n",
      "60000/60000 [==============================] - 2s 28us/step - loss: 0.0286 - acc: 0.6605\n",
      "Epoch 7/20\n",
      "60000/60000 [==============================] - 2s 29us/step - loss: 0.0225 - acc: 0.7343\n",
      "Epoch 8/20\n",
      "60000/60000 [==============================] - 2s 28us/step - loss: 0.0175 - acc: 0.7925\n",
      "Epoch 9/20\n",
      "60000/60000 [==============================] - 2s 29us/step - loss: 0.0120 - acc: 0.8575\n",
      "Epoch 10/20\n",
      "60000/60000 [==============================] - 2s 28us/step - loss: 0.0070 - acc: 0.9156\n",
      "Epoch 11/20\n",
      "60000/60000 [==============================] - 2s 28us/step - loss: 0.0060 - acc: 0.9283\n",
      "Epoch 12/20\n",
      "60000/60000 [==============================] - 2s 29us/step - loss: 0.0054 - acc: 0.9346\n",
      "Epoch 13/20\n",
      "60000/60000 [==============================] - 2s 28us/step - loss: 0.0050 - acc: 0.9404\n",
      "Epoch 14/20\n",
      "60000/60000 [==============================] - 2s 29us/step - loss: 0.0047 - acc: 0.9442\n",
      "Epoch 15/20\n",
      "60000/60000 [==============================] - 2s 28us/step - loss: 0.0044 - acc: 0.9474\n",
      "Epoch 16/20\n",
      "60000/60000 [==============================] - 2s 29us/step - loss: 0.0041 - acc: 0.9504\n",
      "Epoch 17/20\n",
      "60000/60000 [==============================] - 2s 29us/step - loss: 0.0039 - acc: 0.9534\n",
      "Epoch 18/20\n",
      "60000/60000 [==============================] - 2s 29us/step - loss: 0.0037 - acc: 0.9555\n",
      "Epoch 19/20\n",
      "60000/60000 [==============================] - 2s 29us/step - loss: 0.0035 - acc: 0.9582\n",
      "Epoch 20/20\n",
      "60000/60000 [==============================] - 2s 29us/step - loss: 0.0034 - acc: 0.9596\n"
     ]
    }
   ],
   "source": [
    "model_15_fitted=model_15.fit(mnist_train,y_train,batch_size=100,epochs=20)"
   ]
  },
  {
   "cell_type": "markdown",
   "metadata": {},
   "source": [
    "# 結論:神經元應該要由大排到小且mean_squared_logarithmic_error是一個不錯的loss function"
   ]
  },
  {
   "cell_type": "code",
   "execution_count": 44,
   "metadata": {},
   "outputs": [
    {
     "name": "stdout",
     "output_type": "stream",
     "text": [
      "10000/10000 [==============================] - 1s 67us/step\n"
     ]
    },
    {
     "data": {
      "text/plain": [
       "[0.004184371752277672, 0.9495]"
      ]
     },
     "execution_count": 44,
     "metadata": {},
     "output_type": "execute_result"
    }
   ],
   "source": [
    "model_15.evaluate(mnist_test,y_test)"
   ]
  },
  {
   "cell_type": "code",
   "execution_count": 45,
   "metadata": {},
   "outputs": [
    {
     "data": {
      "text/plain": [
       "[<matplotlib.lines.Line2D at 0x2488f86b390>]"
      ]
     },
     "execution_count": 45,
     "metadata": {},
     "output_type": "execute_result"
    },
    {
     "data": {
      "image/png": "[encoded data removed]",
      "text/plain": [
       "<Figure size 432x288 with 1 Axes>"
      ]
     },
     "metadata": {
      "needs_background": "light"
     },
     "output_type": "display_data"
    }
   ],
   "source": [
    "plt.plot(model_15_fitted.history[\"acc\"])"
   ]
  },
  {
   "cell_type": "code",
   "execution_count": null,
   "metadata": {},
   "outputs": [],
   "source": []
  }
 ],
 "metadata": {
  "kernelspec": {
   "display_name": "Python 3",
   "language": "python",
   "name": "python3"
  },
  "language_info": {
   "codemirror_mode": {
    "name": "ipython",
    "version": 3
   },
   "file_extension": ".py",
   "mimetype": "text/x-python",
   "name": "python",
   "nbconvert_exporter": "python",
   "pygments_lexer": "ipython3",
   "version": "3.6.8"
  }
 },
 "nbformat": 4,
 "nbformat_minor": 2
}
