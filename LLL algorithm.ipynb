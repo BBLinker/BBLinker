{
 "cells": [
  {
   "cell_type": "code",
   "execution_count": 1,
   "metadata": {},
   "outputs": [],
   "source": [
    "import numpy as np\n"
   ]
  },
  {
   "cell_type": "code",
   "execution_count": 2,
   "metadata": {},
   "outputs": [],
   "source": [
    "def euclid_gcd(a, b):\n",
    "    if b == 0: \n",
    "        return a \n",
    "    x = a % b \n",
    "    return euclid_gcd(b, x)"
   ]
  },
  {
   "cell_type": "code",
   "execution_count": 3,
   "metadata": {},
   "outputs": [],
   "source": [
    "def gram_schmidt(basis):\n",
    "    b=[]\n",
    "    b.append(basis[0])\n",
    "    i=1\n",
    "    while i < (len(basis)):\n",
    "        j=0\n",
    "        b.append(basis[i])\n",
    "        while j < i:\n",
    "            nu=np.inner(basis[i],b[j])/np.inner(b[j],b[j])\n",
    "            c=[i*nu for i in b[j]]\n",
    "            b[i]=tuple(np.array(b[i])-np.array(c))\n",
    "            j=j+1\n",
    "        i=i+1\n",
    "    return b"
   ]
  },
  {
   "cell_type": "code",
   "execution_count": 4,
   "metadata": {},
   "outputs": [],
   "source": [
    "def swap(x, y, b):\n",
    "    d=b[x]\n",
    "    b[x]=b[y]\n",
    "    b[y]=d\n",
    "    return b"
   ]
  },
  {
   "cell_type": "code",
   "execution_count": 35,
   "metadata": {},
   "outputs": [],
   "source": [
    "def lll(basis):\n",
    "    d=gram_schmidt(basis)\n",
    "    b=basis\n",
    "    i=1\n",
    "    while i < len(b):\n",
    "        j=i-1\n",
    "        while 0<=j:\n",
    "            nu=np.inner(b[i],d[j])/np.inner(d[j],d[j])\n",
    "            if(nu>1/2 or nu<-1/2):\n",
    "                c=[k*round(nu) for k in b[j]]\n",
    "                b[i]=tuple(np.array(b[i])-np.array(c))\n",
    "            d=gram_schmidt(b)\n",
    "            j=j-1\n",
    "        m=np.inner(b[i],d[i-1])/np.inner(d[i-1],d[i-1])\n",
    "        if (np.inner(d[i],d[i])>=(3/4-m*m)*(np.inner(d[i-1],d[i-1]))):\n",
    "            i=i+1\n",
    "        else:\n",
    "            swap(i,i-1,b)\n",
    "            i=max(i-1,1)\n",
    "    return b\n",
    "           \n",
    "        \n",
    "    "
   ]
  },
  {
   "cell_type": "code",
   "execution_count": 40,
   "metadata": {},
   "outputs": [],
   "source": [
    "basis=[(1,1,1),(-1,0,2),(3,5,6)]"
   ]
  },
  {
   "cell_type": "code",
   "execution_count": 41,
   "metadata": {},
   "outputs": [
    {
     "data": {
      "text/plain": [
       "[(0.0, 1.0, 0.0), (1.0, 0.0, 1.0), (-1, 0, 2)]"
      ]
     },
     "execution_count": 41,
     "metadata": {},
     "output_type": "execute_result"
    }
   ],
   "source": [
    "lll(basis)"
   ]
  },
  {
   "cell_type": "code",
   "execution_count": 42,
   "metadata": {},
   "outputs": [],
   "source": [
    "basis=[(19,2,32,46,3,33),(15,42,11,0,3,24),(43,15,0,24,4,16),(20,44,44,0,18,15),(0,48,35,16,31,31),(48,33,32,9,1,29)]"
   ]
  },
  {
   "cell_type": "code",
   "execution_count": 43,
   "metadata": {},
   "outputs": [
    {
     "data": {
      "text/plain": [
       "[(7.0, -12.0, -8.0, 4.0, 19.0, 9.0),\n",
       " (-20.0, 4.0, -9.0, 16.0, 13.0, 16.0),\n",
       " (5.0, 2.0, 33.0, 0.0, 15.0, -9.0),\n",
       " (-6.0, -7.0, -20.0, -21.0, 8.0, -12.0),\n",
       " (-10.0, -24.0, 21.0, -15.0, -6.0, -11.0),\n",
       " (7.0, 4.0, -9.0, -11.0, 1.0, 31.0)]"
      ]
     },
     "execution_count": 43,
     "metadata": {},
     "output_type": "execute_result"
    }
   ],
   "source": [
    "lll(basis)"
   ]
  },
  {
   "cell_type": "code",
   "execution_count": 44,
   "metadata": {},
   "outputs": [],
   "source": [
    "basis=[(2,0,0,0,0,89),(0,2,0,0,0,243),(0,0,2,0,0,212),(0,0,0,2,0,150),(0,0,0,0,2,245),(1,1,1,1,1,546)]"
   ]
  },
  {
   "cell_type": "code",
   "execution_count": 45,
   "metadata": {},
   "outputs": [
    {
     "data": {
      "text/plain": [
       "[(-1.0, 1.0, -1.0, 1.0, -1.0, 0.0),\n",
       " (1.0, -1.0, -1.0, 1.0, -1.0, -1.0),\n",
       " (-1.0, -1.0, -1.0, 1.0, 1.0, 2.0),\n",
       " (-1.0, 1.0, 1.0, 1.0, 1.0, -2.0),\n",
       " (-2.0, -2.0, 4.0, 0.0, -2.0, 0.0),\n",
       " (-6.0, -4.0, -6.0, -6.0, 0.0, -3.0)]"
      ]
     },
     "execution_count": 45,
     "metadata": {},
     "output_type": "execute_result"
    }
   ],
   "source": [
    "lll(basis)"
   ]
  },
  {
   "cell_type": "code",
   "execution_count": null,
   "metadata": {},
   "outputs": [],
   "source": []
  }
 ],
 "metadata": {
  "kernelspec": {
   "display_name": "Python (tensorflow-gpu4)",
   "language": "python",
   "name": "tensorflow-gpu"
  },
  "language_info": {
   "codemirror_mode": {
    "name": "ipython",
    "version": 3
   },
   "file_extension": ".py",
   "mimetype": "text/x-python",
   "name": "python",
   "nbconvert_exporter": "python",
   "pygments_lexer": "ipython3",
   "version": "3.6.8"
  }
 },
 "nbformat": 4,
 "nbformat_minor": 2
}
