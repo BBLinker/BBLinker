{
 "cells": [
  {
   "cell_type": "code",
   "execution_count": 1,
   "metadata": {},
   "outputs": [],
   "source": [
    "%matplotlib inline\n",
    "import numpy as np\n",
    "import matplotlib.pyplot as plt\n",
    "from ipywidgets import interact_manual\n",
    "import pandas as pd"
   ]
  },
  {
   "cell_type": "code",
   "execution_count": 2,
   "metadata": {},
   "outputs": [
    {
     "name": "stderr",
     "output_type": "stream",
     "text": [
      "Using TensorFlow backend.\n"
     ]
    }
   ],
   "source": [
    "from keras.datasets import mnist"
   ]
  },
  {
   "cell_type": "code",
   "execution_count": 3,
   "metadata": {},
   "outputs": [],
   "source": [
    "(x_train, y_train), (x_test, y_test) = mnist.load_data()"
   ]
  },
  {
   "cell_type": "code",
   "execution_count": 4,
   "metadata": {},
   "outputs": [],
   "source": [
    "x_train = x_train.reshape(60000, 784)\n",
    "x_test = x_test.reshape(10000, 784)"
   ]
  },
  {
   "cell_type": "code",
   "execution_count": 5,
   "metadata": {},
   "outputs": [],
   "source": [
    "from keras.utils import np_utils"
   ]
  },
  {
   "cell_type": "code",
   "execution_count": 6,
   "metadata": {},
   "outputs": [],
   "source": [
    "y_train = np_utils.to_categorical(y_train,10)\n",
    "y_test = np_utils.to_categorical(y_test,10)"
   ]
  },
  {
   "cell_type": "code",
   "execution_count": 23,
   "metadata": {},
   "outputs": [],
   "source": [
    "x_train = (x_train - x_train.min())/(x_train.max() - x_train.min())\n",
    "x_test = (x_test - x_test.min())/(x_test.max() - x_test.min())"
   ]
  },
  {
   "cell_type": "code",
   "execution_count": 7,
   "metadata": {},
   "outputs": [],
   "source": [
    "from keras.models import Sequential\n",
    "from keras.layers import Dense, Activation\n",
    "from keras.optimizers import SGD"
   ]
  },
  {
   "cell_type": "code",
   "execution_count": 8,
   "metadata": {},
   "outputs": [
    {
     "name": "stdout",
     "output_type": "stream",
     "text": [
      "WARNING:tensorflow:From D:\\python\\envs\\py36\\lib\\site-packages\\tensorflow\\python\\framework\\op_def_library.py:263: colocate_with (from tensorflow.python.framework.ops) is deprecated and will be removed in a future version.\n",
      "Instructions for updating:\n",
      "Colocations handled automatically by placer.\n"
     ]
    }
   ],
   "source": [
    "model_3 = Sequential()\n",
    "model_3.add(Dense(1000, input_dim=784))\n",
    "model_3.add(Activation('sigmoid'))\n",
    "model_3.add(Dense(1000))\n",
    "model_3.add(Activation('sigmoid'))\n",
    "model_3.add(Dense(10))\n",
    "model_3.add(Activation('softmax'))\n",
    "model_3.compile(loss='mse', optimizer=SGD(lr=0.087), metrics=['accuracy'])"
   ]
  },
  {
   "cell_type": "code",
   "execution_count": 9,
   "metadata": {},
   "outputs": [
    {
     "name": "stdout",
     "output_type": "stream",
     "text": [
      "WARNING:tensorflow:From D:\\python\\envs\\py36\\lib\\site-packages\\tensorflow\\python\\ops\\math_ops.py:3066: to_int32 (from tensorflow.python.ops.math_ops) is deprecated and will be removed in a future version.\n",
      "Instructions for updating:\n",
      "Use tf.cast instead.\n",
      "Train on 60000 samples, validate on 10000 samples\n",
      "Epoch 1/20\n",
      "60000/60000 [==============================] - 5s 77us/step - loss: 0.0791 - acc: 0.4310 - val_loss: 0.0647 - val_acc: 0.6036\n",
      "Epoch 2/20\n",
      "60000/60000 [==============================] - 3s 44us/step - loss: 0.0528 - acc: 0.7098 - val_loss: 0.0418 - val_acc: 0.7845\n",
      "Epoch 3/20\n",
      "60000/60000 [==============================] - 3s 45us/step - loss: 0.0354 - acc: 0.8254 - val_loss: 0.0291 - val_acc: 0.8569\n",
      "Epoch 4/20\n",
      "60000/60000 [==============================] - 3s 46us/step - loss: 0.0260 - acc: 0.8715 - val_loss: 0.0225 - val_acc: 0.8877\n",
      "Epoch 5/20\n",
      "60000/60000 [==============================] - 3s 44us/step - loss: 0.0211 - acc: 0.8899 - val_loss: 0.0190 - val_acc: 0.8982\n",
      "Epoch 6/20\n",
      "60000/60000 [==============================] - 3s 45us/step - loss: 0.0182 - acc: 0.9007 - val_loss: 0.0170 - val_acc: 0.9044\n",
      "Epoch 7/20\n",
      "60000/60000 [==============================] - 3s 44us/step - loss: 0.0163 - acc: 0.9080 - val_loss: 0.0156 - val_acc: 0.9116\n",
      "Epoch 8/20\n",
      "60000/60000 [==============================] - 3s 51us/step - loss: 0.0150 - acc: 0.9144 - val_loss: 0.0145 - val_acc: 0.9153\n",
      "Epoch 9/20\n",
      "60000/60000 [==============================] - 3s 45us/step - loss: 0.0139 - acc: 0.9201 - val_loss: 0.0138 - val_acc: 0.9192\n",
      "Epoch 10/20\n",
      "60000/60000 [==============================] - 3s 45us/step - loss: 0.0131 - acc: 0.9244 - val_loss: 0.0131 - val_acc: 0.9218\n",
      "Epoch 11/20\n",
      "60000/60000 [==============================] - 3s 44us/step - loss: 0.0123 - acc: 0.9286 - val_loss: 0.0127 - val_acc: 0.9226\n",
      "Epoch 12/20\n",
      "60000/60000 [==============================] - 3s 45us/step - loss: 0.0117 - acc: 0.9322 - val_loss: 0.0122 - val_acc: 0.9247\n",
      "Epoch 13/20\n",
      "60000/60000 [==============================] - 3s 45us/step - loss: 0.0112 - acc: 0.9357 - val_loss: 0.0119 - val_acc: 0.9257\n",
      "Epoch 14/20\n",
      "60000/60000 [==============================] - 3s 45us/step - loss: 0.0107 - acc: 0.9384 - val_loss: 0.0116 - val_acc: 0.9287\n",
      "Epoch 15/20\n",
      "60000/60000 [==============================] - 3s 45us/step - loss: 0.0103 - acc: 0.9412 - val_loss: 0.0113 - val_acc: 0.9294\n",
      "Epoch 16/20\n",
      "60000/60000 [==============================] - 3s 46us/step - loss: 0.0099 - acc: 0.9431 - val_loss: 0.0111 - val_acc: 0.9305\n",
      "Epoch 17/20\n",
      "60000/60000 [==============================] - 3s 44us/step - loss: 0.0095 - acc: 0.9459 - val_loss: 0.0109 - val_acc: 0.9308\n",
      "Epoch 18/20\n",
      "60000/60000 [==============================] - 3s 45us/step - loss: 0.0092 - acc: 0.9476 - val_loss: 0.0107 - val_acc: 0.9331\n",
      "Epoch 19/20\n",
      "60000/60000 [==============================] - 3s 45us/step - loss: 0.0089 - acc: 0.9499 - val_loss: 0.0105 - val_acc: 0.9338\n",
      "Epoch 20/20\n",
      "60000/60000 [==============================] - 3s 46us/step - loss: 0.0086 - acc: 0.9513 - val_loss: 0.0103 - val_acc: 0.9346\n"
     ]
    }
   ],
   "source": [
    "model_3_out=model_3.fit(x_train, y_train, batch_size=100, epochs=20,verbose =1,validation_data = (x_test,y_test))"
   ]
  },
  {
   "cell_type": "code",
   "execution_count": 10,
   "metadata": {},
   "outputs": [],
   "source": [
    "from keras.optimizers import Adagrad"
   ]
  },
  {
   "cell_type": "code",
   "execution_count": 13,
   "metadata": {},
   "outputs": [],
   "source": [
    "model_4 = Sequential()\n",
    "model_4.add(Dense(100, input_dim=784))\n",
    "model_4.add(Activation('selu'))\n",
    "model_4.add(Dense(100))\n",
    "model_4.add(Activation('selu'))\n",
    "model_4.add(Dense(10))\n",
    "model_4.add(Activation('softmax'))\n",
    "model_4.compile(loss='binary_crossentropy', optimizer=Adagrad(lr=0.087), metrics=['accuracy'])"
   ]
  },
  {
   "cell_type": "code",
   "execution_count": 14,
   "metadata": {},
   "outputs": [
    {
     "name": "stdout",
     "output_type": "stream",
     "text": [
      "Train on 60000 samples, validate on 10000 samples\n",
      "Epoch 1/20\n",
      "60000/60000 [==============================] - 2s 35us/step - loss: 2.8894 - acc: 0.8197 - val_loss: 2.8989 - val_acc: 0.8192\n",
      "Epoch 2/20\n",
      "60000/60000 [==============================] - 2s 31us/step - loss: 2.8898 - acc: 0.8197 - val_loss: 2.8989 - val_acc: 0.8192\n",
      "Epoch 3/20\n",
      "60000/60000 [==============================] - 2s 31us/step - loss: 2.8898 - acc: 0.8197 - val_loss: 2.8989 - val_acc: 0.8192\n",
      "Epoch 4/20\n",
      "60000/60000 [==============================] - 2s 31us/step - loss: 2.8898 - acc: 0.8197 - val_loss: 2.8989 - val_acc: 0.8192\n",
      "Epoch 5/20\n",
      "60000/60000 [==============================] - 2s 31us/step - loss: 2.8898 - acc: 0.8197 - val_loss: 2.8989 - val_acc: 0.8192\n",
      "Epoch 6/20\n",
      "60000/60000 [==============================] - 2s 31us/step - loss: 2.8898 - acc: 0.8197 - val_loss: 2.8989 - val_acc: 0.8192\n",
      "Epoch 7/20\n",
      "60000/60000 [==============================] - 2s 32us/step - loss: 2.8898 - acc: 0.8197 - val_loss: 2.8989 - val_acc: 0.8192\n",
      "Epoch 8/20\n",
      "60000/60000 [==============================] - 2s 31us/step - loss: 2.8898 - acc: 0.8197 - val_loss: 2.8989 - val_acc: 0.8192\n",
      "Epoch 9/20\n",
      "60000/60000 [==============================] - 2s 32us/step - loss: 2.8898 - acc: 0.8197 - val_loss: 2.8989 - val_acc: 0.8192\n",
      "Epoch 10/20\n",
      "60000/60000 [==============================] - 2s 33us/step - loss: 2.8898 - acc: 0.8197 - val_loss: 2.8989 - val_acc: 0.8192\n",
      "Epoch 11/20\n",
      "60000/60000 [==============================] - 2s 34us/step - loss: 2.8898 - acc: 0.8197 - val_loss: 2.8989 - val_acc: 0.8192\n",
      "Epoch 12/20\n",
      "60000/60000 [==============================] - 2s 33us/step - loss: 2.8898 - acc: 0.8197 - val_loss: 2.8989 - val_acc: 0.8192\n",
      "Epoch 13/20\n",
      "60000/60000 [==============================] - 2s 34us/step - loss: 2.8898 - acc: 0.8197 - val_loss: 2.8989 - val_acc: 0.8192\n",
      "Epoch 14/20\n",
      "60000/60000 [==============================] - 2s 33us/step - loss: 2.8898 - acc: 0.8197 - val_loss: 2.8989 - val_acc: 0.8192\n",
      "Epoch 15/20\n",
      "60000/60000 [==============================] - 2s 34us/step - loss: 2.8898 - acc: 0.8197 - val_loss: 2.8989 - val_acc: 0.8192\n",
      "Epoch 16/20\n",
      "60000/60000 [==============================] - 2s 35us/step - loss: 2.8898 - acc: 0.8197 - val_loss: 2.8989 - val_acc: 0.8192\n",
      "Epoch 17/20\n",
      "60000/60000 [==============================] - 2s 34us/step - loss: 2.8898 - acc: 0.8197 - val_loss: 2.8989 - val_acc: 0.8192\n",
      "Epoch 18/20\n",
      "60000/60000 [==============================] - 2s 33us/step - loss: 2.8898 - acc: 0.8197 - val_loss: 2.8989 - val_acc: 0.8192\n",
      "Epoch 19/20\n",
      "60000/60000 [==============================] - 2s 33us/step - loss: 2.8898 - acc: 0.8197 - val_loss: 2.8989 - val_acc: 0.8192\n",
      "Epoch 20/20\n",
      "60000/60000 [==============================] - 2s 34us/step - loss: 2.8898 - acc: 0.8197 - val_loss: 2.8989 - val_acc: 0.8192\n"
     ]
    }
   ],
   "source": [
    "model_4_out=model_4.fit(x_train, y_train, batch_size=100, epochs=20,verbose =1,validation_data = (x_test,y_test))"
   ]
  },
  {
   "cell_type": "code",
   "execution_count": 15,
   "metadata": {},
   "outputs": [],
   "source": [
    "model_5 = Sequential()\n",
    "model_5.add(Dense(100, input_dim=784))\n",
    "model_5.add(Activation('selu'))\n",
    "model_5.add(Dense(100))\n",
    "model_5.add(Activation('selu'))\n",
    "model_5.add(Dense(10))\n",
    "model_5.add(Activation('softmax'))\n",
    "model_5.compile(loss='binary_crossentropy', optimizer=Adagrad(lr=0.087), metrics=['accuracy'])"
   ]
  },
  {
   "cell_type": "code",
   "execution_count": 16,
   "metadata": {},
   "outputs": [
    {
     "name": "stdout",
     "output_type": "stream",
     "text": [
      "Train on 60000 samples, validate on 10000 samples\n",
      "Epoch 1/20\n",
      "60000/60000 [==============================] - 2s 40us/step - loss: 2.8779 - acc: 0.8205 - val_loss: 2.8822 - val_acc: 0.8202\n",
      "Epoch 2/20\n",
      "60000/60000 [==============================] - 2s 32us/step - loss: 2.8784 - acc: 0.8204 - val_loss: 2.8822 - val_acc: 0.8202\n",
      "Epoch 3/20\n",
      "60000/60000 [==============================] - 2s 32us/step - loss: 2.8784 - acc: 0.8204 - val_loss: 2.8822 - val_acc: 0.8202\n",
      "Epoch 4/20\n",
      "60000/60000 [==============================] - 2s 32us/step - loss: 2.8784 - acc: 0.8204 - val_loss: 2.8822 - val_acc: 0.8202\n",
      "Epoch 5/20\n",
      "60000/60000 [==============================] - 2s 33us/step - loss: 2.8784 - acc: 0.8204 - val_loss: 2.8822 - val_acc: 0.8202\n",
      "Epoch 6/20\n",
      "60000/60000 [==============================] - 2s 32us/step - loss: 2.8784 - acc: 0.8204 - val_loss: 2.8822 - val_acc: 0.8202\n",
      "Epoch 7/20\n",
      "60000/60000 [==============================] - 2s 32us/step - loss: 2.8784 - acc: 0.8204 - val_loss: 2.8822 - val_acc: 0.8202\n",
      "Epoch 8/20\n",
      "60000/60000 [==============================] - 2s 32us/step - loss: 2.8784 - acc: 0.8204 - val_loss: 2.8822 - val_acc: 0.8202\n",
      "Epoch 9/20\n",
      "60000/60000 [==============================] - 2s 32us/step - loss: 2.8784 - acc: 0.8204 - val_loss: 2.8822 - val_acc: 0.8202\n",
      "Epoch 10/20\n",
      "60000/60000 [==============================] - 2s 32us/step - loss: 2.8784 - acc: 0.8204 - val_loss: 2.8822 - val_acc: 0.8202\n",
      "Epoch 11/20\n",
      "60000/60000 [==============================] - 2s 32us/step - loss: 2.8784 - acc: 0.8204 - val_loss: 2.8822 - val_acc: 0.8202\n",
      "Epoch 12/20\n",
      "60000/60000 [==============================] - 2s 34us/step - loss: 2.8784 - acc: 0.8204 - val_loss: 2.8822 - val_acc: 0.8202\n",
      "Epoch 13/20\n",
      "60000/60000 [==============================] - 2s 33us/step - loss: 2.8784 - acc: 0.8204 - val_loss: 2.8822 - val_acc: 0.8202\n",
      "Epoch 14/20\n",
      "60000/60000 [==============================] - 2s 34us/step - loss: 2.8784 - acc: 0.8204 - val_loss: 2.8822 - val_acc: 0.8202\n",
      "Epoch 15/20\n",
      "60000/60000 [==============================] - 2s 34us/step - loss: 2.8784 - acc: 0.8204 - val_loss: 2.8822 - val_acc: 0.8202\n",
      "Epoch 16/20\n",
      "60000/60000 [==============================] - 2s 34us/step - loss: 2.8784 - acc: 0.8204 - val_loss: 2.8822 - val_acc: 0.8202\n",
      "Epoch 17/20\n",
      "60000/60000 [==============================] - 2s 34us/step - loss: 2.8784 - acc: 0.8204 - val_loss: 2.8822 - val_acc: 0.8202\n",
      "Epoch 18/20\n",
      "60000/60000 [==============================] - 2s 34us/step - loss: 2.8784 - acc: 0.8204 - val_loss: 2.8822 - val_acc: 0.8202\n",
      "Epoch 19/20\n",
      "60000/60000 [==============================] - 2s 35us/step - loss: 2.8784 - acc: 0.8204 - val_loss: 2.8822 - val_acc: 0.8202\n",
      "Epoch 20/20\n",
      "60000/60000 [==============================] - 2s 34us/step - loss: 2.8784 - acc: 0.8204 - val_loss: 2.8822 - val_acc: 0.8202\n"
     ]
    }
   ],
   "source": [
    "model_5_out=model_5.fit(x_train, y_train, batch_size=100, epochs=20,verbose =1,validation_data = (x_test,y_test))"
   ]
  },
  {
   "cell_type": "code",
   "execution_count": 17,
   "metadata": {},
   "outputs": [],
   "source": [
    "model_6 = Sequential()\n",
    "model_6.add(Dense(25, input_dim=784))\n",
    "model_6.add(Activation('selu'))\n",
    "model_6.add(Dense(25))\n",
    "model_6.add(Activation('selu'))\n",
    "model_6.add(Dense(10))\n",
    "model_6.add(Activation('softmax'))\n",
    "model_6.compile(loss='binary_crossentropy', optimizer=Adagrad(lr=0.087), metrics=['accuracy'])"
   ]
  },
  {
   "cell_type": "code",
   "execution_count": 18,
   "metadata": {},
   "outputs": [
    {
     "name": "stdout",
     "output_type": "stream",
     "text": [
      "Train on 60000 samples, validate on 10000 samples\n",
      "Epoch 1/20\n",
      "60000/60000 [==============================] - 2s 38us/step - loss: 2.8123 - acc: 0.8245 - val_loss: 2.8598 - val_acc: 0.8215\n",
      "Epoch 2/20\n",
      "60000/60000 [==============================] - 2s 30us/step - loss: 2.6857 - acc: 0.8324 - val_loss: 2.5314 - val_acc: 0.8420\n",
      "Epoch 3/20\n",
      "60000/60000 [==============================] - 2s 31us/step - loss: 2.5351 - acc: 0.8418 - val_loss: 2.3919 - val_acc: 0.8507\n",
      "Epoch 4/20\n",
      "60000/60000 [==============================] - 2s 30us/step - loss: 2.3481 - acc: 0.8534 - val_loss: 2.3486 - val_acc: 0.8534\n",
      "Epoch 5/20\n",
      "60000/60000 [==============================] - 2s 30us/step - loss: 2.3213 - acc: 0.8551 - val_loss: 2.3126 - val_acc: 0.8556\n",
      "Epoch 6/20\n",
      "60000/60000 [==============================] - 2s 31us/step - loss: 2.2971 - acc: 0.8566 - val_loss: 2.3605 - val_acc: 0.8527\n",
      "Epoch 7/20\n",
      "60000/60000 [==============================] - 2s 31us/step - loss: 2.4057 - acc: 0.8499 - val_loss: 2.2826 - val_acc: 0.8576\n",
      "Epoch 8/20\n",
      "60000/60000 [==============================] - 2s 30us/step - loss: 2.2844 - acc: 0.8574 - val_loss: 2.2765 - val_acc: 0.8579\n",
      "Epoch 9/20\n",
      "60000/60000 [==============================] - 2s 30us/step - loss: 2.2687 - acc: 0.8584 - val_loss: 2.3052 - val_acc: 0.8562\n",
      "Epoch 10/20\n",
      "60000/60000 [==============================] - 2s 31us/step - loss: 2.2408 - acc: 0.8601 - val_loss: 2.0991 - val_acc: 0.8690\n",
      "Epoch 11/20\n",
      "60000/60000 [==============================] - 2s 31us/step - loss: 2.0860 - acc: 0.8698 - val_loss: 1.9726 - val_acc: 0.8769\n",
      "Epoch 12/20\n",
      "60000/60000 [==============================] - 2s 30us/step - loss: 1.9858 - acc: 0.8760 - val_loss: 2.0037 - val_acc: 0.8750\n",
      "Epoch 13/20\n",
      "60000/60000 [==============================] - 2s 31us/step - loss: 1.9714 - acc: 0.8769 - val_loss: 1.9719 - val_acc: 0.8769\n",
      "Epoch 14/20\n",
      "60000/60000 [==============================] - 2s 33us/step - loss: 1.9668 - acc: 0.8772 - val_loss: 1.9638 - val_acc: 0.8773\n",
      "Epoch 15/20\n",
      "60000/60000 [==============================] - 2s 33us/step - loss: 1.9899 - acc: 0.8758 - val_loss: 1.9622 - val_acc: 0.8774\n",
      "Epoch 16/20\n",
      "60000/60000 [==============================] - 2s 34us/step - loss: 1.9784 - acc: 0.8765 - val_loss: 1.9518 - val_acc: 0.8781\n",
      "Epoch 17/20\n",
      "60000/60000 [==============================] - 2s 33us/step - loss: 1.9707 - acc: 0.8769 - val_loss: 1.9484 - val_acc: 0.8784\n",
      "Epoch 18/20\n",
      "60000/60000 [==============================] - 2s 33us/step - loss: 1.9462 - acc: 0.8785 - val_loss: 1.9297 - val_acc: 0.8796\n",
      "Epoch 19/20\n",
      "60000/60000 [==============================] - 2s 33us/step - loss: 1.9369 - acc: 0.8791 - val_loss: 1.9389 - val_acc: 0.8790\n",
      "Epoch 20/20\n",
      "60000/60000 [==============================] - 2s 32us/step - loss: 1.9401 - acc: 0.8789 - val_loss: 1.9472 - val_acc: 0.8785\n"
     ]
    }
   ],
   "source": [
    "model_6_out=model_6.fit(x_train, y_train, batch_size=100, epochs=20,verbose =1,validation_data = (x_test,y_test))"
   ]
  },
  {
   "cell_type": "code",
   "execution_count": 19,
   "metadata": {},
   "outputs": [],
   "source": [
    "model_7 = Sequential()\n",
    "model_7.add(Dense(25, input_dim=784))\n",
    "model_7.add(Activation('selu'))\n",
    "model_7.add(Dense(25))\n",
    "model_7.add(Activation('selu'))\n",
    "model_7.add(Dense(10))\n",
    "model_7.add(Activation('softmax'))\n",
    "model_7.compile(loss='binary_crossentropy', optimizer=Adagrad(lr=0.2), metrics=['accuracy'])"
   ]
  },
  {
   "cell_type": "code",
   "execution_count": 20,
   "metadata": {},
   "outputs": [
    {
     "name": "stdout",
     "output_type": "stream",
     "text": [
      "Train on 60000 samples, validate on 10000 samples\n",
      "Epoch 1/20\n",
      "60000/60000 [==============================] - 2s 38us/step - loss: 2.9165 - acc: 0.8180 - val_loss: 2.9201 - val_acc: 0.8178\n",
      "Epoch 2/20\n",
      "60000/60000 [==============================] - 2s 30us/step - loss: 2.9164 - acc: 0.8181 - val_loss: 2.9201 - val_acc: 0.8178\n",
      "Epoch 3/20\n",
      "60000/60000 [==============================] - 2s 30us/step - loss: 2.9164 - acc: 0.8181 - val_loss: 2.9201 - val_acc: 0.8178\n",
      "Epoch 4/20\n",
      "60000/60000 [==============================] - 2s 31us/step - loss: 2.9164 - acc: 0.8181 - val_loss: 2.9201 - val_acc: 0.8178\n",
      "Epoch 5/20\n",
      "60000/60000 [==============================] - 2s 30us/step - loss: 2.9164 - acc: 0.8181 - val_loss: 2.9201 - val_acc: 0.8178\n",
      "Epoch 6/20\n",
      "60000/60000 [==============================] - 2s 30us/step - loss: 2.9164 - acc: 0.8181 - val_loss: 2.9201 - val_acc: 0.8178\n",
      "Epoch 7/20\n",
      "60000/60000 [==============================] - 2s 31us/step - loss: 2.9164 - acc: 0.8181 - val_loss: 2.9201 - val_acc: 0.8178\n",
      "Epoch 8/20\n",
      "60000/60000 [==============================] - 2s 31us/step - loss: 2.9164 - acc: 0.8181 - val_loss: 2.9201 - val_acc: 0.8178\n",
      "Epoch 9/20\n",
      "60000/60000 [==============================] - 2s 32us/step - loss: 2.9164 - acc: 0.8181 - val_loss: 2.9201 - val_acc: 0.8178\n",
      "Epoch 10/20\n",
      "60000/60000 [==============================] - 2s 30us/step - loss: 2.9164 - acc: 0.8181 - val_loss: 2.9201 - val_acc: 0.8178\n",
      "Epoch 11/20\n",
      "60000/60000 [==============================] - 2s 30us/step - loss: 2.9164 - acc: 0.8181 - val_loss: 2.9201 - val_acc: 0.8178\n",
      "Epoch 12/20\n",
      "60000/60000 [==============================] - 2s 31us/step - loss: 2.9164 - acc: 0.8181 - val_loss: 2.9201 - val_acc: 0.8178\n",
      "Epoch 13/20\n",
      "60000/60000 [==============================] - 2s 33us/step - loss: 2.9164 - acc: 0.8181 - val_loss: 2.9201 - val_acc: 0.8178\n",
      "Epoch 14/20\n",
      "60000/60000 [==============================] - 2s 33us/step - loss: 2.9164 - acc: 0.8181 - val_loss: 2.9201 - val_acc: 0.8178\n",
      "Epoch 15/20\n",
      "60000/60000 [==============================] - 2s 35us/step - loss: 2.9164 - acc: 0.8181 - val_loss: 2.9201 - val_acc: 0.8178\n",
      "Epoch 16/20\n",
      "60000/60000 [==============================] - 2s 33us/step - loss: 2.9164 - acc: 0.8181 - val_loss: 2.9201 - val_acc: 0.8178\n",
      "Epoch 17/20\n",
      "60000/60000 [==============================] - 2s 33us/step - loss: 2.9164 - acc: 0.8181 - val_loss: 2.9201 - val_acc: 0.8178\n",
      "Epoch 18/20\n",
      "60000/60000 [==============================] - 2s 33us/step - loss: 2.9164 - acc: 0.8181 - val_loss: 2.9201 - val_acc: 0.8178\n",
      "Epoch 19/20\n",
      "60000/60000 [==============================] - 2s 34us/step - loss: 2.9164 - acc: 0.8181 - val_loss: 2.9201 - val_acc: 0.8178\n",
      "Epoch 20/20\n",
      "60000/60000 [==============================] - 2s 35us/step - loss: 2.9164 - acc: 0.8181 - val_loss: 2.9201 - val_acc: 0.8178\n"
     ]
    }
   ],
   "source": [
    "model_7_out=model_7.fit(x_train, y_train, batch_size=100, epochs=20,verbose =1,validation_data = (x_test,y_test))"
   ]
  },
  {
   "cell_type": "code",
   "execution_count": 21,
   "metadata": {},
   "outputs": [],
   "source": [
    "model_8 = Sequential()\n",
    "model_8.add(Dense(25, input_dim=784))\n",
    "model_8.add(Activation('selu'))\n",
    "model_8.add(Dense(25))\n",
    "model_8.add(Activation('selu'))\n",
    "model_8.add(Dense(10))\n",
    "model_8.add(Activation('softmax'))\n",
    "model_8.compile(loss='binary_crossentropy', optimizer=Adagrad(lr=0.1), metrics=['accuracy'])"
   ]
  },
  {
   "cell_type": "code",
   "execution_count": 22,
   "metadata": {},
   "outputs": [
    {
     "name": "stdout",
     "output_type": "stream",
     "text": [
      "Train on 60000 samples, validate on 10000 samples\n",
      "Epoch 1/20\n",
      "60000/60000 [==============================] - 2s 40us/step - loss: 2.8782 - acc: 0.8204 - val_loss: 2.8822 - val_acc: 0.8202\n",
      "Epoch 2/20\n",
      "60000/60000 [==============================] - 2s 30us/step - loss: 2.8784 - acc: 0.8204 - val_loss: 2.8822 - val_acc: 0.8202\n",
      "Epoch 3/20\n",
      "60000/60000 [==============================] - 2s 30us/step - loss: 2.8784 - acc: 0.8204 - val_loss: 2.8822 - val_acc: 0.8202\n",
      "Epoch 4/20\n",
      "60000/60000 [==============================] - 2s 30us/step - loss: 2.8784 - acc: 0.8204 - val_loss: 2.8822 - val_acc: 0.8202\n",
      "Epoch 5/20\n",
      "60000/60000 [==============================] - 2s 31us/step - loss: 2.8784 - acc: 0.8204 - val_loss: 2.8822 - val_acc: 0.8202\n",
      "Epoch 6/20\n",
      "60000/60000 [==============================] - 2s 30us/step - loss: 2.8784 - acc: 0.8204 - val_loss: 2.8822 - val_acc: 0.8202\n",
      "Epoch 7/20\n",
      "60000/60000 [==============================] - 2s 31us/step - loss: 2.8784 - acc: 0.8204 - val_loss: 2.8822 - val_acc: 0.8202\n",
      "Epoch 8/20\n",
      "60000/60000 [==============================] - 2s 31us/step - loss: 2.8784 - acc: 0.8204 - val_loss: 2.8822 - val_acc: 0.8202\n",
      "Epoch 9/20\n",
      "60000/60000 [==============================] - 2s 30us/step - loss: 2.8784 - acc: 0.8204 - val_loss: 2.8822 - val_acc: 0.8202\n",
      "Epoch 10/20\n",
      "60000/60000 [==============================] - 2s 31us/step - loss: 2.8784 - acc: 0.8204 - val_loss: 2.8822 - val_acc: 0.8202\n",
      "Epoch 11/20\n",
      "60000/60000 [==============================] - 2s 31us/step - loss: 2.8784 - acc: 0.8204 - val_loss: 2.8822 - val_acc: 0.8202\n",
      "Epoch 12/20\n",
      "60000/60000 [==============================] - 2s 31us/step - loss: 2.8784 - acc: 0.8204 - val_loss: 2.8822 - val_acc: 0.8202\n",
      "Epoch 13/20\n",
      "60000/60000 [==============================] - 2s 33us/step - loss: 2.8784 - acc: 0.8204 - val_loss: 2.8822 - val_acc: 0.8202\n",
      "Epoch 14/20\n",
      "60000/60000 [==============================] - 2s 33us/step - loss: 2.8784 - acc: 0.8204 - val_loss: 2.8822 - val_acc: 0.8202\n",
      "Epoch 15/20\n",
      "60000/60000 [==============================] - 2s 33us/step - loss: 2.8784 - acc: 0.8204 - val_loss: 2.8822 - val_acc: 0.8202\n",
      "Epoch 16/20\n",
      "60000/60000 [==============================] - 2s 33us/step - loss: 2.8784 - acc: 0.8204 - val_loss: 2.8822 - val_acc: 0.8202\n",
      "Epoch 17/20\n",
      "60000/60000 [==============================] - 2s 33us/step - loss: 2.8784 - acc: 0.8204 - val_loss: 2.8822 - val_acc: 0.8202\n",
      "Epoch 18/20\n",
      "60000/60000 [==============================] - 2s 33us/step - loss: 2.8784 - acc: 0.8204 - val_loss: 2.8822 - val_acc: 0.8202\n",
      "Epoch 19/20\n",
      "60000/60000 [==============================] - 2s 34us/step - loss: 2.8784 - acc: 0.8204 - val_loss: 2.8822 - val_acc: 0.8202\n",
      "Epoch 20/20\n",
      "60000/60000 [==============================] - 2s 34us/step - loss: 2.8784 - acc: 0.8204 - val_loss: 2.8822 - val_acc: 0.8202\n"
     ]
    }
   ],
   "source": [
    "model_8_out=model_8.fit(x_train, y_train, batch_size=100, epochs=20,verbose =1,validation_data = (x_test,y_test))"
   ]
  },
  {
   "cell_type": "code",
   "execution_count": 24,
   "metadata": {},
   "outputs": [],
   "source": [
    "model_9 = Sequential()\n",
    "model_9.add(Dense(25, input_dim=784))\n",
    "model_9.add(Activation('selu'))\n",
    "model_9.add(Dense(25))\n",
    "model_9.add(Activation('selu'))\n",
    "model_9.add(Dense(10))\n",
    "model_9.add(Activation('softmax'))\n",
    "model_9.compile(loss='binary_crossentropy', optimizer=Adagrad(lr=0.1), metrics=['accuracy'])"
   ]
  },
  {
   "cell_type": "code",
   "execution_count": 25,
   "metadata": {},
   "outputs": [
    {
     "name": "stdout",
     "output_type": "stream",
     "text": [
      "Train on 60000 samples, validate on 10000 samples\n",
      "Epoch 1/20\n",
      "60000/60000 [==============================] - 2s 41us/step - loss: 0.0689 - acc: 0.9796 - val_loss: 0.0321 - val_acc: 0.9892\n",
      "Epoch 2/20\n",
      "60000/60000 [==============================] - 2s 32us/step - loss: 0.0286 - acc: 0.9905 - val_loss: 0.0274 - val_acc: 0.9908\n",
      "Epoch 3/20\n",
      "60000/60000 [==============================] - 2s 32us/step - loss: 0.0231 - acc: 0.9924 - val_loss: 0.0239 - val_acc: 0.9920\n",
      "Epoch 4/20\n",
      "60000/60000 [==============================] - 2s 32us/step - loss: 0.0202 - acc: 0.9934 - val_loss: 0.0229 - val_acc: 0.9923\n",
      "Epoch 5/20\n",
      "60000/60000 [==============================] - 2s 34us/step - loss: 0.0182 - acc: 0.9941 - val_loss: 0.0223 - val_acc: 0.9926\n",
      "Epoch 6/20\n",
      "60000/60000 [==============================] - 2s 32us/step - loss: 0.0168 - acc: 0.9945 - val_loss: 0.0225 - val_acc: 0.9929\n",
      "Epoch 7/20\n",
      "60000/60000 [==============================] - 2s 32us/step - loss: 0.0154 - acc: 0.9949 - val_loss: 0.0224 - val_acc: 0.9925\n",
      "Epoch 8/20\n",
      "60000/60000 [==============================] - 2s 32us/step - loss: 0.0143 - acc: 0.9954 - val_loss: 0.0212 - val_acc: 0.9933\n",
      "Epoch 9/20\n",
      "60000/60000 [==============================] - 2s 32us/step - loss: 0.0135 - acc: 0.9957 - val_loss: 0.0206 - val_acc: 0.9934\n",
      "Epoch 10/20\n",
      "60000/60000 [==============================] - 2s 33us/step - loss: 0.0127 - acc: 0.9959 - val_loss: 0.0210 - val_acc: 0.9932\n",
      "Epoch 11/20\n",
      "60000/60000 [==============================] - 2s 32us/step - loss: 0.0122 - acc: 0.9960 - val_loss: 0.0211 - val_acc: 0.9936\n",
      "Epoch 12/20\n",
      "60000/60000 [==============================] - 2s 32us/step - loss: 0.0115 - acc: 0.9963 - val_loss: 0.0213 - val_acc: 0.9935\n",
      "Epoch 13/20\n",
      "60000/60000 [==============================] - 2s 34us/step - loss: 0.0110 - acc: 0.9965 - val_loss: 0.0209 - val_acc: 0.9933\n",
      "Epoch 14/20\n",
      "60000/60000 [==============================] - 2s 34us/step - loss: 0.0104 - acc: 0.9967 - val_loss: 0.0211 - val_acc: 0.9933\n",
      "Epoch 15/20\n",
      "60000/60000 [==============================] - 2s 34us/step - loss: 0.0100 - acc: 0.9968 - val_loss: 0.0221 - val_acc: 0.9933\n",
      "Epoch 16/20\n",
      "60000/60000 [==============================] - 2s 34us/step - loss: 0.0096 - acc: 0.9970 - val_loss: 0.0212 - val_acc: 0.9936\n",
      "Epoch 17/20\n",
      "60000/60000 [==============================] - 2s 34us/step - loss: 0.0092 - acc: 0.9971 - val_loss: 0.0216 - val_acc: 0.9933\n",
      "Epoch 18/20\n",
      "60000/60000 [==============================] - 2s 34us/step - loss: 0.0087 - acc: 0.9973 - val_loss: 0.0214 - val_acc: 0.9935\n",
      "Epoch 19/20\n",
      "60000/60000 [==============================] - 2s 34us/step - loss: 0.0084 - acc: 0.9974 - val_loss: 0.0222 - val_acc: 0.9934\n",
      "Epoch 20/20\n",
      "60000/60000 [==============================] - 2s 35us/step - loss: 0.0081 - acc: 0.9975 - val_loss: 0.0222 - val_acc: 0.9933\n"
     ]
    }
   ],
   "source": [
    "model_9_out=model_9.fit(x_train, y_train, batch_size=100, epochs=20,verbose =1,validation_data = (x_test,y_test))"
   ]
  },
  {
   "cell_type": "code",
   "execution_count": 26,
   "metadata": {},
   "outputs": [],
   "source": [
    "model_10 = Sequential()\n",
    "model_10.add(Dense(100, input_dim=784))\n",
    "model_10.add(Activation('selu'))\n",
    "model_10.add(Dense(100))\n",
    "model_10.add(Activation('selu'))\n",
    "model_10.add(Dense(10))\n",
    "model_10.add(Activation('softmax'))\n",
    "model_10.compile(loss='binary_crossentropy', optimizer=Adagrad(lr=0.1), metrics=['accuracy'])"
   ]
  },
  {
   "cell_type": "code",
   "execution_count": 27,
   "metadata": {},
   "outputs": [
    {
     "name": "stdout",
     "output_type": "stream",
     "text": [
      "Train on 60000 samples, validate on 10000 samples\n",
      "Epoch 1/20\n",
      "60000/60000 [==============================] - 3s 43us/step - loss: 2.8801 - acc: 0.8200 - val_loss: 2.8919 - val_acc: 0.8196\n",
      "Epoch 2/20\n",
      "60000/60000 [==============================] - 2s 34us/step - loss: 2.8896 - acc: 0.8197 - val_loss: 2.8919 - val_acc: 0.8196\n",
      "Epoch 3/20\n",
      "60000/60000 [==============================] - 2s 34us/step - loss: 2.8896 - acc: 0.8197 - val_loss: 2.8919 - val_acc: 0.8196\n",
      "Epoch 4/20\n",
      "60000/60000 [==============================] - 2s 34us/step - loss: 2.8896 - acc: 0.8197 - val_loss: 2.8919 - val_acc: 0.8196\n",
      "Epoch 5/20\n",
      "60000/60000 [==============================] - 2s 34us/step - loss: 2.8896 - acc: 0.8197 - val_loss: 2.8919 - val_acc: 0.8196\n",
      "Epoch 6/20\n",
      "60000/60000 [==============================] - 2s 34us/step - loss: 2.8896 - acc: 0.8197 - val_loss: 2.8919 - val_acc: 0.8196\n",
      "Epoch 7/20\n",
      "60000/60000 [==============================] - 2s 34us/step - loss: 2.8896 - acc: 0.8197 - val_loss: 2.8919 - val_acc: 0.8196\n",
      "Epoch 8/20\n",
      "60000/60000 [==============================] - 2s 33us/step - loss: 2.8896 - acc: 0.8197 - val_loss: 2.8919 - val_acc: 0.8196\n",
      "Epoch 9/20\n",
      "60000/60000 [==============================] - 2s 33us/step - loss: 2.8896 - acc: 0.8197 - val_loss: 2.8919 - val_acc: 0.8196\n",
      "Epoch 10/20\n",
      "60000/60000 [==============================] - 2s 34us/step - loss: 2.8896 - acc: 0.8197 - val_loss: 2.8919 - val_acc: 0.8196\n",
      "Epoch 11/20\n",
      "60000/60000 [==============================] - 2s 34us/step - loss: 2.8896 - acc: 0.8197 - val_loss: 2.8919 - val_acc: 0.8196\n",
      "Epoch 12/20\n",
      "60000/60000 [==============================] - 2s 34us/step - loss: 2.8896 - acc: 0.8197 - val_loss: 2.8919 - val_acc: 0.8196\n",
      "Epoch 13/20\n",
      "60000/60000 [==============================] - 2s 35us/step - loss: 2.8896 - acc: 0.8197 - val_loss: 2.8919 - val_acc: 0.8196\n",
      "Epoch 14/20\n",
      "60000/60000 [==============================] - 2s 35us/step - loss: 2.8896 - acc: 0.8197 - val_loss: 2.8919 - val_acc: 0.8196\n",
      "Epoch 15/20\n",
      "60000/60000 [==============================] - 2s 37us/step - loss: 2.8896 - acc: 0.8197 - val_loss: 2.8919 - val_acc: 0.8196\n",
      "Epoch 16/20\n",
      "60000/60000 [==============================] - 2s 37us/step - loss: 2.8896 - acc: 0.8197 - val_loss: 2.8919 - val_acc: 0.8196\n",
      "Epoch 17/20\n",
      "60000/60000 [==============================] - 2s 37us/step - loss: 2.8896 - acc: 0.8197 - val_loss: 2.8919 - val_acc: 0.8196\n",
      "Epoch 18/20\n",
      "60000/60000 [==============================] - 2s 36us/step - loss: 2.8896 - acc: 0.8197 - val_loss: 2.8919 - val_acc: 0.8196\n",
      "Epoch 19/20\n",
      "60000/60000 [==============================] - 2s 35us/step - loss: 2.8896 - acc: 0.8197 - val_loss: 2.8919 - val_acc: 0.8196\n",
      "Epoch 20/20\n",
      "60000/60000 [==============================] - 2s 35us/step - loss: 2.8896 - acc: 0.8197 - val_loss: 2.8919 - val_acc: 0.8196\n"
     ]
    }
   ],
   "source": [
    "model_10_out=model_10.fit(x_train, y_train, batch_size=100, epochs=20,verbose =1,validation_data = (x_test,y_test))"
   ]
  },
  {
   "cell_type": "code",
   "execution_count": 28,
   "metadata": {},
   "outputs": [],
   "source": [
    "model_11 = Sequential()\n",
    "model_11.add(Dense(100, input_dim=784))\n",
    "model_11.add(Activation('selu'))\n",
    "model_11.add(Dense(100))\n",
    "model_11.add(Activation('selu'))\n",
    "model_11.add(Dense(50))\n",
    "model_11.add(Activation('selu'))\n",
    "model_11.add(Dense(10))\n",
    "model_11.add(Activation('softmax'))\n",
    "model_11.compile(loss='binary_crossentropy', optimizer=Adagrad(lr=0.1), metrics=['accuracy'])"
   ]
  },
  {
   "cell_type": "code",
   "execution_count": 29,
   "metadata": {},
   "outputs": [
    {
     "name": "stdout",
     "output_type": "stream",
     "text": [
      "Train on 60000 samples, validate on 10000 samples\n",
      "Epoch 1/20\n",
      "60000/60000 [==============================] - 3s 49us/step - loss: 2.8884 - acc: 0.8196 - val_loss: 2.8912 - val_acc: 0.8196\n",
      "Epoch 2/20\n",
      "60000/60000 [==============================] - 2s 36us/step - loss: 2.8939 - acc: 0.8195 - val_loss: 2.8912 - val_acc: 0.8196\n",
      "Epoch 3/20\n",
      "60000/60000 [==============================] - 2s 36us/step - loss: 2.8939 - acc: 0.8195 - val_loss: 2.8912 - val_acc: 0.8196\n",
      "Epoch 4/20\n",
      "60000/60000 [==============================] - 2s 37us/step - loss: 2.8939 - acc: 0.8195 - val_loss: 2.8912 - val_acc: 0.8196\n",
      "Epoch 5/20\n",
      "60000/60000 [==============================] - 2s 37us/step - loss: 2.8939 - acc: 0.8195 - val_loss: 2.8912 - val_acc: 0.8196\n",
      "Epoch 6/20\n",
      "60000/60000 [==============================] - 2s 36us/step - loss: 2.8939 - acc: 0.8195 - val_loss: 2.8912 - val_acc: 0.8196\n",
      "Epoch 7/20\n",
      "60000/60000 [==============================] - 2s 37us/step - loss: 2.8939 - acc: 0.8195 - val_loss: 2.8912 - val_acc: 0.8196\n",
      "Epoch 8/20\n",
      "60000/60000 [==============================] - 2s 37us/step - loss: 2.8939 - acc: 0.8195 - val_loss: 2.8912 - val_acc: 0.8196\n",
      "Epoch 9/20\n",
      "60000/60000 [==============================] - 2s 37us/step - loss: 2.8939 - acc: 0.8195 - val_loss: 2.8912 - val_acc: 0.8196\n",
      "Epoch 10/20\n",
      "60000/60000 [==============================] - 2s 37us/step - loss: 2.8939 - acc: 0.8195 - val_loss: 2.8912 - val_acc: 0.8196\n",
      "Epoch 11/20\n",
      "60000/60000 [==============================] - 2s 37us/step - loss: 2.8939 - acc: 0.8195 - val_loss: 2.8912 - val_acc: 0.8196\n",
      "Epoch 12/20\n",
      "60000/60000 [==============================] - 2s 39us/step - loss: 2.8939 - acc: 0.8195 - val_loss: 2.8912 - val_acc: 0.8196\n",
      "Epoch 13/20\n",
      "60000/60000 [==============================] - 2s 39us/step - loss: 2.8939 - acc: 0.8195 - val_loss: 2.8912 - val_acc: 0.8196\n",
      "Epoch 14/20\n",
      "60000/60000 [==============================] - 2s 39us/step - loss: 2.8939 - acc: 0.8195 - val_loss: 2.8912 - val_acc: 0.8196\n",
      "Epoch 15/20\n",
      "60000/60000 [==============================] - 2s 38us/step - loss: 2.8939 - acc: 0.8195 - val_loss: 2.8912 - val_acc: 0.8196\n",
      "Epoch 16/20\n",
      "60000/60000 [==============================] - 2s 39us/step - loss: 2.8939 - acc: 0.8195 - val_loss: 2.8912 - val_acc: 0.8196\n",
      "Epoch 17/20\n",
      "60000/60000 [==============================] - 2s 39us/step - loss: 2.8939 - acc: 0.8195 - val_loss: 2.8912 - val_acc: 0.8196\n",
      "Epoch 18/20\n",
      "60000/60000 [==============================] - 2s 39us/step - loss: 2.8939 - acc: 0.8195 - val_loss: 2.8912 - val_acc: 0.8196\n",
      "Epoch 19/20\n",
      "60000/60000 [==============================] - 2s 39us/step - loss: 2.8939 - acc: 0.8195 - val_loss: 2.8912 - val_acc: 0.8196\n",
      "Epoch 20/20\n",
      "60000/60000 [==============================] - 2s 38us/step - loss: 2.8939 - acc: 0.8195 - val_loss: 2.8912 - val_acc: 0.8196\n"
     ]
    }
   ],
   "source": [
    "model_11_out=model_11.fit(x_train, y_train, batch_size=100, epochs=20,verbose =1,validation_data = (x_test,y_test))"
   ]
  },
  {
   "cell_type": "code",
   "execution_count": 30,
   "metadata": {},
   "outputs": [],
   "source": [
    "model_12 = Sequential()\n",
    "model_12.add(Dense(25, input_dim=784))\n",
    "model_12.add(Activation('selu'))\n",
    "model_12.add(Dense(20))\n",
    "model_12.add(Activation('selu'))\n",
    "model_12.add(Dense(15))\n",
    "model_12.add(Activation('selu'))\n",
    "model_12.add(Dense(10))\n",
    "model_12.add(Activation('softmax'))\n",
    "model_12.compile(loss='binary_crossentropy', optimizer=Adagrad(lr=0.1), metrics=['accuracy'])"
   ]
  },
  {
   "cell_type": "code",
   "execution_count": 31,
   "metadata": {},
   "outputs": [
    {
     "name": "stdout",
     "output_type": "stream",
     "text": [
      "Train on 60000 samples, validate on 10000 samples\n",
      "Epoch 1/20\n",
      "60000/60000 [==============================] - 3s 44us/step - loss: 2.8939 - acc: 0.8195 - val_loss: 2.8912 - val_acc: 0.8196\n",
      "Epoch 2/20\n",
      "60000/60000 [==============================] - 2s 37us/step - loss: 2.8939 - acc: 0.8195 - val_loss: 2.8912 - val_acc: 0.8196\n",
      "Epoch 3/20\n",
      "60000/60000 [==============================] - 2s 37us/step - loss: 2.8939 - acc: 0.8195 - val_loss: 2.8912 - val_acc: 0.8196\n",
      "Epoch 4/20\n",
      "60000/60000 [==============================] - 2s 37us/step - loss: 2.8939 - acc: 0.8195 - val_loss: 2.8912 - val_acc: 0.8196\n",
      "Epoch 5/20\n",
      "60000/60000 [==============================] - 2s 37us/step - loss: 2.8939 - acc: 0.8195 - val_loss: 2.8912 - val_acc: 0.8196\n",
      "Epoch 6/20\n",
      "60000/60000 [==============================] - 2s 38us/step - loss: 2.8939 - acc: 0.8195 - val_loss: 2.8912 - val_acc: 0.8196\n",
      "Epoch 7/20\n",
      "60000/60000 [==============================] - 2s 37us/step - loss: 2.8939 - acc: 0.8195 - val_loss: 2.8912 - val_acc: 0.8196\n",
      "Epoch 8/20\n",
      "60000/60000 [==============================] - 2s 37us/step - loss: 2.8939 - acc: 0.8195 - val_loss: 2.8912 - val_acc: 0.8196\n",
      "Epoch 9/20\n",
      "60000/60000 [==============================] - 2s 37us/step - loss: 2.8939 - acc: 0.8195 - val_loss: 2.8912 - val_acc: 0.8196\n",
      "Epoch 10/20\n",
      "60000/60000 [==============================] - 2s 37us/step - loss: 2.8939 - acc: 0.8195 - val_loss: 2.8912 - val_acc: 0.8196\n",
      "Epoch 11/20\n",
      "60000/60000 [==============================] - 2s 37us/step - loss: 2.8939 - acc: 0.8195 - val_loss: 2.8912 - val_acc: 0.8196\n",
      "Epoch 12/20\n",
      "60000/60000 [==============================] - 2s 37us/step - loss: 2.8939 - acc: 0.8195 - val_loss: 2.8912 - val_acc: 0.8196\n",
      "Epoch 13/20\n",
      "60000/60000 [==============================] - 2s 37us/step - loss: 2.8939 - acc: 0.8195 - val_loss: 2.8912 - val_acc: 0.8196\n",
      "Epoch 14/20\n",
      "60000/60000 [==============================] - 2s 37us/step - loss: 2.8939 - acc: 0.8195 - val_loss: 2.8912 - val_acc: 0.8196\n",
      "Epoch 15/20\n",
      "60000/60000 [==============================] - 2s 37us/step - loss: 2.8939 - acc: 0.8195 - val_loss: 2.8912 - val_acc: 0.8196\n",
      "Epoch 16/20\n",
      "60000/60000 [==============================] - 2s 38us/step - loss: 2.8939 - acc: 0.8195 - val_loss: 2.8912 - val_acc: 0.8196\n",
      "Epoch 17/20\n",
      "60000/60000 [==============================] - 2s 38us/step - loss: 2.8939 - acc: 0.8195 - val_loss: 2.8912 - val_acc: 0.8196\n",
      "Epoch 18/20\n",
      "60000/60000 [==============================] - 2s 39us/step - loss: 2.8939 - acc: 0.8195 - val_loss: 2.8912 - val_acc: 0.8196\n",
      "Epoch 19/20\n",
      "60000/60000 [==============================] - 2s 39us/step - loss: 2.8939 - acc: 0.8195 - val_loss: 2.8912 - val_acc: 0.8196\n",
      "Epoch 20/20\n",
      "60000/60000 [==============================] - 2s 40us/step - loss: 2.8939 - acc: 0.8195 - val_loss: 2.8912 - val_acc: 0.8196\n"
     ]
    }
   ],
   "source": [
    "model_12_out=model_11.fit(x_train, y_train, batch_size=100, epochs=20,verbose =1,validation_data = (x_test,y_test))"
   ]
  },
  {
   "cell_type": "code",
   "execution_count": null,
   "metadata": {},
   "outputs": [],
   "source": []
  }
 ],
 "metadata": {
  "kernelspec": {
   "display_name": "Python (tensorflow-gpu)",
   "language": "python",
   "name": "tensorflow-gpu"
  },
  "language_info": {
   "codemirror_mode": {
    "name": "ipython",
    "version": 3
   },
   "file_extension": ".py",
   "mimetype": "text/x-python",
   "name": "python",
   "nbconvert_exporter": "python",
   "pygments_lexer": "ipython3",
   "version": "3.6.8"
  }
 },
 "nbformat": 4,
 "nbformat_minor": 2
}
